{
 "cells": [
  {
   "cell_type": "code",
   "execution_count": 5,
   "id": "initial_id",
   "metadata": {
    "collapsed": true,
    "ExecuteTime": {
     "end_time": "2024-04-07T03:26:26.334560Z",
     "start_time": "2024-04-07T03:26:26.278509Z"
    }
   },
   "outputs": [],
   "source": [
    "import keras.utils\n",
    "import numpy as np\n",
    "from keras.models import Model\n",
    "from keras.layers import Input, Dense, Conv2D, MaxPooling2D, Flatten\n",
    "\n",
    "inp = Input(shape=(240, 320, 1))\n",
    "\n",
    "n_filters = 512\n",
    "max_p = inp\n",
    "\n",
    "for _ in range(3):\n",
    "    conv = Conv2D(filters=n_filters, kernel_size=5, activation='relu')(max_p)\n",
    "    max_p = MaxPooling2D(pool_size=(2, 2))(conv)\n",
    "    \n",
    "    n_filters //= 2\n",
    "\n",
    "conv = Conv2D(filters=n_filters, kernel_size=3, activation='relu')(max_p)\n",
    "max_p = MaxPooling2D(pool_size=(2, 2))(conv)\n",
    "\n",
    "flatten = Flatten()(max_p)\n",
    "dense = Dense(128, activation='relu')(flatten)\n",
    "\n",
    "head_out = Dense(1, activation='linear', name='head_out')(dense)\n",
    "neck_out = Dense(1, activation='linear', name='neck_out')(dense)\n",
    "shoulder_to_shoulder_out = Dense(1, activation='linear', name='shoulder_to_shoulder_out')(dense)\n",
    "shoulder_to_wrist_out = Dense(1, activation='linear', name='shoulder_to_wrist_out')(dense)\n",
    "torso_out = Dense(1, activation='linear', name='torso_out')(dense)\n",
    "bicep_out = Dense(1, activation='linear', name='bicep_out')(dense)\n",
    "wrist_out = Dense(1, activation='linear', name='wrist_out')(dense)\n",
    "chest_out = Dense(1, activation='linear', name='chest_out')(dense)\n",
    "waist_out = Dense(1, activation='linear', name='waist_out')(dense)\n",
    "pelvis_out = Dense(1, activation='linear', name='pelvis_out')(dense)\n",
    "inner_leg_out = Dense(1, activation='linear', name='inner_leg_out')(dense)\n",
    "thigh_out = Dense(1, activation='linear', name='thigh_out')(dense)\n",
    "knee_out = Dense(1, activation='linear', name='knee_out')(dense)\n",
    "calf_out = Dense(1, activation='linear', name='calf_out')(dense)\n",
    "\n",
    "\n",
    "model = Model(\n",
    "    inputs=inp,\n",
    "    outputs=[\n",
    "    head_out,\n",
    "    neck_out,\n",
    "    shoulder_to_shoulder_out,\n",
    "    shoulder_to_wrist_out,\n",
    "    torso_out,\n",
    "    bicep_out,\n",
    "    wrist_out,\n",
    "    chest_out,\n",
    "    waist_out,\n",
    "    pelvis_out,\n",
    "    inner_leg_out,\n",
    "    thigh_out,\n",
    "    knee_out,\n",
    "    calf_out\n",
    "    ],\n",
    "    name='conv_bodies'\n",
    ")\n",
    "\n",
    "#model.save_weights(\"default.weights.h5\")\n",
    "\n",
    "#model.summary()\n",
    "\n",
    "# from keras.utils import plot_model\n",
    "# \n",
    "# plot_model(model, to_file='model.png', show_shapes=True, show_layer_names=True, show_layer_activations=True)"
   ]
  },
  {
   "cell_type": "code",
   "outputs": [],
   "source": [
    "import os\n",
    "import cv2\n",
    "import random\n",
    "\n",
    "class Database_Loader(keras.utils.Sequence):\n",
    "    \n",
    "    def __init__(self, image_location, data_location, sample_count, batch_size, dataset = \"Surreact\", shuffle=True, seed=0, input_dimensions=(240, 320), prefix=\"Avatar_\", use_memory=False, load_data = True, random_sample = False):\n",
    "        self.image_location = image_location\n",
    "        self.data_location = data_location\n",
    "        self.sample_count = sample_count\n",
    "        self.batch_size = batch_size\n",
    "        self.shuffle = shuffle\n",
    "        self.seed = seed\n",
    "        self.input_dimensions = input_dimensions\n",
    "        self.prefix = prefix\n",
    "        self.use_memory = use_memory\n",
    "        self.load_data = load_data\n",
    "        self.random_sample = random_sample\n",
    "        self.dataset = dataset\n",
    "\n",
    "        if self.random_sample:\n",
    "            self.IDs = random.sample(range(len(os.listdir(self.image_location))),self.sample_count)\n",
    "        else:\n",
    "            self.IDs = [x for x in range(self.sample_count)]\n",
    "            self._load_data()\n",
    "\n",
    "        super().__init__(workers=2, use_multiprocessing=True)\n",
    "        self.on_epoch_end()\n",
    "        \n",
    "    def __len__(self):\n",
    "        return int(np.floor(self.sample_count / self.batch_size))\n",
    "    \n",
    "    \n",
    "    def _load_data(self):\n",
    "        if self.load_data:\n",
    "            self.data = dict()\n",
    "            for index in self.IDs:\n",
    "                self.data[index] = np.load(os.path.join(self.data_location + self.prefix + f\"{index:06d}.npy\"))\n",
    "\n",
    "        if self.use_memory:\n",
    "            self.images = dict()\n",
    "            for index in self.IDs:\n",
    "                self.images[index] = cv2.imread(os.path.join(self.image_location + self.prefix + f\"{index:06d}.png\"), cv2.IMREAD_GRAYSCALE)\n",
    "    \n",
    "    def __getitem__(self, index):\n",
    "        X = np.empty(shape=(self.batch_size, 240, 320))\n",
    "        y = {\n",
    "            'head_out': [],\n",
    "            'neck_out': [],\n",
    "            'shoulder_to_shoulder_out': [],\n",
    "            'shoulder_to_wrist_out': [],\n",
    "            'torso_out': [],\n",
    "            'bicep_out': [],\n",
    "            'wrist_out': [],\n",
    "            'chest_out': [],\n",
    "            'waist_out': [],\n",
    "            'pelvis_out': [],\n",
    "            'inner_leg_out': [],\n",
    "            'thigh_out': [],\n",
    "            'knee_out': [],\n",
    "            'calf_out': []\n",
    "        }\n",
    "\n",
    "\n",
    "\n",
    "        start_index = index * self.batch_size + 1\n",
    "        \n",
    "        for i in range(self.batch_size):\n",
    "            name = f\"{self.IDs[(start_index + i)%self.sample_count]:06d}\"\n",
    "            \n",
    "            if self.load_data:\n",
    "                current_measurement = self.data[self.IDs[(start_index + i)%self.sample_count]][:-1]          \n",
    "            else:\n",
    "                current_measurement = np.load(os.path.join(self.data_location + self.prefix + name + \".npy\"))[:-1]\n",
    "                \n",
    "            if self.use_memory:\n",
    "                X[i,] = self.images[self.IDs[(start_index + i)%self.sample_count]]\n",
    "                \n",
    "            else:\n",
    "                X[i,] = cv2.imread(os.path.join(self.image_location + self.prefix + name + \".png\"), cv2.IMREAD_GRAYSCALE)\n",
    "                \n",
    "\n",
    "            y['head_out'].append([current_measurement[0]])\n",
    "            y['neck_out'].append([current_measurement[1]])\n",
    "            y['shoulder_to_shoulder_out'].append([current_measurement[2]])\n",
    "            y['shoulder_to_wrist_out'].append([current_measurement[4]])\n",
    "            y['torso_out'].append([current_measurement[5]])\n",
    "            y['bicep_out'].append([current_measurement[6]])\n",
    "            y['wrist_out'].append([current_measurement[7]])\n",
    "            y['chest_out'].append([current_measurement[8]])\n",
    "            y['waist_out'].append([current_measurement[9]])\n",
    "            y['pelvis_out'].append([current_measurement[10]])\n",
    "            y['inner_leg_out'].append([current_measurement[12]])\n",
    "            y['thigh_out'].append([current_measurement[13]])\n",
    "            y['knee_out'].append([current_measurement[14]])\n",
    "            y['calf_out'].append([current_measurement[15]])\n",
    "\n",
    "        for key, value in y.items():\n",
    "            y[key] = np.array(value)\n",
    "            \n",
    "        return X, y\n",
    "    \n",
    "    def on_epoch_end(self):\n",
    "        if self.random_sample:\n",
    "            self.IDs = random.sample(range(len(os.listdir(self.image_location))),self.sample_count)\n",
    "            self._load_data()\n",
    "\n",
    "        if self.shuffle:\n",
    "            np.random.seed(self.seed)\n",
    "            np.random.shuffle(self.IDs)\n",
    "        else:\n",
    "            self.IDs = np.arange(self.sample_count)\n",
    "         "
   ],
   "metadata": {
    "collapsed": false,
    "ExecuteTime": {
     "end_time": "2024-04-07T03:26:29.696213Z",
     "start_time": "2024-04-07T03:26:29.685731Z"
    }
   },
   "id": "e9bd08ef645fecfa",
   "execution_count": 6
  },
  {
   "cell_type": "code",
   "outputs": [],
   "source": [
    "quickTrain = {\n",
    "                'image_location': \"../Surreact-APose/train/imgs_nobg_frontEDITED/\", \n",
    "                'data_location': \"../Surreact-APose/train/measurements/\", \n",
    "                'sample_count': 30000, \n",
    "                'batch_size': 4, \n",
    "                'seed': 69, #np.random.randint(0, 10000), \n",
    "                'use_memory': False,\n",
    "                'random_sample': True,\n",
    "                'shuffle': True}\n",
    "\n",
    "quickValidate = {\n",
    "                'image_location': \"../Surreact-APose/train/imgs_nobg_frontEDITED/\",\n",
    "                'data_location': \"../Surreact-APose/train/measurements/\",\n",
    "                'sample_count': 10000,\n",
    "                'batch_size': 4,\n",
    "                'seed': 69, #np.random.randint(0, 10000),\n",
    "                'use_memory': False,\n",
    "                'random_sample': True}\n",
    "\n",
    "realDataTest = {\n",
    "                'image_location': \"../bodym-dataset/front/images/\",\n",
    "                'data_location': \"../bodym-dataset/front/measurements/\",\n",
    "                'sample_count': 8978,\n",
    "                'batch_size': 4,\n",
    "                'use_memory': False,\n",
    "                'random_sample': False,\n",
    "                'shuffle': False}\n",
    "\n",
    "train_generator = Database_Loader(**quickTrain)\n",
    "validation_generator = Database_Loader(**quickValidate)"
   ],
   "metadata": {
    "collapsed": false,
    "ExecuteTime": {
     "end_time": "2024-04-07T03:26:38.764560Z",
     "start_time": "2024-04-07T03:26:32.666333Z"
    }
   },
   "id": "19d8f2f45f6a4471",
   "execution_count": 7
  },
  {
   "cell_type": "code",
   "outputs": [],
   "source": [],
   "metadata": {
    "collapsed": false
   },
   "id": "1f7b09c986903ffe",
   "execution_count": null
  },
  {
   "cell_type": "markdown",
   "source": [
    "x`"
   ],
   "metadata": {
    "collapsed": false
   },
   "id": "9d364bdaa0fb5da4"
  },
  {
   "cell_type": "code",
   "outputs": [],
   "source": [
    "# from keras.models import load_model\n",
    "# \n",
    "# model = load_model('')"
   ],
   "metadata": {
    "collapsed": false
   },
   "id": "5ac051a451d6047f",
   "execution_count": null
  },
  {
   "cell_type": "code",
   "outputs": [
    {
     "data": {
      "text/plain": "Training:   0%|          | 0/20 [00:00<?, ?it/s]",
      "application/vnd.jupyter.widget-view+json": {
       "version_major": 2,
       "version_minor": 0,
       "model_id": "7194c3cc96c4466aa06adb3a6e85295c"
      }
     },
     "metadata": {},
     "output_type": "display_data"
    },
    {
     "data": {
      "text/plain": "Epoch 2:   0%|          | 0/7500 [00:00<?, ?it/s]",
      "application/vnd.jupyter.widget-view+json": {
       "version_major": 2,
       "version_minor": 0,
       "model_id": "02e3d5ecefbc49089c09f788ca291073"
      }
     },
     "metadata": {},
     "output_type": "display_data"
    },
    {
     "name": "stderr",
     "output_type": "stream",
     "text": [
      "2024-04-07 06:31:07.312514: W external/local_xla/xla/service/gpu/llvm_gpu_backend/gpu_backend_lib.cc:510] Can't find libdevice directory ${CUDA_DIR}/nvvm/libdevice. This may result in compilation or runtime failures, if the program we try to run uses routines from libdevice.\n",
      "Searched for CUDA in the following directories:\n",
      "  ./cuda_sdk_lib\n",
      "  /usr/local/cuda-12.3\n",
      "  /usr/local/cuda\n",
      "  /home/raamxie/School/DomainAdaptation/BoMN/.venv/lib/python3.12/site-packages/tensorflow/python/platform/../../../nvidia/cuda_nvcc\n",
      "  /home/raamxie/School/DomainAdaptation/BoMN/.venv/lib/python3.12/site-packages/tensorflow/python/platform/../../../../nvidia/cuda_nvcc\n",
      "  .\n",
      "You can choose the search directory by setting xla_gpu_cuda_data_dir in HloModule's DebugOptions.  For most apps, setting the environment variable XLA_FLAGS=--xla_gpu_cuda_data_dir=/path/to/cuda will work.\n"
     ]
    },
    {
     "data": {
      "text/plain": "Epoch 3:   0%|          | 0/7500 [00:00<?, ?it/s]",
      "application/vnd.jupyter.widget-view+json": {
       "version_major": 2,
       "version_minor": 0,
       "model_id": "c7f3c945dfb140c7bc54a38faa290b1b"
      }
     },
     "metadata": {},
     "output_type": "display_data"
    },
    {
     "data": {
      "text/plain": "Epoch 4:   0%|          | 0/7500 [00:00<?, ?it/s]",
      "application/vnd.jupyter.widget-view+json": {
       "version_major": 2,
       "version_minor": 0,
       "model_id": "eb8e71aa066541368a01cf9ed7b19ddc"
      }
     },
     "metadata": {},
     "output_type": "display_data"
    },
    {
     "data": {
      "text/plain": "Epoch 5:   0%|          | 0/7500 [00:00<?, ?it/s]",
      "application/vnd.jupyter.widget-view+json": {
       "version_major": 2,
       "version_minor": 0,
       "model_id": "15b7b80063144136826e428085cf9d7d"
      }
     },
     "metadata": {},
     "output_type": "display_data"
    },
    {
     "data": {
      "text/plain": "Epoch 6:   0%|          | 0/7500 [00:00<?, ?it/s]",
      "application/vnd.jupyter.widget-view+json": {
       "version_major": 2,
       "version_minor": 0,
       "model_id": "fe859c0e431b46e6aadf35787fb02c29"
      }
     },
     "metadata": {},
     "output_type": "display_data"
    },
    {
     "data": {
      "text/plain": "Epoch 7:   0%|          | 0/7500 [00:00<?, ?it/s]",
      "application/vnd.jupyter.widget-view+json": {
       "version_major": 2,
       "version_minor": 0,
       "model_id": "588cdffa32ae4654a0d57eb81986c776"
      }
     },
     "metadata": {},
     "output_type": "display_data"
    },
    {
     "data": {
      "text/plain": "Epoch 8:   0%|          | 0/7500 [00:00<?, ?it/s]",
      "application/vnd.jupyter.widget-view+json": {
       "version_major": 2,
       "version_minor": 0,
       "model_id": "74289d6c9f4b4e98ad7eb13a8c163dd6"
      }
     },
     "metadata": {},
     "output_type": "display_data"
    },
    {
     "data": {
      "text/plain": "Epoch 9:   0%|          | 0/7500 [00:00<?, ?it/s]",
      "application/vnd.jupyter.widget-view+json": {
       "version_major": 2,
       "version_minor": 0,
       "model_id": "986c99e2511e431a8b3866ac397b011c"
      }
     },
     "metadata": {},
     "output_type": "display_data"
    },
    {
     "data": {
      "text/plain": "Epoch 10:   0%|          | 0/7500 [00:00<?, ?it/s]",
      "application/vnd.jupyter.widget-view+json": {
       "version_major": 2,
       "version_minor": 0,
       "model_id": "89dcdea4740c4a7b8f494a09d41230bb"
      }
     },
     "metadata": {},
     "output_type": "display_data"
    },
    {
     "data": {
      "text/plain": "Epoch 11:   0%|          | 0/7500 [00:00<?, ?it/s]",
      "application/vnd.jupyter.widget-view+json": {
       "version_major": 2,
       "version_minor": 0,
       "model_id": "e4ca3ad8e371434f9f2ca6f1b0386a86"
      }
     },
     "metadata": {},
     "output_type": "display_data"
    },
    {
     "data": {
      "text/plain": "Epoch 12:   0%|          | 0/7500 [00:00<?, ?it/s]",
      "application/vnd.jupyter.widget-view+json": {
       "version_major": 2,
       "version_minor": 0,
       "model_id": "251133f08596426587ef60602c878ed5"
      }
     },
     "metadata": {},
     "output_type": "display_data"
    }
   ],
   "source": [
    "from keras.optimizers import Adam\n",
    "from keras.callbacks import TensorBoard, ModelCheckpoint\n",
    "from keras.losses import MeanSquaredError\n",
    "from keras_tqdm import TQDMNotebookCallback\n",
    "\n",
    "model.compile(\n",
    "    optimizer=Adam(learning_rate=0.001),\n",
    "    loss={\n",
    "        'head_out': MeanSquaredError(),\n",
    "        'neck_out': MeanSquaredError(),\n",
    "        'shoulder_to_shoulder_out': MeanSquaredError(),\n",
    "        'shoulder_to_wrist_out': MeanSquaredError(),\n",
    "        'torso_out': MeanSquaredError(),\n",
    "        'bicep_out': MeanSquaredError(),\n",
    "        'wrist_out': MeanSquaredError(),\n",
    "        'chest_out': MeanSquaredError(),\n",
    "        'waist_out': MeanSquaredError(),\n",
    "        'pelvis_out': MeanSquaredError(),\n",
    "        'inner_leg_out': MeanSquaredError(),\n",
    "        'thigh_out': MeanSquaredError(),\n",
    "        'knee_out': MeanSquaredError(),\n",
    "        'calf_out': MeanSquaredError()\n",
    "    },\n",
    "    # loss_weights={\n",
    "    #     'head_out': 2.0,\n",
    "    #     'neck_out': 1.0,\n",
    "    #     'shoulder_to_shoulder_out': 2.0,\n",
    "    #     'arm_out': 1.0,\n",
    "    #     'shoulder_to_wrist_out': 1.0,\n",
    "    #     'torso_out': 1.0,\n",
    "    #     'bicep_out': 1.0,\n",
    "    #     'wrist_out': 1.0,\n",
    "    #     'chest_out': 1.0,\n",
    "    #     'waist_out': 1.0,\n",
    "    #     'pelvis_out': 1.0,\n",
    "    #     'leg_out': 1.0,\n",
    "    #     'inner_leg_out': 3.0,\n",
    "    #     'thigh_out': 1.0,\n",
    "    #     'knee_out': 1.0,\n",
    "    #     'calf_out': 1.0\n",
    "    # },\n",
    "    # loss='mse',\n",
    "    metrics={\n",
    "        'head_out': ['mae'],\n",
    "        'neck_out': ['mae'],\n",
    "        'shoulder_to_shoulder_out': ['mae'],\n",
    "        'shoulder_to_wrist_out': ['mae'],\n",
    "        'torso_out': ['mae'],\n",
    "        'bicep_out': ['mae'],\n",
    "        'wrist_out': ['mae'],\n",
    "        'chest_out': ['mae'],\n",
    "        'waist_out': ['mae'],\n",
    "        'pelvis_out': ['mae'],\n",
    "        'inner_leg_out': ['mae'],\n",
    "        'thigh_out': ['mae'],\n",
    "        'knee_out': ['mae'],\n",
    "        'calf_out': ['mae']\n",
    "    },\n",
    ")\n",
    "keras.utils.set_random_seed(42)\n",
    "\n",
    "\n",
    "checkpoint_filepath = './models/checkpoint.model.keras'\n",
    "model_checkpoint_callback = keras.callbacks.ModelCheckpoint(\n",
    "    filepath=checkpoint_filepath,\n",
    "    monitor='loss',\n",
    "    mode='min',\n",
    "    save_best_only=True)\n",
    "\n",
    "model.fit(\n",
    "    x=train_generator,\n",
    "    validation_data=validation_generator,\n",
    "    callbacks=[\n",
    "        \n",
    "        TensorBoard(write_graph=False,log_dir=\"./logs\"),\n",
    "        TQDMNotebookCallback(separator=\"\", metric_format=\"{name}: {value:0.8f} || \"),\n",
    "        model_checkpoint_callback,\n",
    "    ],\n",
    "    batch_size=4,\n",
    "    epochs=20,\n",
    "    verbose=0,\n",
    "    initial_epoch=2\n",
    ")\n",
    "\n",
    "\n",
    "\n",
    "for i in range(10000):\n",
    "    image = cv2.imread(f\"../Surreact-APose/train/imgs_nobg_frontEDITED/Avatar_{6969+i:06d}.png\", cv2.IMREAD_GRAYSCALE)\n",
    "\n",
    "    print(model.predict(np.array([image])))"
   ],
   "metadata": {
    "collapsed": false,
    "is_executing": true,
    "ExecuteTime": {
     "start_time": "2024-04-07T03:36:56.305168Z"
    }
   },
   "id": "e2e37a391e152295",
   "execution_count": null
  },
  {
   "cell_type": "code",
   "outputs": [],
   "source": [
    "#Data modifiaction\n",
    "\n",
    "# import os\n",
    "# from tqdm import tqdm\n",
    "# \n",
    "# avatar_count = 79999\n",
    "# counter = 0\n",
    "# \n",
    "# for number in tqdm(range(avatar_count)):\n",
    "#     if number == 5:\n",
    "#         continue\n",
    "#     file = (tuple(np.load(f\"../Surreact-APose/train/measurements/Avatar_{number:06d}.npy\", allow_pickle=True)))\n",
    "#     measurements = []\n",
    "#     for value in file:\n",
    "#         measurements.append(float(value))\n",
    "#     np.save(f\"../Surreact-APose/train/measurements/Avatar_{counter:06d}\", measurements)\n",
    "#     counter += 1"
   ],
   "metadata": {
    "collapsed": false
   },
   "id": "6aa9583a841fdb3f",
   "execution_count": null
  },
  {
   "cell_type": "code",
   "outputs": [],
   "source": [
    "# #Image modification\n",
    "# \n",
    "# import os\n",
    "# import cv2\n",
    "# from tqdm import tqdm\n",
    "# \n",
    "# \n",
    "# avatar_count = 79999\n",
    "# counter = 0\n",
    "# \n",
    "# for number in tqdm(range(avatar_count)):\n",
    "#     if number == 5:\n",
    "#         continue\n",
    "#     image = cv2.imread(f\"../Surreact-APose/train/imgs_nobg_front/Avatar_{number:06d}.png\", cv2.IMREAD_UNCHANGED)\n",
    "#     alpha_channel = image[:, :, 3]\n",
    "#     zero_alpha_indices = alpha_channel > 30\n",
    "#     image[zero_alpha_indices] = [255, 255, 255, 255]\n",
    "#     image = cv2.cvtColor(image, cv2.COLOR_mRGBA2RGBA)\n",
    "# \n",
    "#     cv2.imwrite(f\"../Surreact-APose/train/imgs_nobg_frontEDITED/Avatar_{counter:06d}.png\", image)\n",
    "#     counter +=1"
   ],
   "metadata": {
    "collapsed": false
   },
   "id": "df9f18fda9a0a122",
   "execution_count": null
  },
  {
   "cell_type": "code",
   "outputs": [],
   "source": [
    "#FOR BODY_M DATASET\n",
    "# import csv\n",
    "# import numpy as np\n",
    "# import os\n",
    "# \n",
    "# import cv2\n",
    "# import tqdm.notebook\n",
    "# \n",
    "# counter = 0\n",
    "# for folder in tqdm.notebook.tqdm([\"train\",\"testA\",\"testB\"]):\n",
    "# \n",
    "#     with open('../bodym-dataset/'+folder+'/subject_to_photo_map.csv', 'r') as f:\n",
    "#         reader = csv.reader(f)\n",
    "#         uuid_raw = list(reader)\n",
    "#     from collections import defaultdict\n",
    "#     \n",
    "#     uuid_map = defaultdict(list)\n",
    "#     \n",
    "#     for subject_id, photo_id in uuid_raw[1:]:\n",
    "#         uuid_map[subject_id].append(photo_id)\n",
    "#     image_data = {}\n",
    "#     \n",
    "#     with open('../bodym-dataset/'+folder+'/measurements.csv', 'r') as f:\n",
    "#         reader = csv.reader(f)\n",
    "#     \n",
    "#         for line in reader:\n",
    "#             subject_id = line[0]\n",
    "#     \n",
    "#     \n",
    "#             for image_id in uuid_map[subject_id]:\n",
    "#                 image_data[image_id] = np.array(list(map(float, line[1:])))\n",
    "#     \n",
    "#     \n",
    "#     for subject_id, images in tqdm.notebook.tqdm(uuid_map.items()):\n",
    "#         for image in images:\n",
    "#             measurements = np.array(image_data[image])\n",
    "#             silhouette = cv2.imread(os.path.join('../bodym-dataset/'+folder+'/mask/' + image + '.png'), cv2.IMREAD_GRAYSCALE)\n",
    "#             silhouette = cv2.resize(silhouette,(320, 240))\n",
    "#             cv2.imwrite(os.path.join(f'../bodym-dataset/front/images/Avatar_{counter:06d}.png'), silhouette)\n",
    "#             np.save(os.path.join(f'../bodym-dataset/front/measurements/Avatar_{counter:06d}.npy'), measurements)\n",
    "#             counter += 1\n"
   ],
   "metadata": {
    "collapsed": false
   },
   "id": "743b8fd46d688f53",
   "execution_count": null
  },
  {
   "cell_type": "code",
   "outputs": [],
   "source": [],
   "metadata": {
    "collapsed": false
   },
   "id": "35993af59c85d712"
  }
 ],
 "metadata": {
  "kernelspec": {
   "display_name": "Python 3",
   "language": "python",
   "name": "python3"
  },
  "language_info": {
   "codemirror_mode": {
    "name": "ipython",
    "version": 2
   },
   "file_extension": ".py",
   "mimetype": "text/x-python",
   "name": "python",
   "nbconvert_exporter": "python",
   "pygments_lexer": "ipython2",
   "version": "2.7.6"
  }
 },
 "nbformat": 4,
 "nbformat_minor": 5
}
