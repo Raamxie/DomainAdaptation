{
 "cells": [
  {
   "cell_type": "code",
   "execution_count": 1,
   "id": "initial_id",
   "metadata": {
    "collapsed": true,
    "ExecuteTime": {
     "end_time": "2024-04-12T07:49:43.857754Z",
     "start_time": "2024-04-12T07:49:41.422636Z"
    }
   },
   "outputs": [
    {
     "name": "stdout",
     "output_type": "stream",
     "text": [
      "env: PYTORCH_CUDA_ALLOC_CONF=expandable_segments:True\n"
     ]
    }
   ],
   "source": [
    "%env PYTORCH_CUDA_ALLOC_CONF=expandable_segments:True\n",
    "import keras.utils\n",
    "import numpy as np\n",
    "from keras.models import Model\n",
    "from keras.layers import Input, Dense, Conv2D, MaxPooling2D, Flatten\n",
    "\n",
    "inp = Input(shape=(240, 320, 1))\n",
    "\n",
    "n_filters = 512\n",
    "max_p = inp\n",
    "\n",
    "for _ in range(3):\n",
    "    conv = Conv2D(filters=n_filters, kernel_size=5, activation='relu')(max_p)\n",
    "    max_p = MaxPooling2D(pool_size=(2, 2))(conv)\n",
    "    \n",
    "    n_filters //= 2\n",
    "\n",
    "conv = Conv2D(filters=n_filters, kernel_size=3, activation='relu')(max_p)\n",
    "max_p = MaxPooling2D(pool_size=(2, 2))(conv)\n",
    "\n",
    "flatten = Flatten()(max_p)\n",
    "dense = Dense(128, activation='relu')(flatten)\n",
    "\n",
    "head_out = Dense(1, activation='linear', name='head_out')(dense)\n",
    "neck_out = Dense(1, activation='linear', name='neck_out')(dense)\n",
    "shoulder_to_shoulder_out = Dense(1, activation='linear', name='shoulder_to_shoulder_out')(dense)\n",
    "shoulder_to_wrist_out = Dense(1, activation='linear', name='shoulder_to_wrist_out')(dense)\n",
    "torso_out = Dense(1, activation='linear', name='torso_out')(dense)\n",
    "bicep_out = Dense(1, activation='linear', name='bicep_out')(dense)\n",
    "wrist_out = Dense(1, activation='linear', name='wrist_out')(dense)\n",
    "chest_out = Dense(1, activation='linear', name='chest_out')(dense)\n",
    "waist_out = Dense(1, activation='linear', name='waist_out')(dense)\n",
    "pelvis_out = Dense(1, activation='linear', name='pelvis_out')(dense)\n",
    "inner_leg_out = Dense(1, activation='linear', name='inner_leg_out')(dense)\n",
    "thigh_out = Dense(1, activation='linear', name='thigh_out')(dense)\n",
    "knee_out = Dense(1, activation='linear', name='knee_out')(dense)\n",
    "calf_out = Dense(1, activation='linear', name='calf_out')(dense)\n",
    "\n",
    "\n",
    "model = Model(\n",
    "    inputs=inp,\n",
    "    outputs=[\n",
    "    head_out,\n",
    "    neck_out,\n",
    "    shoulder_to_shoulder_out,\n",
    "    shoulder_to_wrist_out,\n",
    "    torso_out,\n",
    "    bicep_out,\n",
    "    wrist_out,\n",
    "    chest_out,\n",
    "    waist_out,\n",
    "    pelvis_out,\n",
    "    inner_leg_out,\n",
    "    thigh_out,\n",
    "    knee_out,\n",
    "    calf_out\n",
    "    ],\n",
    "    name='conv_bodies'\n",
    ")\n",
    "\n",
    "#model.save_weights(\"default.weights.h5\")\n",
    "\n",
    "#model.summary()\n",
    "\n",
    "# from keras.utils import plot_model\n",
    "# \n",
    "# plot_model(model, to_file='model.png', show_shapes=True, show_layer_names=True, show_layer_activations=True)"
   ]
  },
  {
   "cell_type": "code",
   "outputs": [],
   "source": [
    "import os\n",
    "import cv2\n",
    "import random\n",
    "\n",
    "class Database_Loader(keras.utils.Sequence):\n",
    "    \n",
    "    def __init__(self, image_location, data_location, sample_count, batch_size, dataset = \"Surreact\", shuffle=True, seed=0, input_dimensions=(240, 320), prefix=\"Avatar_\", use_memory=False, load_data = True, random_sample = False):\n",
    "        self.image_location = image_location\n",
    "        self.data_location = data_location\n",
    "        self.sample_count = sample_count\n",
    "        self.batch_size = batch_size\n",
    "        self.shuffle = shuffle\n",
    "        self.seed = seed\n",
    "        self.input_dimensions = input_dimensions\n",
    "        self.prefix = prefix\n",
    "        self.use_memory = use_memory\n",
    "        self.load_data = load_data\n",
    "        self.random_sample = random_sample\n",
    "        self.dataset = dataset\n",
    "\n",
    "        if self.random_sample:\n",
    "            self.IDs = random.sample(range(len(os.listdir(self.image_location))),self.sample_count)\n",
    "        else:\n",
    "            self.IDs = [x for x in range(self.sample_count)]\n",
    "            self._load_data()\n",
    "\n",
    "        super().__init__(workers=2, use_multiprocessing=True)\n",
    "        self.on_epoch_end()\n",
    "        \n",
    "    def __len__(self):\n",
    "        return int(np.floor(self.sample_count / self.batch_size))\n",
    "    \n",
    "    \n",
    "    def _load_data(self):\n",
    "        if self.load_data:\n",
    "            self.data = dict()\n",
    "            for index in self.IDs:\n",
    "                self.data[index] = np.load(os.path.join(self.data_location + self.prefix + f\"{index:06d}.npy\"))\n",
    "\n",
    "        if self.use_memory:\n",
    "            self.images = dict()\n",
    "            for index in self.IDs:\n",
    "                self.images[index] = cv2.imread(os.path.join(self.image_location + self.prefix + f\"{index:06d}.png\"), cv2.IMREAD_GRAYSCALE)\n",
    "    \n",
    "    def __getitem__(self, index):\n",
    "        X = np.empty(shape=(self.batch_size, 240, 320))\n",
    "        y = {\n",
    "            'head_out': [],\n",
    "            'neck_out': [],\n",
    "            'shoulder_to_shoulder_out': [],\n",
    "            'shoulder_to_wrist_out': [],\n",
    "            'torso_out': [],\n",
    "            'bicep_out': [],\n",
    "            'wrist_out': [],\n",
    "            'chest_out': [],\n",
    "            'waist_out': [],\n",
    "            'pelvis_out': [],\n",
    "            'inner_leg_out': [],\n",
    "            'thigh_out': [],\n",
    "            'knee_out': [],\n",
    "            'calf_out': []\n",
    "        }\n",
    "\n",
    "\n",
    "\n",
    "        start_index = index * self.batch_size + 1\n",
    "        \n",
    "        for i in range(self.batch_size):\n",
    "            name = f\"{self.IDs[(start_index + i)%self.sample_count]:06d}\"\n",
    "            \n",
    "            if self.load_data:\n",
    "                current_measurement = self.data[self.IDs[(start_index + i)%self.sample_count]][:-1]          \n",
    "            else:\n",
    "                current_measurement = np.load(os.path.join(self.data_location + self.prefix + name + \".npy\"))[:-1]\n",
    "                \n",
    "            if self.use_memory:\n",
    "                X[i,] = self.images[self.IDs[(start_index + i)%self.sample_count]]\n",
    "                \n",
    "            else:\n",
    "                X[i,] = cv2.imread(os.path.join(self.image_location + self.prefix + name + \".png\"), cv2.IMREAD_GRAYSCALE)\n",
    "                \n",
    "            if self.dataset == \"Surreact\":\n",
    "                y['head_out'].append([current_measurement[0]])\n",
    "                y['neck_out'].append([current_measurement[1]])\n",
    "                y['shoulder_to_shoulder_out'].append([current_measurement[2]])\n",
    "                y['shoulder_to_wrist_out'].append([current_measurement[4]])\n",
    "                y['torso_out'].append([current_measurement[5]])\n",
    "                y['bicep_out'].append([current_measurement[6]])\n",
    "                y['wrist_out'].append([current_measurement[7]])\n",
    "                y['chest_out'].append([current_measurement[8]])\n",
    "                y['waist_out'].append([current_measurement[9]])\n",
    "                y['pelvis_out'].append([current_measurement[10]])\n",
    "                y['inner_leg_out'].append([current_measurement[12]])\n",
    "                y['thigh_out'].append([current_measurement[13]])\n",
    "                y['knee_out'].append([current_measurement[14]])\n",
    "                y['calf_out'].append([current_measurement[15]])\n",
    "            \n",
    "\n",
    "        for key, value in y.items():\n",
    "            y[key] = np.array(value)\n",
    "            \n",
    "        return X, y\n",
    "    \n",
    "    def on_epoch_end(self):\n",
    "        if self.random_sample:\n",
    "            self.IDs = random.sample(range(len(os.listdir(self.image_location))),self.sample_count)\n",
    "            self._load_data()\n",
    "\n",
    "        if self.shuffle:\n",
    "            np.random.seed(self.seed)\n",
    "            np.random.shuffle(self.IDs)\n",
    "        else:\n",
    "            self.IDs = np.arange(self.sample_count)\n",
    "         "
   ],
   "metadata": {
    "collapsed": false,
    "ExecuteTime": {
     "end_time": "2024-04-12T07:49:44.000626Z",
     "start_time": "2024-04-12T07:49:43.859221Z"
    }
   },
   "id": "e9bd08ef645fecfa",
   "execution_count": 2
  },
  {
   "cell_type": "code",
   "outputs": [],
   "source": [
    "quickTrain = {\n",
    "                'image_location': \"../Surreact-APose/train/imgs_nobg_frontEDITED/\", \n",
    "                'data_location': \"../Surreact-APose/train/measurements/\", \n",
    "                'sample_count': 30000, \n",
    "                'batch_size': 9, \n",
    "                'seed': 69, #np.random.randint(0, 10000), \n",
    "                'use_memory': False,\n",
    "                'random_sample': True,\n",
    "                'shuffle': True}\n",
    "\n",
    "quickValidate = {\n",
    "                'image_location': \"../Surreact-APose/train/imgs_nobg_frontEDITED/\",\n",
    "                'data_location': \"../Surreact-APose/train/measurements/\",\n",
    "                'sample_count': 7500,\n",
    "                'batch_size': 9,\n",
    "                'seed': 69, #np.random.randint(0, 10000),\n",
    "                'use_memory': False,\n",
    "                'random_sample': False}\n",
    "\n",
    "realDataTest = {\n",
    "                'image_location': \"../bodym-dataset/front/images/\",\n",
    "                'data_location': \"../bodym-dataset/front/measurements/\",\n",
    "                'sample_count': 8978,\n",
    "                'batch_size': 4,\n",
    "                'use_memory': False,\n",
    "                'random_sample': False,\n",
    "                'shuffle': False}\n",
    "\n",
    "train_generator = Database_Loader(**quickTrain)\n",
    "validation_generator = Database_Loader(**quickValidate)"
   ],
   "metadata": {
    "collapsed": false,
    "ExecuteTime": {
     "end_time": "2024-04-12T07:49:47.452234Z",
     "start_time": "2024-04-12T07:49:44.001399Z"
    }
   },
   "id": "19d8f2f45f6a4471",
   "execution_count": 3
  },
  {
   "cell_type": "code",
   "outputs": [],
   "source": [
    "# from keras.models import load_model\n",
    "# \n",
    "# model = load_model('')"
   ],
   "metadata": {
    "collapsed": false,
    "ExecuteTime": {
     "end_time": "2024-04-12T07:49:47.455284Z",
     "start_time": "2024-04-12T07:49:47.453420Z"
    }
   },
   "id": "5ac051a451d6047f",
   "execution_count": 4
  },
  {
   "cell_type": "code",
   "outputs": [
    {
     "name": "stderr",
     "output_type": "stream",
     "text": [
      "2024-04-12 09:49:47.690631: I tensorflow/core/platform/cpu_feature_guard.cc:210] This TensorFlow binary is optimized to use available CPU instructions in performance-critical operations.\n",
      "To enable the following instructions: AVX2 FMA, in other operations, rebuild TensorFlow with the appropriate compiler flags.\n",
      "2024-04-12 09:49:48.610820: W tensorflow/compiler/tf2tensorrt/utils/py_utils.cc:38] TF-TRT Warning: Could not find TensorRT\n",
      "2024-04-12 09:49:49.720694: W tensorflow/core/common_runtime/gpu/gpu_bfc_allocator.cc:47] Overriding orig_value setting because the TF_FORCE_GPU_ALLOW_GROWTH environment variable is set. Original config value was 0.\n",
      "2024-04-12 09:49:49.720875: I tensorflow/core/common_runtime/gpu/gpu_device.cc:1928] Created device /job:localhost/replica:0/task:0/device:GPU:0 with 3388 MB memory:  -> device: 0, name: NVIDIA GeForce RTX 3060 Laptop GPU, pci bus id: 0000:01:00.0, compute capability: 8.6\n"
     ]
    },
    {
     "data": {
      "text/plain": "Training:   0%|          | 0/30 [00:00<?, ?it/s]",
      "application/vnd.jupyter.widget-view+json": {
       "version_major": 2,
       "version_minor": 0,
       "model_id": "f86e0f48c0f44fea9f5295e78498ba7a"
      }
     },
     "metadata": {},
     "output_type": "display_data"
    },
    {
     "data": {
      "text/plain": "Epoch 0:   0%|          | 0/3333 [00:00<?, ?it/s]",
      "application/vnd.jupyter.widget-view+json": {
       "version_major": 2,
       "version_minor": 0,
       "model_id": "053685c112e74618b4c51f4fe4c2a0fc"
      }
     },
     "metadata": {},
     "output_type": "display_data"
    },
    {
     "name": "stderr",
     "output_type": "stream",
     "text": [
      "2024-04-12 10:22:10.381951: W external/local_xla/xla/service/gpu/llvm_gpu_backend/gpu_backend_lib.cc:510] Can't find libdevice directory ${CUDA_DIR}/nvvm/libdevice. This may result in compilation or runtime failures, if the program we try to run uses routines from libdevice.\n",
      "Searched for CUDA in the following directories:\n",
      "  ./cuda_sdk_lib\n",
      "  /usr/local/cuda-12.3\n",
      "  /usr/local/cuda\n",
      "  /home/raamxie/School/DomainAdaptation/BoMN/.venv/lib/python3.12/site-packages/tensorflow/python/platform/../../../nvidia/cuda_nvcc\n",
      "  /home/raamxie/School/DomainAdaptation/BoMN/.venv/lib/python3.12/site-packages/tensorflow/python/platform/../../../../nvidia/cuda_nvcc\n",
      "  .\n",
      "You can choose the search directory by setting xla_gpu_cuda_data_dir in HloModule's DebugOptions.  For most apps, setting the environment variable XLA_FLAGS=--xla_gpu_cuda_data_dir=/path/to/cuda will work.\n"
     ]
    },
    {
     "data": {
      "text/plain": "Epoch 1:   0%|          | 0/3333 [00:00<?, ?it/s]",
      "application/vnd.jupyter.widget-view+json": {
       "version_major": 2,
       "version_minor": 0,
       "model_id": "e54b7671d7aa47f1b447baee795d7ebc"
      }
     },
     "metadata": {},
     "output_type": "display_data"
    },
    {
     "data": {
      "text/plain": "Epoch 2:   0%|          | 0/3333 [00:00<?, ?it/s]",
      "application/vnd.jupyter.widget-view+json": {
       "version_major": 2,
       "version_minor": 0,
       "model_id": "b825c621b08840de9465b0e822b88bb2"
      }
     },
     "metadata": {},
     "output_type": "display_data"
    },
    {
     "data": {
      "text/plain": "Epoch 3:   0%|          | 0/3333 [00:00<?, ?it/s]",
      "application/vnd.jupyter.widget-view+json": {
       "version_major": 2,
       "version_minor": 0,
       "model_id": "f3f8c830f63d49e08f17165b46f805ba"
      }
     },
     "metadata": {},
     "output_type": "display_data"
    },
    {
     "data": {
      "text/plain": "Epoch 4:   0%|          | 0/3333 [00:00<?, ?it/s]",
      "application/vnd.jupyter.widget-view+json": {
       "version_major": 2,
       "version_minor": 0,
       "model_id": "6627a5b789574032b767f2445a9af06d"
      }
     },
     "metadata": {},
     "output_type": "display_data"
    },
    {
     "data": {
      "text/plain": "Epoch 5:   0%|          | 0/3333 [00:00<?, ?it/s]",
      "application/vnd.jupyter.widget-view+json": {
       "version_major": 2,
       "version_minor": 0,
       "model_id": "97dbf45b32e849b4a5e5095e0f503604"
      }
     },
     "metadata": {},
     "output_type": "display_data"
    },
    {
     "data": {
      "text/plain": "Epoch 6:   0%|          | 0/3333 [00:00<?, ?it/s]",
      "application/vnd.jupyter.widget-view+json": {
       "version_major": 2,
       "version_minor": 0,
       "model_id": "c5c62b3f2606418ebabcb979d7f269cd"
      }
     },
     "metadata": {},
     "output_type": "display_data"
    },
    {
     "data": {
      "text/plain": "Epoch 7:   0%|          | 0/3333 [00:00<?, ?it/s]",
      "application/vnd.jupyter.widget-view+json": {
       "version_major": 2,
       "version_minor": 0,
       "model_id": "d0d529f358bc42d8aa4abe5f5000a886"
      }
     },
     "metadata": {},
     "output_type": "display_data"
    },
    {
     "data": {
      "text/plain": "Epoch 8:   0%|          | 0/3333 [00:00<?, ?it/s]",
      "application/vnd.jupyter.widget-view+json": {
       "version_major": 2,
       "version_minor": 0,
       "model_id": "056095b3b57a40f6a99991fcdeff81af"
      }
     },
     "metadata": {},
     "output_type": "display_data"
    },
    {
     "data": {
      "text/plain": "Epoch 9:   0%|          | 0/3333 [00:00<?, ?it/s]",
      "application/vnd.jupyter.widget-view+json": {
       "version_major": 2,
       "version_minor": 0,
       "model_id": "7092d21090fb473584a66beb861735c5"
      }
     },
     "metadata": {},
     "output_type": "display_data"
    },
    {
     "data": {
      "text/plain": "Epoch 10:   0%|          | 0/3333 [00:00<?, ?it/s]",
      "application/vnd.jupyter.widget-view+json": {
       "version_major": 2,
       "version_minor": 0,
       "model_id": "7a4388977a9644968df15ce377f83462"
      }
     },
     "metadata": {},
     "output_type": "display_data"
    },
    {
     "data": {
      "text/plain": "Epoch 11:   0%|          | 0/3333 [00:00<?, ?it/s]",
      "application/vnd.jupyter.widget-view+json": {
       "version_major": 2,
       "version_minor": 0,
       "model_id": "e5205d39d64f42e286f458a3df3a8700"
      }
     },
     "metadata": {},
     "output_type": "display_data"
    },
    {
     "data": {
      "text/plain": "Epoch 12:   0%|          | 0/3333 [00:00<?, ?it/s]",
      "application/vnd.jupyter.widget-view+json": {
       "version_major": 2,
       "version_minor": 0,
       "model_id": "09c7f909ee7140619124f1e0626f47f6"
      }
     },
     "metadata": {},
     "output_type": "display_data"
    },
    {
     "data": {
      "text/plain": "Epoch 13:   0%|          | 0/3333 [00:00<?, ?it/s]",
      "application/vnd.jupyter.widget-view+json": {
       "version_major": 2,
       "version_minor": 0,
       "model_id": "ddbb74d6824d47a083ce05292ffdd1e3"
      }
     },
     "metadata": {},
     "output_type": "display_data"
    },
    {
     "data": {
      "text/plain": "Epoch 14:   0%|          | 0/3333 [00:00<?, ?it/s]",
      "application/vnd.jupyter.widget-view+json": {
       "version_major": 2,
       "version_minor": 0,
       "model_id": "dd13b9fac9e64058b523eed6dc68bdf3"
      }
     },
     "metadata": {},
     "output_type": "display_data"
    },
    {
     "data": {
      "text/plain": "Epoch 15:   0%|          | 0/3333 [00:00<?, ?it/s]",
      "application/vnd.jupyter.widget-view+json": {
       "version_major": 2,
       "version_minor": 0,
       "model_id": "681cb0fc97d748939f1acbd56c08eaf9"
      }
     },
     "metadata": {},
     "output_type": "display_data"
    },
    {
     "name": "stderr",
     "output_type": "stream",
     "text": [
      "Process Keras_worker_ForkPoolWorker-1:\n",
      "Process Keras_worker_ForkPoolWorker-2:\n",
      "Process Keras_worker_ForkPoolWorker-123:\n",
      "Traceback (most recent call last):\n",
      "Traceback (most recent call last):\n",
      "Traceback (most recent call last):\n",
      "  File \"/usr/lib/python3.12/multiprocessing/process.py\", line 314, in _bootstrap\n",
      "    self.run()\n",
      "  File \"/usr/lib/python3.12/multiprocessing/process.py\", line 314, in _bootstrap\n",
      "    self.run()\n",
      "  File \"/usr/lib/python3.12/multiprocessing/process.py\", line 314, in _bootstrap\n",
      "    self.run()\n",
      "  File \"/usr/lib/python3.12/multiprocessing/process.py\", line 108, in run\n",
      "    self._target(*self._args, **self._kwargs)\n",
      "  File \"/usr/lib/python3.12/multiprocessing/process.py\", line 108, in run\n",
      "    self._target(*self._args, **self._kwargs)\n",
      "  File \"/usr/lib/python3.12/multiprocessing/process.py\", line 108, in run\n",
      "    self._target(*self._args, **self._kwargs)\n",
      "  File \"/usr/lib/python3.12/multiprocessing/pool.py\", line 114, in worker\n",
      "    task = get()\n",
      "           ^^^^^\n",
      "  File \"/usr/lib/python3.12/multiprocessing/pool.py\", line 114, in worker\n",
      "    task = get()\n",
      "           ^^^^^\n",
      "  File \"/usr/lib/python3.12/multiprocessing/pool.py\", line 114, in worker\n",
      "    task = get()\n",
      "           ^^^^^\n",
      "  File \"/usr/lib/python3.12/multiprocessing/queues.py\", line 387, in get\n",
      "    res = self._reader.recv_bytes()\n",
      "          ^^^^^^^^^^^^^^^^^^^^^^^^^\n",
      "  File \"/usr/lib/python3.12/multiprocessing/queues.py\", line 386, in get\n",
      "    with self._rlock:\n",
      "  File \"/usr/lib/python3.12/multiprocessing/queues.py\", line 386, in get\n",
      "    with self._rlock:\n",
      "  File \"/usr/lib/python3.12/multiprocessing/connection.py\", line 216, in recv_bytes\n",
      "    buf = self._recv_bytes(maxlength)\n",
      "          ^^^^^^^^^^^^^^^^^^^^^^^^^^^\n",
      "  File \"/usr/lib/python3.12/multiprocessing/synchronize.py\", line 95, in __enter__\n",
      "    return self._semlock.__enter__()\n",
      "           ^^^^^^^^^^^^^^^^^^^^^^^^^\n",
      "  File \"/usr/lib/python3.12/multiprocessing/synchronize.py\", line 95, in __enter__\n",
      "    return self._semlock.__enter__()\n",
      "           ^^^^^^^^^^^^^^^^^^^^^^^^^\n",
      "  File \"/usr/lib/python3.12/multiprocessing/connection.py\", line 430, in _recv_bytes\n",
      "    buf = self._recv(4)\n",
      "          ^^^^^^^^^^^^^\n",
      "KeyboardInterrupt\n",
      "KeyboardInterrupt\n",
      "  File \"/usr/lib/python3.12/multiprocessing/connection.py\", line 395, in _recv\n",
      "    chunk = read(handle, remaining)\n",
      "            ^^^^^^^^^^^^^^^^^^^^^^^\n",
      "KeyboardInterrupt\n",
      "Process Keras_worker_ForkPoolWorker-124:\n",
      "Traceback (most recent call last):\n",
      "  File \"/usr/lib/python3.12/multiprocessing/process.py\", line 314, in _bootstrap\n",
      "    self.run()\n",
      "  File \"/usr/lib/python3.12/multiprocessing/process.py\", line 108, in run\n",
      "    self._target(*self._args, **self._kwargs)\n",
      "  File \"/usr/lib/python3.12/multiprocessing/queues.py\", line 387, in get\n",
      "    res = self._reader.recv_bytes()\n",
      "          ^^^^^^^^^^^^^^^^^^^^^^^^^\n",
      "  File \"/usr/lib/python3.12/multiprocessing/pool.py\", line 114, in worker\n",
      "    task = get()\n",
      "           ^^^^^\n",
      "  File \"/usr/lib/python3.12/multiprocessing/connection.py\", line 216, in recv_bytes\n",
      "    buf = self._recv_bytes(maxlength)\n",
      "          ^^^^^^^^^^^^^^^^^^^^^^^^^^^\n",
      "  File \"/usr/lib/python3.12/multiprocessing/connection.py\", line 430, in _recv_bytes\n",
      "    buf = self._recv(4)\n",
      "          ^^^^^^^^^^^^^\n",
      "  File \"/usr/lib/python3.12/multiprocessing/connection.py\", line 395, in _recv\n",
      "    chunk = read(handle, remaining)\n",
      "            ^^^^^^^^^^^^^^^^^^^^^^^\n",
      "KeyboardInterrupt\n"
     ]
    },
    {
     "ename": "KeyboardInterrupt",
     "evalue": "",
     "output_type": "error",
     "traceback": [
      "\u001B[0;31m---------------------------------------------------------------------------\u001B[0m",
      "\u001B[0;31mKeyboardInterrupt\u001B[0m                         Traceback (most recent call last)",
      "Cell \u001B[0;32mIn[5], line 78\u001B[0m\n\u001B[1;32m     71\u001B[0m checkpoint_filepath \u001B[38;5;241m=\u001B[39m \u001B[38;5;124m'\u001B[39m\u001B[38;5;124m./models/checkpoint.model.keras\u001B[39m\u001B[38;5;124m'\u001B[39m\n\u001B[1;32m     72\u001B[0m model_checkpoint_callback \u001B[38;5;241m=\u001B[39m keras\u001B[38;5;241m.\u001B[39mcallbacks\u001B[38;5;241m.\u001B[39mModelCheckpoint(\n\u001B[1;32m     73\u001B[0m     filepath\u001B[38;5;241m=\u001B[39mcheckpoint_filepath,\n\u001B[1;32m     74\u001B[0m     monitor\u001B[38;5;241m=\u001B[39m\u001B[38;5;124m'\u001B[39m\u001B[38;5;124mloss\u001B[39m\u001B[38;5;124m'\u001B[39m,\n\u001B[1;32m     75\u001B[0m     mode\u001B[38;5;241m=\u001B[39m\u001B[38;5;124m'\u001B[39m\u001B[38;5;124mmin\u001B[39m\u001B[38;5;124m'\u001B[39m,\n\u001B[1;32m     76\u001B[0m     save_best_only\u001B[38;5;241m=\u001B[39m\u001B[38;5;28;01mTrue\u001B[39;00m)\n\u001B[0;32m---> 78\u001B[0m \u001B[43mmodel\u001B[49m\u001B[38;5;241;43m.\u001B[39;49m\u001B[43mfit\u001B[49m\u001B[43m(\u001B[49m\n\u001B[1;32m     79\u001B[0m \u001B[43m    \u001B[49m\u001B[43mx\u001B[49m\u001B[38;5;241;43m=\u001B[39;49m\u001B[43mtrain_generator\u001B[49m\u001B[43m,\u001B[49m\n\u001B[1;32m     80\u001B[0m \u001B[43m    \u001B[49m\u001B[43mvalidation_data\u001B[49m\u001B[38;5;241;43m=\u001B[39;49m\u001B[43mvalidation_generator\u001B[49m\u001B[43m,\u001B[49m\n\u001B[1;32m     81\u001B[0m \u001B[43m    \u001B[49m\u001B[43mcallbacks\u001B[49m\u001B[38;5;241;43m=\u001B[39;49m\u001B[43m[\u001B[49m\n\u001B[1;32m     82\u001B[0m \u001B[43m        \u001B[49m\n\u001B[1;32m     83\u001B[0m \u001B[43m        \u001B[49m\u001B[43mTensorBoard\u001B[49m\u001B[43m(\u001B[49m\u001B[43mwrite_graph\u001B[49m\u001B[38;5;241;43m=\u001B[39;49m\u001B[38;5;28;43;01mFalse\u001B[39;49;00m\u001B[43m,\u001B[49m\u001B[43mlog_dir\u001B[49m\u001B[38;5;241;43m=\u001B[39;49m\u001B[38;5;124;43m\"\u001B[39;49m\u001B[38;5;124;43m./logs\u001B[39;49m\u001B[38;5;124;43m\"\u001B[39;49m\u001B[43m)\u001B[49m\u001B[43m,\u001B[49m\n\u001B[1;32m     84\u001B[0m \u001B[43m        \u001B[49m\u001B[43mTQDMNotebookCallback\u001B[49m\u001B[43m(\u001B[49m\u001B[43mseparator\u001B[49m\u001B[38;5;241;43m=\u001B[39;49m\u001B[38;5;124;43m\"\u001B[39;49m\u001B[38;5;124;43m\"\u001B[39;49m\u001B[43m,\u001B[49m\u001B[43m \u001B[49m\u001B[43mmetric_format\u001B[49m\u001B[38;5;241;43m=\u001B[39;49m\u001B[38;5;124;43m\"\u001B[39;49m\u001B[38;5;132;43;01m{name}\u001B[39;49;00m\u001B[38;5;124;43m: \u001B[39;49m\u001B[38;5;132;43;01m{value:0.8f}\u001B[39;49;00m\u001B[38;5;124;43m || \u001B[39;49m\u001B[38;5;124;43m\"\u001B[39;49m\u001B[43m)\u001B[49m\u001B[43m,\u001B[49m\n\u001B[1;32m     85\u001B[0m \u001B[43m        \u001B[49m\u001B[43mmodel_checkpoint_callback\u001B[49m\u001B[43m,\u001B[49m\n\u001B[1;32m     86\u001B[0m \u001B[43m    \u001B[49m\u001B[43m]\u001B[49m\u001B[43m,\u001B[49m\n\u001B[1;32m     87\u001B[0m \u001B[43m    \u001B[49m\u001B[43mbatch_size\u001B[49m\u001B[38;5;241;43m=\u001B[39;49m\u001B[38;5;241;43m9\u001B[39;49m\u001B[43m,\u001B[49m\n\u001B[1;32m     88\u001B[0m \u001B[43m    \u001B[49m\u001B[43mepochs\u001B[49m\u001B[38;5;241;43m=\u001B[39;49m\u001B[38;5;241;43m30\u001B[39;49m\u001B[43m,\u001B[49m\n\u001B[1;32m     89\u001B[0m \u001B[43m    \u001B[49m\u001B[43mverbose\u001B[49m\u001B[38;5;241;43m=\u001B[39;49m\u001B[38;5;241;43m0\u001B[39;49m\n\u001B[1;32m     90\u001B[0m \u001B[43m)\u001B[49m\n\u001B[1;32m     92\u001B[0m model\u001B[38;5;241m.\u001B[39msave(\u001B[38;5;124m\"\u001B[39m\u001B[38;5;124m./models/full/model.keras\u001B[39m\u001B[38;5;124m\"\u001B[39m)\n\u001B[1;32m     93\u001B[0m \u001B[38;5;66;03m# \u001B[39;00m\n\u001B[1;32m     94\u001B[0m \u001B[38;5;66;03m# for i in range(10000):\u001B[39;00m\n\u001B[1;32m     95\u001B[0m \u001B[38;5;66;03m#     image = cv2.imread(f\"../Surreact-APose/train/imgs_nobg_frontEDITED/Avatar_{6969+i:06d}.png\", cv2.IMREAD_GRAYSCALE)\u001B[39;00m\n\u001B[1;32m     96\u001B[0m \u001B[38;5;66;03m# \u001B[39;00m\n\u001B[1;32m     97\u001B[0m \u001B[38;5;66;03m#     print(model.predict(np.array([image])))\u001B[39;00m\n\u001B[1;32m     98\u001B[0m \u001B[38;5;66;03m#     \u001B[39;00m\n",
      "File \u001B[0;32m~/School/DomainAdaptation/BoMN/.venv/lib/python3.12/site-packages/keras/src/utils/traceback_utils.py:117\u001B[0m, in \u001B[0;36mfilter_traceback.<locals>.error_handler\u001B[0;34m(*args, **kwargs)\u001B[0m\n\u001B[1;32m    115\u001B[0m filtered_tb \u001B[38;5;241m=\u001B[39m \u001B[38;5;28;01mNone\u001B[39;00m\n\u001B[1;32m    116\u001B[0m \u001B[38;5;28;01mtry\u001B[39;00m:\n\u001B[0;32m--> 117\u001B[0m     \u001B[38;5;28;01mreturn\u001B[39;00m \u001B[43mfn\u001B[49m\u001B[43m(\u001B[49m\u001B[38;5;241;43m*\u001B[39;49m\u001B[43margs\u001B[49m\u001B[43m,\u001B[49m\u001B[43m \u001B[49m\u001B[38;5;241;43m*\u001B[39;49m\u001B[38;5;241;43m*\u001B[39;49m\u001B[43mkwargs\u001B[49m\u001B[43m)\u001B[49m\n\u001B[1;32m    118\u001B[0m \u001B[38;5;28;01mexcept\u001B[39;00m \u001B[38;5;167;01mException\u001B[39;00m \u001B[38;5;28;01mas\u001B[39;00m e:\n\u001B[1;32m    119\u001B[0m     filtered_tb \u001B[38;5;241m=\u001B[39m _process_traceback_frames(e\u001B[38;5;241m.\u001B[39m__traceback__)\n",
      "File \u001B[0;32m~/School/DomainAdaptation/BoMN/.venv/lib/python3.12/site-packages/keras/src/backend/torch/trainer.py:250\u001B[0m, in \u001B[0;36mTorchTrainer.fit\u001B[0;34m(self, x, y, batch_size, epochs, verbose, callbacks, validation_split, validation_data, shuffle, class_weight, sample_weight, initial_epoch, steps_per_epoch, validation_steps, validation_batch_size, validation_freq)\u001B[0m\n\u001B[1;32m    246\u001B[0m \u001B[38;5;28;01mfor\u001B[39;00m step, data \u001B[38;5;129;01min\u001B[39;00m epoch_iterator\u001B[38;5;241m.\u001B[39menumerate_epoch():\n\u001B[1;32m    247\u001B[0m     \u001B[38;5;66;03m# Callbacks\u001B[39;00m\n\u001B[1;32m    248\u001B[0m     callbacks\u001B[38;5;241m.\u001B[39mon_train_batch_begin(step)\n\u001B[0;32m--> 250\u001B[0m     logs \u001B[38;5;241m=\u001B[39m \u001B[38;5;28;43mself\u001B[39;49m\u001B[38;5;241;43m.\u001B[39;49m\u001B[43mtrain_function\u001B[49m\u001B[43m(\u001B[49m\u001B[43mdata\u001B[49m\u001B[43m)\u001B[49m\n\u001B[1;32m    252\u001B[0m     \u001B[38;5;66;03m# Callbacks\u001B[39;00m\n\u001B[1;32m    253\u001B[0m     callbacks\u001B[38;5;241m.\u001B[39mon_train_batch_end(step, \u001B[38;5;28mself\u001B[39m\u001B[38;5;241m.\u001B[39m_pythonify_logs(logs))\n",
      "File \u001B[0;32m~/School/DomainAdaptation/BoMN/.venv/lib/python3.12/site-packages/keras/src/backend/torch/trainer.py:113\u001B[0m, in \u001B[0;36mTorchTrainer.make_train_function.<locals>.one_step_on_data\u001B[0;34m(data)\u001B[0m\n\u001B[1;32m    111\u001B[0m \u001B[38;5;250m\u001B[39m\u001B[38;5;124;03m\"\"\"Runs a single training step on a batch of data.\"\"\"\u001B[39;00m\n\u001B[1;32m    112\u001B[0m data \u001B[38;5;241m=\u001B[39m data[\u001B[38;5;241m0\u001B[39m]\n\u001B[0;32m--> 113\u001B[0m \u001B[38;5;28;01mreturn\u001B[39;00m \u001B[38;5;28;43mself\u001B[39;49m\u001B[38;5;241;43m.\u001B[39;49m\u001B[43mtrain_step\u001B[49m\u001B[43m(\u001B[49m\u001B[43mdata\u001B[49m\u001B[43m)\u001B[49m\n",
      "File \u001B[0;32m~/School/DomainAdaptation/BoMN/.venv/lib/python3.12/site-packages/keras/src/backend/torch/trainer.py:44\u001B[0m, in \u001B[0;36mTorchTrainer.train_step\u001B[0;34m(self, data)\u001B[0m\n\u001B[1;32m     42\u001B[0m \u001B[38;5;66;03m# Compute predictions\u001B[39;00m\n\u001B[1;32m     43\u001B[0m \u001B[38;5;28;01mif\u001B[39;00m \u001B[38;5;28mself\u001B[39m\u001B[38;5;241m.\u001B[39m_call_has_training_arg:\n\u001B[0;32m---> 44\u001B[0m     y_pred \u001B[38;5;241m=\u001B[39m \u001B[38;5;28;43mself\u001B[39;49m\u001B[43m(\u001B[49m\u001B[43mx\u001B[49m\u001B[43m,\u001B[49m\u001B[43m \u001B[49m\u001B[43mtraining\u001B[49m\u001B[38;5;241;43m=\u001B[39;49m\u001B[38;5;28;43;01mTrue\u001B[39;49;00m\u001B[43m)\u001B[49m\n\u001B[1;32m     45\u001B[0m \u001B[38;5;28;01melse\u001B[39;00m:\n\u001B[1;32m     46\u001B[0m     y_pred \u001B[38;5;241m=\u001B[39m \u001B[38;5;28mself\u001B[39m(x)\n",
      "File \u001B[0;32m~/School/DomainAdaptation/BoMN/.venv/lib/python3.12/site-packages/keras/src/utils/traceback_utils.py:117\u001B[0m, in \u001B[0;36mfilter_traceback.<locals>.error_handler\u001B[0;34m(*args, **kwargs)\u001B[0m\n\u001B[1;32m    115\u001B[0m filtered_tb \u001B[38;5;241m=\u001B[39m \u001B[38;5;28;01mNone\u001B[39;00m\n\u001B[1;32m    116\u001B[0m \u001B[38;5;28;01mtry\u001B[39;00m:\n\u001B[0;32m--> 117\u001B[0m     \u001B[38;5;28;01mreturn\u001B[39;00m \u001B[43mfn\u001B[49m\u001B[43m(\u001B[49m\u001B[38;5;241;43m*\u001B[39;49m\u001B[43margs\u001B[49m\u001B[43m,\u001B[49m\u001B[43m \u001B[49m\u001B[38;5;241;43m*\u001B[39;49m\u001B[38;5;241;43m*\u001B[39;49m\u001B[43mkwargs\u001B[49m\u001B[43m)\u001B[49m\n\u001B[1;32m    118\u001B[0m \u001B[38;5;28;01mexcept\u001B[39;00m \u001B[38;5;167;01mException\u001B[39;00m \u001B[38;5;28;01mas\u001B[39;00m e:\n\u001B[1;32m    119\u001B[0m     filtered_tb \u001B[38;5;241m=\u001B[39m _process_traceback_frames(e\u001B[38;5;241m.\u001B[39m__traceback__)\n",
      "File \u001B[0;32m~/School/DomainAdaptation/BoMN/.venv/lib/python3.12/site-packages/keras/src/layers/layer.py:814\u001B[0m, in \u001B[0;36mLayer.__call__\u001B[0;34m(self, *args, **kwargs)\u001B[0m\n\u001B[1;32m    812\u001B[0m         outputs \u001B[38;5;241m=\u001B[39m \u001B[38;5;28msuper\u001B[39m()\u001B[38;5;241m.\u001B[39m\u001B[38;5;21m__call__\u001B[39m(\u001B[38;5;241m*\u001B[39margs, \u001B[38;5;241m*\u001B[39m\u001B[38;5;241m*\u001B[39mkwargs)\n\u001B[1;32m    813\u001B[0m \u001B[38;5;28;01melse\u001B[39;00m:\n\u001B[0;32m--> 814\u001B[0m     outputs \u001B[38;5;241m=\u001B[39m \u001B[38;5;28;43msuper\u001B[39;49m\u001B[43m(\u001B[49m\u001B[43m)\u001B[49m\u001B[38;5;241;43m.\u001B[39;49m\u001B[38;5;21;43m__call__\u001B[39;49m\u001B[43m(\u001B[49m\u001B[38;5;241;43m*\u001B[39;49m\u001B[43margs\u001B[49m\u001B[43m,\u001B[49m\u001B[43m \u001B[49m\u001B[38;5;241;43m*\u001B[39;49m\u001B[38;5;241;43m*\u001B[39;49m\u001B[43mkwargs\u001B[49m\u001B[43m)\u001B[49m\n\u001B[1;32m    815\u001B[0m \u001B[38;5;66;03m# Change the layout for the layer output if needed.\u001B[39;00m\n\u001B[1;32m    816\u001B[0m \u001B[38;5;66;03m# This is useful for relayout intermediate tensor in the model\u001B[39;00m\n\u001B[1;32m    817\u001B[0m \u001B[38;5;66;03m# to achieve the optimal performance.\u001B[39;00m\n\u001B[1;32m    818\u001B[0m distribution \u001B[38;5;241m=\u001B[39m distribution_lib\u001B[38;5;241m.\u001B[39mdistribution()\n",
      "File \u001B[0;32m~/School/DomainAdaptation/BoMN/.venv/lib/python3.12/site-packages/torch/nn/modules/module.py:1511\u001B[0m, in \u001B[0;36mModule._wrapped_call_impl\u001B[0;34m(self, *args, **kwargs)\u001B[0m\n\u001B[1;32m   1509\u001B[0m     \u001B[38;5;28;01mreturn\u001B[39;00m \u001B[38;5;28mself\u001B[39m\u001B[38;5;241m.\u001B[39m_compiled_call_impl(\u001B[38;5;241m*\u001B[39margs, \u001B[38;5;241m*\u001B[39m\u001B[38;5;241m*\u001B[39mkwargs)  \u001B[38;5;66;03m# type: ignore[misc]\u001B[39;00m\n\u001B[1;32m   1510\u001B[0m \u001B[38;5;28;01melse\u001B[39;00m:\n\u001B[0;32m-> 1511\u001B[0m     \u001B[38;5;28;01mreturn\u001B[39;00m \u001B[38;5;28;43mself\u001B[39;49m\u001B[38;5;241;43m.\u001B[39;49m\u001B[43m_call_impl\u001B[49m\u001B[43m(\u001B[49m\u001B[38;5;241;43m*\u001B[39;49m\u001B[43margs\u001B[49m\u001B[43m,\u001B[49m\u001B[43m \u001B[49m\u001B[38;5;241;43m*\u001B[39;49m\u001B[38;5;241;43m*\u001B[39;49m\u001B[43mkwargs\u001B[49m\u001B[43m)\u001B[49m\n",
      "File \u001B[0;32m~/School/DomainAdaptation/BoMN/.venv/lib/python3.12/site-packages/torch/nn/modules/module.py:1520\u001B[0m, in \u001B[0;36mModule._call_impl\u001B[0;34m(self, *args, **kwargs)\u001B[0m\n\u001B[1;32m   1515\u001B[0m \u001B[38;5;66;03m# If we don't have any hooks, we want to skip the rest of the logic in\u001B[39;00m\n\u001B[1;32m   1516\u001B[0m \u001B[38;5;66;03m# this function, and just call forward.\u001B[39;00m\n\u001B[1;32m   1517\u001B[0m \u001B[38;5;28;01mif\u001B[39;00m \u001B[38;5;129;01mnot\u001B[39;00m (\u001B[38;5;28mself\u001B[39m\u001B[38;5;241m.\u001B[39m_backward_hooks \u001B[38;5;129;01mor\u001B[39;00m \u001B[38;5;28mself\u001B[39m\u001B[38;5;241m.\u001B[39m_backward_pre_hooks \u001B[38;5;129;01mor\u001B[39;00m \u001B[38;5;28mself\u001B[39m\u001B[38;5;241m.\u001B[39m_forward_hooks \u001B[38;5;129;01mor\u001B[39;00m \u001B[38;5;28mself\u001B[39m\u001B[38;5;241m.\u001B[39m_forward_pre_hooks\n\u001B[1;32m   1518\u001B[0m         \u001B[38;5;129;01mor\u001B[39;00m _global_backward_pre_hooks \u001B[38;5;129;01mor\u001B[39;00m _global_backward_hooks\n\u001B[1;32m   1519\u001B[0m         \u001B[38;5;129;01mor\u001B[39;00m _global_forward_hooks \u001B[38;5;129;01mor\u001B[39;00m _global_forward_pre_hooks):\n\u001B[0;32m-> 1520\u001B[0m     \u001B[38;5;28;01mreturn\u001B[39;00m \u001B[43mforward_call\u001B[49m\u001B[43m(\u001B[49m\u001B[38;5;241;43m*\u001B[39;49m\u001B[43margs\u001B[49m\u001B[43m,\u001B[49m\u001B[43m \u001B[49m\u001B[38;5;241;43m*\u001B[39;49m\u001B[38;5;241;43m*\u001B[39;49m\u001B[43mkwargs\u001B[49m\u001B[43m)\u001B[49m\n\u001B[1;32m   1522\u001B[0m \u001B[38;5;28;01mtry\u001B[39;00m:\n\u001B[1;32m   1523\u001B[0m     result \u001B[38;5;241m=\u001B[39m \u001B[38;5;28;01mNone\u001B[39;00m\n",
      "File \u001B[0;32m~/School/DomainAdaptation/BoMN/.venv/lib/python3.12/site-packages/keras/src/backend/torch/layer.py:26\u001B[0m, in \u001B[0;36mTorchLayer.forward\u001B[0;34m(self, *args, **kwargs)\u001B[0m\n\u001B[1;32m     25\u001B[0m \u001B[38;5;28;01mdef\u001B[39;00m \u001B[38;5;21mforward\u001B[39m(\u001B[38;5;28mself\u001B[39m, \u001B[38;5;241m*\u001B[39margs, \u001B[38;5;241m*\u001B[39m\u001B[38;5;241m*\u001B[39mkwargs):\n\u001B[0;32m---> 26\u001B[0m     \u001B[38;5;28;01mreturn\u001B[39;00m \u001B[43mOperation\u001B[49m\u001B[38;5;241;43m.\u001B[39;49m\u001B[38;5;21;43m__call__\u001B[39;49m\u001B[43m(\u001B[49m\u001B[38;5;28;43mself\u001B[39;49m\u001B[43m,\u001B[49m\u001B[43m \u001B[49m\u001B[38;5;241;43m*\u001B[39;49m\u001B[43margs\u001B[49m\u001B[43m,\u001B[49m\u001B[43m \u001B[49m\u001B[38;5;241;43m*\u001B[39;49m\u001B[38;5;241;43m*\u001B[39;49m\u001B[43mkwargs\u001B[49m\u001B[43m)\u001B[49m\n",
      "File \u001B[0;32m~/School/DomainAdaptation/BoMN/.venv/lib/python3.12/site-packages/keras/src/utils/traceback_utils.py:117\u001B[0m, in \u001B[0;36mfilter_traceback.<locals>.error_handler\u001B[0;34m(*args, **kwargs)\u001B[0m\n\u001B[1;32m    115\u001B[0m filtered_tb \u001B[38;5;241m=\u001B[39m \u001B[38;5;28;01mNone\u001B[39;00m\n\u001B[1;32m    116\u001B[0m \u001B[38;5;28;01mtry\u001B[39;00m:\n\u001B[0;32m--> 117\u001B[0m     \u001B[38;5;28;01mreturn\u001B[39;00m \u001B[43mfn\u001B[49m\u001B[43m(\u001B[49m\u001B[38;5;241;43m*\u001B[39;49m\u001B[43margs\u001B[49m\u001B[43m,\u001B[49m\u001B[43m \u001B[49m\u001B[38;5;241;43m*\u001B[39;49m\u001B[38;5;241;43m*\u001B[39;49m\u001B[43mkwargs\u001B[49m\u001B[43m)\u001B[49m\n\u001B[1;32m    118\u001B[0m \u001B[38;5;28;01mexcept\u001B[39;00m \u001B[38;5;167;01mException\u001B[39;00m \u001B[38;5;28;01mas\u001B[39;00m e:\n\u001B[1;32m    119\u001B[0m     filtered_tb \u001B[38;5;241m=\u001B[39m _process_traceback_frames(e\u001B[38;5;241m.\u001B[39m__traceback__)\n",
      "File \u001B[0;32m~/School/DomainAdaptation/BoMN/.venv/lib/python3.12/site-packages/keras/src/ops/operation.py:48\u001B[0m, in \u001B[0;36mOperation.__call__\u001B[0;34m(self, *args, **kwargs)\u001B[0m\n\u001B[1;32m     43\u001B[0m             call_fn \u001B[38;5;241m=\u001B[39m \u001B[38;5;28mself\u001B[39m\u001B[38;5;241m.\u001B[39mcall\n\u001B[1;32m     44\u001B[0m     call_fn \u001B[38;5;241m=\u001B[39m traceback_utils\u001B[38;5;241m.\u001B[39minject_argument_info_in_traceback(\n\u001B[1;32m     45\u001B[0m         call_fn,\n\u001B[1;32m     46\u001B[0m         object_name\u001B[38;5;241m=\u001B[39m(\u001B[38;5;124mf\u001B[39m\u001B[38;5;124m\"\u001B[39m\u001B[38;5;132;01m{\u001B[39;00m\u001B[38;5;28mself\u001B[39m\u001B[38;5;241m.\u001B[39m\u001B[38;5;18m__class__\u001B[39m\u001B[38;5;241m.\u001B[39m\u001B[38;5;18m__name__\u001B[39m\u001B[38;5;132;01m}\u001B[39;00m\u001B[38;5;124m.call()\u001B[39m\u001B[38;5;124m\"\u001B[39m),\n\u001B[1;32m     47\u001B[0m     )\n\u001B[0;32m---> 48\u001B[0m     \u001B[38;5;28;01mreturn\u001B[39;00m \u001B[43mcall_fn\u001B[49m\u001B[43m(\u001B[49m\u001B[38;5;241;43m*\u001B[39;49m\u001B[43margs\u001B[49m\u001B[43m,\u001B[49m\u001B[43m \u001B[49m\u001B[38;5;241;43m*\u001B[39;49m\u001B[38;5;241;43m*\u001B[39;49m\u001B[43mkwargs\u001B[49m\u001B[43m)\u001B[49m\n\u001B[1;32m     50\u001B[0m \u001B[38;5;66;03m# Plain flow.\u001B[39;00m\n\u001B[1;32m     51\u001B[0m \u001B[38;5;28;01mif\u001B[39;00m any_symbolic_tensors(args, kwargs):\n",
      "File \u001B[0;32m~/School/DomainAdaptation/BoMN/.venv/lib/python3.12/site-packages/keras/src/utils/traceback_utils.py:156\u001B[0m, in \u001B[0;36minject_argument_info_in_traceback.<locals>.error_handler\u001B[0;34m(*args, **kwargs)\u001B[0m\n\u001B[1;32m    154\u001B[0m bound_signature \u001B[38;5;241m=\u001B[39m \u001B[38;5;28;01mNone\u001B[39;00m\n\u001B[1;32m    155\u001B[0m \u001B[38;5;28;01mtry\u001B[39;00m:\n\u001B[0;32m--> 156\u001B[0m     \u001B[38;5;28;01mreturn\u001B[39;00m \u001B[43mfn\u001B[49m\u001B[43m(\u001B[49m\u001B[38;5;241;43m*\u001B[39;49m\u001B[43margs\u001B[49m\u001B[43m,\u001B[49m\u001B[43m \u001B[49m\u001B[38;5;241;43m*\u001B[39;49m\u001B[38;5;241;43m*\u001B[39;49m\u001B[43mkwargs\u001B[49m\u001B[43m)\u001B[49m\n\u001B[1;32m    157\u001B[0m \u001B[38;5;28;01mexcept\u001B[39;00m \u001B[38;5;167;01mException\u001B[39;00m \u001B[38;5;28;01mas\u001B[39;00m e:\n\u001B[1;32m    158\u001B[0m     \u001B[38;5;28;01mif\u001B[39;00m \u001B[38;5;28mhasattr\u001B[39m(e, \u001B[38;5;124m\"\u001B[39m\u001B[38;5;124m_keras_call_info_injected\u001B[39m\u001B[38;5;124m\"\u001B[39m):\n\u001B[1;32m    159\u001B[0m         \u001B[38;5;66;03m# Only inject info for the innermost failing call\u001B[39;00m\n",
      "File \u001B[0;32m~/School/DomainAdaptation/BoMN/.venv/lib/python3.12/site-packages/keras/src/models/functional.py:194\u001B[0m, in \u001B[0;36mFunctional.call\u001B[0;34m(self, inputs, training, mask)\u001B[0m\n\u001B[1;32m    192\u001B[0m         \u001B[38;5;28;01mif\u001B[39;00m mask \u001B[38;5;129;01mis\u001B[39;00m \u001B[38;5;129;01mnot\u001B[39;00m \u001B[38;5;28;01mNone\u001B[39;00m:\n\u001B[1;32m    193\u001B[0m             x\u001B[38;5;241m.\u001B[39m_keras_mask \u001B[38;5;241m=\u001B[39m mask\n\u001B[0;32m--> 194\u001B[0m outputs \u001B[38;5;241m=\u001B[39m \u001B[38;5;28;43mself\u001B[39;49m\u001B[38;5;241;43m.\u001B[39;49m\u001B[43m_run_through_graph\u001B[49m\u001B[43m(\u001B[49m\n\u001B[1;32m    195\u001B[0m \u001B[43m    \u001B[49m\u001B[43minputs\u001B[49m\u001B[43m,\u001B[49m\u001B[43m \u001B[49m\u001B[43moperation_fn\u001B[49m\u001B[38;5;241;43m=\u001B[39;49m\u001B[38;5;28;43;01mlambda\u001B[39;49;00m\u001B[43m \u001B[49m\u001B[43mop\u001B[49m\u001B[43m:\u001B[49m\u001B[43m \u001B[49m\u001B[43moperation_fn\u001B[49m\u001B[43m(\u001B[49m\u001B[43mop\u001B[49m\u001B[43m,\u001B[49m\u001B[43m \u001B[49m\u001B[43mtraining\u001B[49m\u001B[38;5;241;43m=\u001B[39;49m\u001B[43mtraining\u001B[49m\u001B[43m)\u001B[49m\n\u001B[1;32m    196\u001B[0m \u001B[43m\u001B[49m\u001B[43m)\u001B[49m\n\u001B[1;32m    197\u001B[0m \u001B[38;5;28;01mreturn\u001B[39;00m unpack_singleton(outputs)\n",
      "File \u001B[0;32m~/School/DomainAdaptation/BoMN/.venv/lib/python3.12/site-packages/keras/src/ops/function.py:151\u001B[0m, in \u001B[0;36mFunction._run_through_graph\u001B[0;34m(self, inputs, operation_fn)\u001B[0m\n\u001B[1;32m    148\u001B[0m     \u001B[38;5;28;01mcontinue\u001B[39;00m  \u001B[38;5;66;03m# Node is not computable, try skipping.\u001B[39;00m\n\u001B[1;32m    150\u001B[0m args, kwargs \u001B[38;5;241m=\u001B[39m node\u001B[38;5;241m.\u001B[39marguments\u001B[38;5;241m.\u001B[39mfill_in(tensor_dict)\n\u001B[0;32m--> 151\u001B[0m outputs \u001B[38;5;241m=\u001B[39m \u001B[43moperation_fn\u001B[49m\u001B[43m(\u001B[49m\u001B[43mnode\u001B[49m\u001B[38;5;241;43m.\u001B[39;49m\u001B[43moperation\u001B[49m\u001B[43m)\u001B[49m\u001B[43m(\u001B[49m\u001B[38;5;241;43m*\u001B[39;49m\u001B[43margs\u001B[49m\u001B[43m,\u001B[49m\u001B[43m \u001B[49m\u001B[38;5;241;43m*\u001B[39;49m\u001B[38;5;241;43m*\u001B[39;49m\u001B[43mkwargs\u001B[49m\u001B[43m)\u001B[49m\n\u001B[1;32m    153\u001B[0m \u001B[38;5;66;03m# Update tensor_dict.\u001B[39;00m\n\u001B[1;32m    154\u001B[0m \u001B[38;5;28;01mfor\u001B[39;00m x, y \u001B[38;5;129;01min\u001B[39;00m \u001B[38;5;28mzip\u001B[39m(node\u001B[38;5;241m.\u001B[39moutputs, tree\u001B[38;5;241m.\u001B[39mflatten(outputs)):\n",
      "File \u001B[0;32m~/School/DomainAdaptation/BoMN/.venv/lib/python3.12/site-packages/keras/src/models/functional.py:578\u001B[0m, in \u001B[0;36moperation_fn.<locals>.call\u001B[0;34m(*args, **kwargs)\u001B[0m\n\u001B[1;32m    572\u001B[0m \u001B[38;5;28;01mif\u001B[39;00m (\n\u001B[1;32m    573\u001B[0m     \u001B[38;5;28mhasattr\u001B[39m(operation, \u001B[38;5;124m\"\u001B[39m\u001B[38;5;124m_call_has_training_arg\u001B[39m\u001B[38;5;124m\"\u001B[39m)\n\u001B[1;32m    574\u001B[0m     \u001B[38;5;129;01mand\u001B[39;00m operation\u001B[38;5;241m.\u001B[39m_call_has_training_arg\n\u001B[1;32m    575\u001B[0m     \u001B[38;5;129;01mand\u001B[39;00m training \u001B[38;5;129;01mis\u001B[39;00m \u001B[38;5;129;01mnot\u001B[39;00m \u001B[38;5;28;01mNone\u001B[39;00m\n\u001B[1;32m    576\u001B[0m ):\n\u001B[1;32m    577\u001B[0m     kwargs[\u001B[38;5;124m\"\u001B[39m\u001B[38;5;124mtraining\u001B[39m\u001B[38;5;124m\"\u001B[39m] \u001B[38;5;241m=\u001B[39m training\n\u001B[0;32m--> 578\u001B[0m \u001B[38;5;28;01mreturn\u001B[39;00m \u001B[43moperation\u001B[49m\u001B[43m(\u001B[49m\u001B[38;5;241;43m*\u001B[39;49m\u001B[43margs\u001B[49m\u001B[43m,\u001B[49m\u001B[43m \u001B[49m\u001B[38;5;241;43m*\u001B[39;49m\u001B[38;5;241;43m*\u001B[39;49m\u001B[43mkwargs\u001B[49m\u001B[43m)\u001B[49m\n",
      "File \u001B[0;32m~/School/DomainAdaptation/BoMN/.venv/lib/python3.12/site-packages/keras/src/utils/traceback_utils.py:117\u001B[0m, in \u001B[0;36mfilter_traceback.<locals>.error_handler\u001B[0;34m(*args, **kwargs)\u001B[0m\n\u001B[1;32m    115\u001B[0m filtered_tb \u001B[38;5;241m=\u001B[39m \u001B[38;5;28;01mNone\u001B[39;00m\n\u001B[1;32m    116\u001B[0m \u001B[38;5;28;01mtry\u001B[39;00m:\n\u001B[0;32m--> 117\u001B[0m     \u001B[38;5;28;01mreturn\u001B[39;00m \u001B[43mfn\u001B[49m\u001B[43m(\u001B[49m\u001B[38;5;241;43m*\u001B[39;49m\u001B[43margs\u001B[49m\u001B[43m,\u001B[49m\u001B[43m \u001B[49m\u001B[38;5;241;43m*\u001B[39;49m\u001B[38;5;241;43m*\u001B[39;49m\u001B[43mkwargs\u001B[49m\u001B[43m)\u001B[49m\n\u001B[1;32m    118\u001B[0m \u001B[38;5;28;01mexcept\u001B[39;00m \u001B[38;5;167;01mException\u001B[39;00m \u001B[38;5;28;01mas\u001B[39;00m e:\n\u001B[1;32m    119\u001B[0m     filtered_tb \u001B[38;5;241m=\u001B[39m _process_traceback_frames(e\u001B[38;5;241m.\u001B[39m__traceback__)\n",
      "File \u001B[0;32m~/School/DomainAdaptation/BoMN/.venv/lib/python3.12/site-packages/keras/src/layers/layer.py:734\u001B[0m, in \u001B[0;36mLayer.__call__\u001B[0;34m(self, *args, **kwargs)\u001B[0m\n\u001B[1;32m    729\u001B[0m call_spec \u001B[38;5;241m=\u001B[39m CallSpec(\u001B[38;5;28mself\u001B[39m\u001B[38;5;241m.\u001B[39m_call_signature, args, kwargs)\n\u001B[1;32m    731\u001B[0m \u001B[38;5;66;03m############################################\u001B[39;00m\n\u001B[1;32m    732\u001B[0m \u001B[38;5;66;03m# 3. Check input spec for 1st positional arg.\u001B[39;00m\n\u001B[1;32m    733\u001B[0m \u001B[38;5;66;03m# TODO: consider extending this to all args and kwargs.\u001B[39;00m\n\u001B[0;32m--> 734\u001B[0m \u001B[38;5;28;43mself\u001B[39;49m\u001B[38;5;241;43m.\u001B[39;49m\u001B[43m_assert_input_compatibility\u001B[49m\u001B[43m(\u001B[49m\u001B[43mcall_spec\u001B[49m\u001B[38;5;241;43m.\u001B[39;49m\u001B[43mfirst_arg\u001B[49m\u001B[43m)\u001B[49m\n\u001B[1;32m    736\u001B[0m \u001B[38;5;66;03m################\u001B[39;00m\n\u001B[1;32m    737\u001B[0m \u001B[38;5;66;03m# 4. Call build\u001B[39;00m\n\u001B[1;32m    738\u001B[0m \u001B[38;5;28;01mwith\u001B[39;00m backend\u001B[38;5;241m.\u001B[39mname_scope(\u001B[38;5;28mself\u001B[39m\u001B[38;5;241m.\u001B[39mname, caller\u001B[38;5;241m=\u001B[39m\u001B[38;5;28mself\u001B[39m):\n",
      "File \u001B[0;32m~/School/DomainAdaptation/BoMN/.venv/lib/python3.12/site-packages/keras/src/layers/layer.py:1322\u001B[0m, in \u001B[0;36mLayer._assert_input_compatibility\u001B[0;34m(self, arg_0)\u001B[0m\n\u001B[1;32m   1320\u001B[0m \u001B[38;5;28;01mdef\u001B[39;00m \u001B[38;5;21m_assert_input_compatibility\u001B[39m(\u001B[38;5;28mself\u001B[39m, arg_0):\n\u001B[1;32m   1321\u001B[0m     \u001B[38;5;28;01mif\u001B[39;00m \u001B[38;5;28mself\u001B[39m\u001B[38;5;241m.\u001B[39minput_spec:\n\u001B[0;32m-> 1322\u001B[0m         \u001B[43minput_spec\u001B[49m\u001B[38;5;241;43m.\u001B[39;49m\u001B[43massert_input_compatibility\u001B[49m\u001B[43m(\u001B[49m\n\u001B[1;32m   1323\u001B[0m \u001B[43m            \u001B[49m\u001B[38;5;28;43mself\u001B[39;49m\u001B[38;5;241;43m.\u001B[39;49m\u001B[43minput_spec\u001B[49m\u001B[43m,\u001B[49m\u001B[43m \u001B[49m\u001B[43marg_0\u001B[49m\u001B[43m,\u001B[49m\u001B[43m \u001B[49m\u001B[43mlayer_name\u001B[49m\u001B[38;5;241;43m=\u001B[39;49m\u001B[38;5;28;43mself\u001B[39;49m\u001B[38;5;241;43m.\u001B[39;49m\u001B[43mname\u001B[49m\n\u001B[1;32m   1324\u001B[0m \u001B[43m        \u001B[49m\u001B[43m)\u001B[49m\n",
      "File \u001B[0;32m~/School/DomainAdaptation/BoMN/.venv/lib/python3.12/site-packages/keras/src/layers/input_spec.py:165\u001B[0m, in \u001B[0;36massert_input_compatibility\u001B[0;34m(input_spec, inputs, layer_name)\u001B[0m\n\u001B[1;32m    156\u001B[0m     \u001B[38;5;28;01mraise\u001B[39;00m \u001B[38;5;167;01mValueError\u001B[39;00m(\n\u001B[1;32m    157\u001B[0m         \u001B[38;5;124mf\u001B[39m\u001B[38;5;124m\"\u001B[39m\u001B[38;5;124mLayer \u001B[39m\u001B[38;5;124m'\u001B[39m\u001B[38;5;132;01m{\u001B[39;00mlayer_name\u001B[38;5;132;01m}\u001B[39;00m\u001B[38;5;124m'\u001B[39m\u001B[38;5;124m expected \u001B[39m\u001B[38;5;132;01m{\u001B[39;00m\u001B[38;5;28mlen\u001B[39m(input_spec)\u001B[38;5;132;01m}\u001B[39;00m\u001B[38;5;124m input(s). \u001B[39m\u001B[38;5;124m\"\u001B[39m\n\u001B[1;32m    158\u001B[0m         \u001B[38;5;124mf\u001B[39m\u001B[38;5;124m\"\u001B[39m\u001B[38;5;124mReceived \u001B[39m\u001B[38;5;132;01m{\u001B[39;00m\u001B[38;5;28mlen\u001B[39m(inputs)\u001B[38;5;132;01m}\u001B[39;00m\u001B[38;5;124m instead.\u001B[39m\u001B[38;5;124m\"\u001B[39m\n\u001B[1;32m    159\u001B[0m     )\n\u001B[1;32m    160\u001B[0m \u001B[38;5;28;01mfor\u001B[39;00m x \u001B[38;5;129;01min\u001B[39;00m inputs:\n\u001B[1;32m    161\u001B[0m     \u001B[38;5;66;03m# Having a shape/dtype is the only commonality of the various\u001B[39;00m\n\u001B[1;32m    162\u001B[0m     \u001B[38;5;66;03m# tensor-like objects that may be passed. The most common kind of\u001B[39;00m\n\u001B[1;32m    163\u001B[0m     \u001B[38;5;66;03m# invalid type we are guarding for is a Layer instance (Functional API),\u001B[39;00m\n\u001B[1;32m    164\u001B[0m     \u001B[38;5;66;03m# which does not have a `shape` attribute.\u001B[39;00m\n\u001B[0;32m--> 165\u001B[0m     \u001B[38;5;28;01mif\u001B[39;00m \u001B[38;5;129;01mnot\u001B[39;00m \u001B[38;5;28;43mhasattr\u001B[39;49m\u001B[43m(\u001B[49m\u001B[43mx\u001B[49m\u001B[43m,\u001B[49m\u001B[43m \u001B[49m\u001B[38;5;124;43m\"\u001B[39;49m\u001B[38;5;124;43mshape\u001B[39;49m\u001B[38;5;124;43m\"\u001B[39;49m\u001B[43m)\u001B[49m:\n\u001B[1;32m    166\u001B[0m         \u001B[38;5;28;01mraise\u001B[39;00m \u001B[38;5;167;01mValueError\u001B[39;00m(\n\u001B[1;32m    167\u001B[0m             \u001B[38;5;124mf\u001B[39m\u001B[38;5;124m\"\u001B[39m\u001B[38;5;124mInputs to a layer should be tensors. Got \u001B[39m\u001B[38;5;124m'\u001B[39m\u001B[38;5;132;01m{\u001B[39;00mx\u001B[38;5;132;01m}\u001B[39;00m\u001B[38;5;124m'\u001B[39m\u001B[38;5;124m \u001B[39m\u001B[38;5;124m\"\u001B[39m\n\u001B[1;32m    168\u001B[0m             \u001B[38;5;124mf\u001B[39m\u001B[38;5;124m\"\u001B[39m\u001B[38;5;124m(of type \u001B[39m\u001B[38;5;132;01m{\u001B[39;00m\u001B[38;5;28mtype\u001B[39m(x)\u001B[38;5;132;01m}\u001B[39;00m\u001B[38;5;124m) as input for layer \u001B[39m\u001B[38;5;124m'\u001B[39m\u001B[38;5;132;01m{\u001B[39;00mlayer_name\u001B[38;5;132;01m}\u001B[39;00m\u001B[38;5;124m'\u001B[39m\u001B[38;5;124m.\u001B[39m\u001B[38;5;124m\"\u001B[39m\n\u001B[1;32m    169\u001B[0m         )\n\u001B[1;32m    171\u001B[0m \u001B[38;5;28;01mif\u001B[39;00m \u001B[38;5;28mlen\u001B[39m(inputs) \u001B[38;5;241m!=\u001B[39m \u001B[38;5;28mlen\u001B[39m(input_spec):\n",
      "\u001B[0;31mKeyboardInterrupt\u001B[0m: "
     ]
    }
   ],
   "source": [
    "from keras.optimizers import Adam\n",
    "from keras.callbacks import TensorBoard, ModelCheckpoint\n",
    "from keras.losses import MeanSquaredError\n",
    "from keras_tqdm import TQDMNotebookCallback\n",
    "\n",
    "\n",
    "lr_schedule = keras.optimizers.schedules.ExponentialDecay(\n",
    "    initial_learning_rate=.001,\n",
    "    decay_steps=300,\n",
    "    decay_rate=0.96,\n",
    "    staircase=True)\n",
    "\n",
    "\n",
    "model.compile(\n",
    "    optimizer=Adam(learning_rate=lr_schedule),\n",
    "    loss={\n",
    "        'head_out': MeanSquaredError(),\n",
    "        'neck_out': MeanSquaredError(),\n",
    "        'shoulder_to_shoulder_out': MeanSquaredError(),\n",
    "        'shoulder_to_wrist_out': MeanSquaredError(),\n",
    "        'torso_out': MeanSquaredError(),\n",
    "        'bicep_out': MeanSquaredError(),\n",
    "        'wrist_out': MeanSquaredError(),\n",
    "        'chest_out': MeanSquaredError(),\n",
    "        'waist_out': MeanSquaredError(),\n",
    "        'pelvis_out': MeanSquaredError(),\n",
    "        'inner_leg_out': MeanSquaredError(),\n",
    "        'thigh_out': MeanSquaredError(),\n",
    "        'knee_out': MeanSquaredError(),\n",
    "        'calf_out': MeanSquaredError()\n",
    "    },\n",
    "    # loss_weights={\n",
    "    #     'head_out': 2.0,\n",
    "    #     'neck_out': 1.0,\n",
    "    #     'shoulder_to_shoulder_out': 2.0,\n",
    "    #     'arm_out': 1.0,\n",
    "    #     'shoulder_to_wrist_out': 1.0,\n",
    "    #     'torso_out': 1.0,\n",
    "    #     'bicep_out': 1.0,\n",
    "    #     'wrist_out': 1.0,\n",
    "    #     'chest_out': 1.0,\n",
    "    #     'waist_out': 1.0,\n",
    "    #     'pelvis_out': 1.0,\n",
    "    #     'leg_out': 1.0,\n",
    "    #     'inner_leg_out': 3.0,\n",
    "    #     'thigh_out': 1.0,\n",
    "    #     'knee_out': 1.0,\n",
    "    #     'calf_out': 1.0\n",
    "    # },\n",
    "    # loss='mse',\n",
    "    metrics={\n",
    "        'head_out': ['mae'],\n",
    "        'neck_out': ['mae'],\n",
    "        'shoulder_to_shoulder_out': ['mae'],\n",
    "        'shoulder_to_wrist_out': ['mae'],\n",
    "        'torso_out': ['mae'],\n",
    "        'bicep_out': ['mae'],\n",
    "        'wrist_out': ['mae'],\n",
    "        'chest_out': ['mae'],\n",
    "        'waist_out': ['mae'],\n",
    "        'pelvis_out': ['mae'],\n",
    "        'inner_leg_out': ['mae'],\n",
    "        'thigh_out': ['mae'],\n",
    "        'knee_out': ['mae'],\n",
    "        'calf_out': ['mae']\n",
    "    },\n",
    ")\n",
    "keras.utils.set_random_seed(42)\n",
    "\n",
    "\n",
    "checkpoint_filepath = './models/checkpoint.model.keras'\n",
    "model_checkpoint_callback = keras.callbacks.ModelCheckpoint(\n",
    "    filepath=checkpoint_filepath,\n",
    "    monitor='loss',\n",
    "    mode='min',\n",
    "    save_best_only=True)\n",
    "\n",
    "model.fit(\n",
    "    x=train_generator,\n",
    "    validation_data=validation_generator,\n",
    "    callbacks=[\n",
    "        \n",
    "        TensorBoard(write_graph=False,log_dir=\"./logs\"),\n",
    "        TQDMNotebookCallback(separator=\"\", metric_format=\"{name}: {value:0.8f} || \"),\n",
    "        model_checkpoint_callback,\n",
    "    ],\n",
    "    batch_size=9,\n",
    "    epochs=30,\n",
    "    verbose=0\n",
    ")\n",
    "\n",
    "model.save(\"./models/full/model.keras\")\n",
    "# \n",
    "# for i in range(10000):\n",
    "#     image = cv2.imread(f\"../Surreact-APose/train/imgs_nobg_frontEDITED/Avatar_{6969+i:06d}.png\", cv2.IMREAD_GRAYSCALE)\n",
    "# \n",
    "#     print(model.predict(np.array([image])))\n",
    "#     "
   ],
   "metadata": {
    "collapsed": false,
    "ExecuteTime": {
     "end_time": "2024-04-12T21:48:03.233628Z",
     "start_time": "2024-04-12T07:49:47.456128Z"
    }
   },
   "id": "54a15a398efa0ffb",
   "execution_count": 5
  },
  {
   "cell_type": "code",
   "outputs": [],
   "source": [
    "from keras.models import load_model\n",
    "import cv2\n",
    "import numpy as np\n",
    "model = load_model(\"./models/checkpoint.model.keras\")\n",
    "\n",
    "#ankle\tarm-length\tbicep\tcalf\tchest\tforearm\theight\thip\tleg-length\tshoulder-breadth\tshoulder-to-crotch\tthigh\twaist\twrist\n",
    "\n",
    "\n",
    "def printResults(name, val1, val2):\n",
    "    if val2 == \"N/A\":\n",
    "        print(name, \" - \", val1, val2)\n",
    "        return \n",
    "    print(name, \" - \", val1, val2, \" error - \", abs(val1 - val2))\n",
    "\n",
    "\n",
    "\n",
    "\n",
    "for i in range(1):\n",
    "    image = cv2.imread(f\"../bodym-dataset/front/images/Avatar_{i:06d}.png\", cv2.IMREAD_GRAYSCALE)\n",
    "    data = np.load(f\"../bodym-dataset/front/measurements/Avatar_{i:06d}.npy\")\n",
    "    predictions = model.predict(np.array([image]))\n",
    "    printResults(\"Head\", predictions[0], \"N/A\")\n",
    "    printResults(\"Neck\", predictions[1], \"N/A\")\n",
    "    printResults(\"Shoulder to shoulder\", predictions[2], data[9]/100)\n",
    "    printResults(\"Shoulder to wrist\", predictions[3], data[1]/100)\n",
    "    printResults(\"Torso\", predictions[4], \"N/A\")\n",
    "    printResults(\"Bicep\", predictions[5], data[2]/100)\n",
    "    printResults(\"Wrist\", predictions[6], data[13]/100)\n",
    "    printResults(\"Chest\", predictions[7], data[4]/100)\n",
    "    printResults(\"Waist\", predictions[8], data[12]/100)\n",
    "    printResults(\"Pelvis\", predictions[9], data[6]/100)\n",
    "    printResults(\"Inner leg\", predictions[10], data[7]/100)\n",
    "    printResults(\"Thigh\", predictions[11], data[11]/100)\n",
    "    printResults(\"Knee\", predictions[12], \"N/A\")\n",
    "    printResults(\"Calf\", predictions[13], data[3]/100)\n",
    "    "
   ],
   "metadata": {
    "collapsed": false
   },
   "id": "e2e37a391e152295",
   "execution_count": null
  },
  {
   "cell_type": "code",
   "outputs": [],
   "source": [
    "#Data modifiaction\n",
    "\n",
    "# import os\n",
    "# from tqdm import tqdm\n",
    "# \n",
    "# avatar_count = 79999\n",
    "# counter = 0\n",
    "# \n",
    "# for number in tqdm(range(avatar_count)):\n",
    "#     if number == 5:\n",
    "#         continue\n",
    "#     file = (tuple(np.load(f\"../Surreact-APose/train/measurements/Avatar_{number:06d}.npy\", allow_pickle=True)))\n",
    "#     measurements = []\n",
    "#     for value in file:\n",
    "#         measurements.append(float(value))\n",
    "#     np.save(f\"../Surreact-APose/train/measurements/Avatar_{counter:06d}\", measurements)\n",
    "#     counter += 1"
   ],
   "metadata": {
    "collapsed": false
   },
   "id": "6aa9583a841fdb3f",
   "execution_count": null
  },
  {
   "cell_type": "code",
   "outputs": [],
   "source": [
    "# #Image modification\n",
    "# \n",
    "# import os\n",
    "# import cv2\n",
    "# from tqdm import tqdm\n",
    "# \n",
    "# \n",
    "# avatar_count = 79999\n",
    "# counter = 0\n",
    "# \n",
    "# for number in tqdm(range(avatar_count)):\n",
    "#     if number == 5:\n",
    "#         continue\n",
    "#     image = cv2.imread(f\"../Surreact-APose/train/imgs_nobg_front/Avatar_{number:06d}.png\", cv2.IMREAD_UNCHANGED)\n",
    "#     alpha_channel = image[:, :, 3]\n",
    "#     zero_alpha_indices = alpha_channel > 30\n",
    "#     image[zero_alpha_indices] = [255, 255, 255, 255]\n",
    "#     image = cv2.cvtColor(image, cv2.COLOR_mRGBA2RGBA)\n",
    "# \n",
    "#     cv2.imwrite(f\"../Surreact-APose/train/imgs_nobg_frontEDITED/Avatar_{counter:06d}.png\", image)\n",
    "#     counter +=1"
   ],
   "metadata": {
    "collapsed": false
   },
   "id": "df9f18fda9a0a122",
   "execution_count": null
  },
  {
   "cell_type": "code",
   "outputs": [],
   "source": [
    "#FOR BODY_M DATASET\n",
    "# import csv\n",
    "# import numpy as np\n",
    "# import os\n",
    "# \n",
    "# import cv2\n",
    "# import tqdm.notebook\n",
    "# \n",
    "# counter = 0\n",
    "# for folder in tqdm.notebook.tqdm([\"train\",\"testA\",\"testB\"]):\n",
    "# \n",
    "#     with open('../bodym-dataset/'+folder+'/subject_to_photo_map.csv', 'r') as f:\n",
    "#         reader = csv.reader(f)\n",
    "#         uuid_raw = list(reader)\n",
    "#     from collections import defaultdict\n",
    "#     \n",
    "#     uuid_map = defaultdict(list)\n",
    "#     \n",
    "#     for subject_id, photo_id in uuid_raw[1:]:\n",
    "#         uuid_map[subject_id].append(photo_id)\n",
    "#     image_data = {}\n",
    "#     \n",
    "#     with open('../bodym-dataset/'+folder+'/measurements.csv', 'r') as f:\n",
    "#         reader = csv.reader(f)\n",
    "#     \n",
    "#         for line in reader:\n",
    "#             subject_id = line[0]\n",
    "#     \n",
    "#     \n",
    "#             for image_id in uuid_map[subject_id]:\n",
    "#                 image_data[image_id] = np.array(list(map(float, line[1:])))\n",
    "#     \n",
    "#     \n",
    "#     for subject_id, images in tqdm.notebook.tqdm(uuid_map.items()):\n",
    "#         for image in images:\n",
    "#             measurements = np.array(image_data[image])\n",
    "#             silhouette = cv2.imread(os.path.join('../bodym-dataset/'+folder+'/mask/' + image + '.png'), cv2.IMREAD_GRAYSCALE)\n",
    "#             silhouette = cv2.resize(silhouette,(320, 240))\n",
    "#             cv2.imwrite(os.path.join(f'../bodym-dataset/front/images/Avatar_{counter:06d}.png'), silhouette)\n",
    "#             np.save(os.path.join(f'../bodym-dataset/front/measurements/Avatar_{counter:06d}.npy'), measurements)\n",
    "#             counter += 1\n"
   ],
   "metadata": {
    "collapsed": false
   },
   "id": "743b8fd46d688f53",
   "execution_count": null
  },
  {
   "cell_type": "code",
   "outputs": [],
   "source": [],
   "metadata": {
    "collapsed": false
   },
   "id": "35993af59c85d712"
  }
 ],
 "metadata": {
  "kernelspec": {
   "display_name": "Python 3",
   "language": "python",
   "name": "python3"
  },
  "language_info": {
   "codemirror_mode": {
    "name": "ipython",
    "version": 2
   },
   "file_extension": ".py",
   "mimetype": "text/x-python",
   "name": "python",
   "nbconvert_exporter": "python",
   "pygments_lexer": "ipython2",
   "version": "2.7.6"
  }
 },
 "nbformat": 4,
 "nbformat_minor": 5
}
