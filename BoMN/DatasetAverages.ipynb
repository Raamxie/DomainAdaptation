{
 "cells": [
  {
   "cell_type": "code",
   "id": "initial_id",
   "metadata": {
    "collapsed": true,
    "ExecuteTime": {
     "end_time": "2024-06-01T11:15:05.889342Z",
     "start_time": "2024-06-01T11:15:05.638090Z"
    }
   },
   "source": [
    "import polars as pl\n",
    "import numpy as np\n",
    "import os\n",
    "from tqdm.notebook import tqdm\n",
    "\n",
    "\n"
   ],
   "outputs": [],
   "execution_count": 2
  },
  {
   "metadata": {},
   "cell_type": "markdown",
   "source": "# Surreact",
   "id": "1153422fe1d0106c"
  },
  {
   "metadata": {
    "ExecuteTime": {
     "end_time": "2024-06-01T13:15:38.212081Z",
     "start_time": "2024-06-01T13:14:13.497200Z"
    }
   },
   "cell_type": "code",
   "source": [
    "column_names = [\n",
    "    \"chest circumference\", \"waist circumference\", \"pelvis circumference\", \"neck circumference\",\n",
    "    \"bicep circumference\", \"thigh circumference\", \"knee circumference\", \"arm length\", \"leg length\",\n",
    "    \"calf length\", \"head circumference\", \"wrist circumference\", \"arm span\", \"shoulder width\",\n",
    "    \"torso length\", \"inner leg length\", \"height\"\n",
    "]\n",
    "\n",
    "# Create a DataFrame with the specified column names and empty float values\n",
    "data = {name: pl.Series(name, [], dtype=pl.Float64) for name in column_names}\n",
    "measurements = pl.DataFrame(data)\n",
    "\n",
    "folders = [\"test\", \"train\"]\n",
    "\n",
    "for folder in tqdm(folders):\n",
    "    files = os.listdir(f\"../Surreact-APose/{folder}/bodymeasurements/\")\n",
    "    for file in tqdm(files):\n",
    "        if not file.endswith(\".npy\"):\n",
    "            continue\n",
    "        current_measurement = map(lambda x: x*100, np.load(f\"../Surreact-APose/{folder}/bodymeasurements/\"+file, allow_pickle=True))\n",
    "        measurement_data = {name: [value] for name, value in zip(column_names, current_measurement)}\n",
    "        current_measurement_dataframe = pl.DataFrame(measurement_data)\n",
    "        measurements.vstack(current_measurement_dataframe, in_place=True)\n",
    "\n",
    "\n",
    "mean_series = measurements.mean()\n",
    "\n",
    "mean_dict = mean_series.to_dict(as_series=False)\n",
    "\n",
    "for col, mean in mean_dict.items():\n",
    "    print(f\"{col}: {round(mean[0], 2)}\")\n",
    "    \n",
    "\n"
   ],
   "id": "c0ce4e6800b95294",
   "outputs": [
    {
     "data": {
      "text/plain": [
       "  0%|          | 0/2 [00:00<?, ?it/s]"
      ],
      "application/vnd.jupyter.widget-view+json": {
       "version_major": 2,
       "version_minor": 0,
       "model_id": "59af3fc2bc0d4578bcdfa4d09f922541"
      }
     },
     "metadata": {},
     "output_type": "display_data"
    },
    {
     "data": {
      "text/plain": [
       "  0%|          | 0/20000 [00:00<?, ?it/s]"
      ],
      "application/vnd.jupyter.widget-view+json": {
       "version_major": 2,
       "version_minor": 0,
       "model_id": "deaf8233b4564e888c96531e2c131b29"
      }
     },
     "metadata": {},
     "output_type": "display_data"
    },
    {
     "data": {
      "text/plain": [
       "  0%|          | 0/80000 [00:00<?, ?it/s]"
      ],
      "application/vnd.jupyter.widget-view+json": {
       "version_major": 2,
       "version_minor": 0,
       "model_id": "712248a0a9e64a468de5e478b2c19ab0"
      }
     },
     "metadata": {},
     "output_type": "display_data"
    },
    {
     "name": "stdout",
     "output_type": "stream",
     "text": [
      "chest circumference: 99.71\n",
      "waist circumference: 88.39\n",
      "pelvis circumference: 104.81\n",
      "neck circumference: 36.35\n",
      "bicep circumference: 29.88\n",
      "thigh circumference: 52.31\n",
      "knee circumference: 37.74\n",
      "arm length: 51.11\n",
      "leg length: 78.05\n",
      "calf length: 40.39\n",
      "head circumference: 60.57\n",
      "wrist circumference: 17.16\n",
      "arm span: 175.35\n",
      "shoulder width: 35.87\n",
      "torso length: 50.9\n",
      "inner leg length: 72.87\n",
      "height: 172.6\n"
     ]
    }
   ],
   "execution_count": 36
  },
  {
   "metadata": {},
   "cell_type": "markdown",
   "source": [
    "chest circumference: 99.71\n",
    "\n",
    "waist circumference: 88.39\n",
    "\n",
    "pelvis circumference: 104.81\n",
    "\n",
    "neck circumference: 36.35\n",
    "\n",
    "bicep circumference: 29.88\n",
    "\n",
    "thigh circumference: 52.31\n",
    "\n",
    "knee circumference: 37.74\n",
    "\n",
    "arm length: 51.11\n",
    "\n",
    "leg length: 78.05\n",
    "\n",
    "calf length: 40.39\n",
    "\n",
    "head circumference: 60.57\n",
    "\n",
    "wrist circumference: 17.16\n",
    "\n",
    "arm span: 175.35\n",
    "\n",
    "shoulder width: 35.87\n",
    "\n",
    "torso length: 50.9\n",
    "\n",
    "inner leg length: 72.87\n",
    "\n",
    "height: 172.6"
   ],
   "id": "a5c439cd23186c3a"
  },
  {
   "metadata": {},
   "cell_type": "markdown",
   "source": [
    "\n",
    "# BodyM"
   ],
   "id": "6ef04a9e86173ebf"
  },
  {
   "metadata": {
    "ExecuteTime": {
     "end_time": "2024-06-01T13:24:19.690424Z",
     "start_time": "2024-06-01T13:24:19.676908Z"
    }
   },
   "cell_type": "code",
   "source": [
    "column_names = [\n",
    "    \"ankle\",\"arm-length\",\"bicep\",\"calf\",\"chest\",\"forearm\",\"height\",\"hip\",\"leg-length\",\"shoulder-breadth\",\"shoulder-to-crotch\",\"thigh\",\"waist\",\"wrist\"\n",
    "\n",
    "]\n",
    "\n",
    "# Create a DataFrame with the specified column names and empty float values\n",
    "data = {name: pl.Series(name, [], dtype=pl.Float64) for name in column_names}\n",
    "measurements = pl.DataFrame(data)\n",
    "\n",
    "folders = [\"testA\",\"testB\",\"train\"]\n",
    "\n",
    "for folder in tqdm(folders):\n",
    "    measurements_batch = pl.read_csv(f\"../bodym-dataset/{folder}/measurements.csv\", has_header=True)\n",
    "    \n",
    "    measurements.vstack(measurements_batch.drop(\"subject_id\"), in_place=True)\n",
    "\n",
    "\n",
    "mean_series = measurements.mean()\n",
    "\n",
    "mean_dict = mean_series.to_dict(as_series=False)\n",
    "\n",
    "for col, mean in mean_dict.items():\n",
    "    print(f\"{col}: {round(mean[0], 2)}\")\n"
   ],
   "id": "4fa9d9eb5603e827",
   "outputs": [
    {
     "data": {
      "text/plain": [
       "  0%|          | 0/3 [00:00<?, ?it/s]"
      ],
      "application/vnd.jupyter.widget-view+json": {
       "version_major": 2,
       "version_minor": 0,
       "model_id": "18bd3b3a2d444dc991bb224c0aad59b7"
      }
     },
     "metadata": {},
     "output_type": "display_data"
    },
    {
     "name": "stdout",
     "output_type": "stream",
     "text": [
      "ankle: 24.1\n",
      "arm-length: 49.43\n",
      "bicep: 30.28\n",
      "calf: 37.23\n",
      "chest: 101.42\n",
      "forearm: 26.38\n",
      "height: 171.61\n",
      "hip: 102.21\n",
      "leg-length: 78.1\n",
      "shoulder-breadth: 35.65\n",
      "shoulder-to-crotch: 64.65\n",
      "thigh: 53.83\n",
      "waist: 89.26\n",
      "wrist: 16.63\n"
     ]
    }
   ],
   "execution_count": 39
  },
  {
   "metadata": {},
   "cell_type": "markdown",
   "source": [
    "ankle: 24.1\n",
    "\n",
    "arm-length: 49.43\n",
    "\n",
    "bicep: 30.28\n",
    "\n",
    "calf: 37.23\n",
    "\n",
    "chest: 101.42\n",
    "\n",
    "forearm: 26.38\n",
    "\n",
    "height: 171.61\n",
    "\n",
    "hip: 102.21\n",
    "\n",
    "leg-length: 78.1\n",
    "\n",
    "shoulder-breadth: 35.65\n",
    "\n",
    "shoulder-to-crotch: 64.65\n",
    "\n",
    "thigh: 53.83\n",
    "\n",
    "waist: 89.26\n",
    "\n",
    "wrist: 16.63\n"
   ],
   "id": "882d3dafe9c5147b"
  }
 ],
 "metadata": {
  "kernelspec": {
   "display_name": "Python 3",
   "language": "python",
   "name": "python3"
  },
  "language_info": {
   "codemirror_mode": {
    "name": "ipython",
    "version": 2
   },
   "file_extension": ".py",
   "mimetype": "text/x-python",
   "name": "python",
   "nbconvert_exporter": "python",
   "pygments_lexer": "ipython2",
   "version": "2.7.6"
  }
 },
 "nbformat": 4,
 "nbformat_minor": 5
}
