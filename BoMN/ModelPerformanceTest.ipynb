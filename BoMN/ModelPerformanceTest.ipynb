{
 "cells": [
  {
   "cell_type": "code",
   "id": "initial_id",
   "metadata": {
    "collapsed": true,
    "ExecuteTime": {
     "end_time": "2024-05-30T23:22:03.138557Z",
     "start_time": "2024-05-30T23:20:09.460213Z"
    }
   },
   "source": [
    "import os\n",
    "\n",
    "from keras.models import load_model\n",
    "import cv2\n",
    "import numpy as np\n",
    "import pandas as pd\n",
    "from tqdm.notebook import tqdm\n",
    "\n",
    "path = \"models/FullyTrained-Syn+Real/ResNetV2+Side+Height SR.keras\"\n",
    "side = True\n",
    "height = True\n",
    "test_datasets = [\"BodyM\"]\n",
    "folder = \"FullyTrained-Syn+Real\"\n",
    "\n",
    "\n",
    "model = load_model(path)\n",
    "model_name = \".\".join(((path.split(\"/\")[-1]).split(\".\"))[:-1])\n",
    "\n",
    "test_folders = {\"BodyM\": [\"testA\", \"testB\"], \n",
    "                \"Surreact-APose\": [\"test\"]}\n",
    "results = []\n",
    "\n",
    "for dataset in tqdm(test_datasets):\n",
    "    \n",
    "    for folder in tqdm(test_folders[dataset]):\n",
    "        size = len(os.listdir(f\"Export/{dataset}/{folder}/measurements\"))\n",
    "        results_dataframe = pd.DataFrame(columns=[\"Chest\", \"Waist\", \"Pelvis\", \"Bicep\", \"Thigh\", \"Shoulder to wrist\", \"Leg\", \"Calf\", \"Wrist\", \"Shoulder to shoulder\"]).astype([])\n",
    "        \n",
    "        for id in tqdm(range(size)):\n",
    "            \n",
    "            testing_data=[]\n",
    "            y = np.load(f\"../bodym-dataset/Export/measurements/Avatar_{id:06d}.npy\")\n",
    "            \n",
    "            \n",
    "            if side:\n",
    "                X = np.empty(shape=(1, 320, 240, 2))\n",
    "                X[0, :, :, 0] = cv2.imread(f\"Export/{dataset}/{folder}/images_front/Avatar_{id:06d}.png\", cv2.IMREAD_GRAYSCALE)\n",
    "                X[0, :, :, 1] = cv2.imread(f\"Export/{dataset}/{folder}/images_side/Avatar_{id:06d}.png\", cv2.IMREAD_GRAYSCALE)\n",
    "            else:\n",
    "                X = np.empty(shape=(1, 320, 240, 1))\n",
    "                X[0, :, :, 0] = cv2.imread(f\"Export/{dataset}/{folder}/images_front/Avatar_{id:06d}.png\", cv2.IMREAD_GRAYSCALE)\n",
    "            testing_data.append(np.array(X))\n",
    "\n",
    "            if height:\n",
    "                if dataset == \"BodyM\":\n",
    "                    height = y[6]\n",
    "                elif dataset == \"Surreact-APose\":\n",
    "                    height = y[16]\n",
    "                testing_data.append(np.array(height).flatten())\n",
    "            y_pred = model.predict(testing_data, verbose=0)\n",
    "            \n",
    "            if dataset == \"BodyM\":\n",
    "                series = pd.DataFrame({\n",
    "                    \"Chest\": abs(y_pred[0][0] - y[4]),\n",
    "                    \"Waist\": abs(y_pred[1][0] - y[12]),\n",
    "                    \"Pelvis\": abs(y_pred[2][0] - y[7]),\n",
    "                    \"Bicep\": abs(y_pred[3][0] - y[2]),\n",
    "                    \"Thigh\": abs(y_pred[4][0] - y[11]),\n",
    "                    \"Shoulder to wrist\": abs(y_pred[5][0] - y[1]),\n",
    "                    \"Leg\": abs(y_pred[6][0] - y[8]),\n",
    "                    \"Calf\": abs(y_pred[7][0] - y[3]),\n",
    "                    \"Wrist\": abs(y_pred[8][0] - y[13]),\n",
    "                    \"Shoulder to shoulder\": abs(y_pred[9][0] - y[9])\n",
    "                }, index=[0])\n",
    "                \n",
    "            elif dataset == \"Surreact-APose\":\n",
    "                series = pd.DataFrame({\n",
    "                            \"Chest\": abs(y_pred[0][0] - y[0]),\n",
    "                            \"Waist\": abs(y_pred[1][0] - y[1]),\n",
    "                            \"Pelvis\": abs(y_pred[2][0] - y[2]),\n",
    "                            \"Bicep\": abs(y_pred[3][0] - y[4]),\n",
    "                            \"Thigh\": abs(y_pred[4][0] - y[5]),\n",
    "                            \"Shoulder to wrist\": abs(y_pred[5][0] - y[7]),\n",
    "                            \"Leg\": abs(y_pred[6][0] - y[8]),\n",
    "                            \"Calf\": abs(y_pred[7][0] - y[9]),\n",
    "                            \"Wrist\": abs(y_pred[8][0] - y[11]),\n",
    "                            \"Shoulder to shoulder\": abs(y_pred[9][0] - y[13])\n",
    "                }, index=[0])\n",
    "                \n",
    "            \n",
    "                \n",
    "            results_dataframe = pd.concat([results_dataframe, series], ignore_index=True)\n",
    "            \n",
    "        results.append(pd.DataFrame.copy(results_dataframe))\n",
    "        results_dataframe.to_csv(f\"PerformanceOnReal/{model_name}-{dataset}-{folder}.csv\", index=False)\n",
    "        print(results_dataframe.mean())\n",
    "        print(results_dataframe.mean().mean())\n",
    "        \n",
    "bodym_joined = pd.concat([results[0],results[1]], ignore_index=True)\n",
    "bodym_joined.to_csv(f\"PerformanceOnReal/{model_name}-BodyM-Whole.csv\", index=False)\n",
    "print(bodym_joined.mean())\n",
    "print(bodym_joined.mean().mean())"
   ],
   "outputs": [
    {
     "data": {
      "text/plain": [
       "  0%|          | 0/1 [00:00<?, ?it/s]"
      ],
      "application/vnd.jupyter.widget-view+json": {
       "version_major": 2,
       "version_minor": 0,
       "model_id": "4f64cda5d8514ffd95c3dee0b677d7cb"
      }
     },
     "metadata": {},
     "output_type": "display_data"
    },
    {
     "data": {
      "text/plain": [
       "  0%|          | 0/2 [00:00<?, ?it/s]"
      ],
      "application/vnd.jupyter.widget-view+json": {
       "version_major": 2,
       "version_minor": 0,
       "model_id": "6401a526d2f3491381179313981b694b"
      }
     },
     "metadata": {},
     "output_type": "display_data"
    },
    {
     "data": {
      "text/plain": [
       "  0%|          | 0/1684 [00:00<?, ?it/s]"
      ],
      "application/vnd.jupyter.widget-view+json": {
       "version_major": 2,
       "version_minor": 0,
       "model_id": "206bf82c72e2422985a291ee4673cd9a"
      }
     },
     "metadata": {},
     "output_type": "display_data"
    },
    {
     "name": "stdout",
     "output_type": "stream",
     "text": [
      "Chest                   2.664831\n",
      "Waist                   2.793806\n",
      "Pelvis                  2.123273\n",
      "Bicep                   1.318927\n",
      "Thigh                   1.689868\n",
      "Shoulder to wrist       0.944051\n",
      "Leg                     1.338805\n",
      "Calf                    1.183252\n",
      "Wrist                   0.668813\n",
      "Shoulder to shoulder    0.896125\n",
      "dtype: float32\n",
      "1.5621752\n"
     ]
    },
    {
     "data": {
      "text/plain": [
       "  0%|          | 0/1160 [00:00<?, ?it/s]"
      ],
      "application/vnd.jupyter.widget-view+json": {
       "version_major": 2,
       "version_minor": 0,
       "model_id": "104fdeb48842475795feb012bcd05e2b"
      }
     },
     "metadata": {},
     "output_type": "display_data"
    },
    {
     "name": "stdout",
     "output_type": "stream",
     "text": [
      "Chest                   10.796069\n",
      "Waist                   12.233193\n",
      "Pelvis                   9.850460\n",
      "Bicep                    3.925130\n",
      "Thigh                    5.986379\n",
      "Shoulder to wrist        1.489775\n",
      "Leg                      2.316119\n",
      "Calf                     3.372875\n",
      "Wrist                    1.165817\n",
      "Shoulder to shoulder     1.991736\n",
      "dtype: float32\n",
      "5.3127556\n",
      "Chest                   5.981369\n",
      "Waist                   6.643906\n",
      "Pelvis                  5.275013\n",
      "Bicep                   2.381937\n",
      "Thigh                   3.442314\n",
      "Shoulder to wrist       1.166638\n",
      "Leg                     1.737428\n",
      "Calf                    2.076348\n",
      "Wrist                   0.871529\n",
      "Shoulder to shoulder    1.342999\n",
      "dtype: float32\n",
      "3.091948\n"
     ]
    }
   ],
   "execution_count": 25
  }
 ],
 "metadata": {
  "kernelspec": {
   "display_name": "Python 3",
   "language": "python",
   "name": "python3"
  },
  "language_info": {
   "codemirror_mode": {
    "name": "ipython",
    "version": 2
   },
   "file_extension": ".py",
   "mimetype": "text/x-python",
   "name": "python",
   "nbconvert_exporter": "python",
   "pygments_lexer": "ipython2",
   "version": "2.7.6"
  }
 },
 "nbformat": 4,
 "nbformat_minor": 5
}
