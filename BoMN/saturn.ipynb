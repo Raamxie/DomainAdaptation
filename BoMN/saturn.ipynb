{
 "cells": [
  {
   "cell_type": "code",
   "execution_count": 1,
   "id": "initial_id",
   "metadata": {
    "collapsed": true,
    "ExecuteTime": {
     "end_time": "2024-03-18T19:03:12.923724Z",
     "start_time": "2024-03-18T19:03:08.354773Z"
    }
   },
   "outputs": [
    {
     "data": {
      "text/plain": "\u001B[1mModel: \"conv_bodies\"\u001B[0m\n",
      "text/html": "<pre style=\"white-space:pre;overflow-x:auto;line-height:normal;font-family:Menlo,'DejaVu Sans Mono',consolas,'Courier New',monospace\"><span style=\"font-weight: bold\">Model: \"conv_bodies\"</span>\n</pre>\n"
     },
     "metadata": {},
     "output_type": "display_data"
    },
    {
     "data": {
      "text/plain": "┏━━━━━━━━━━━━━━━━━━━━━┳━━━━━━━━━━━━━━━━━━━┳━━━━━━━━━━━━┳━━━━━━━━━━━━━━━━━━━┓\n┃\u001B[1m \u001B[0m\u001B[1mLayer (type)       \u001B[0m\u001B[1m \u001B[0m┃\u001B[1m \u001B[0m\u001B[1mOutput Shape     \u001B[0m\u001B[1m \u001B[0m┃\u001B[1m \u001B[0m\u001B[1m   Param #\u001B[0m\u001B[1m \u001B[0m┃\u001B[1m \u001B[0m\u001B[1mConnected to     \u001B[0m\u001B[1m \u001B[0m┃\n┡━━━━━━━━━━━━━━━━━━━━━╇━━━━━━━━━━━━━━━━━━━╇━━━━━━━━━━━━╇━━━━━━━━━━━━━━━━━━━┩\n│ input_layer         │ (\u001B[38;5;45mNone\u001B[0m, \u001B[38;5;34m240\u001B[0m, \u001B[38;5;34m320\u001B[0m,  │          \u001B[38;5;34m0\u001B[0m │ -                 │\n│ (\u001B[38;5;33mInputLayer\u001B[0m)        │ \u001B[38;5;34m1\u001B[0m)                │            │                   │\n├─────────────────────┼───────────────────┼────────────┼───────────────────┤\n│ conv2d (\u001B[38;5;33mConv2D\u001B[0m)     │ (\u001B[38;5;45mNone\u001B[0m, \u001B[38;5;34m236\u001B[0m, \u001B[38;5;34m316\u001B[0m,  │     \u001B[38;5;34m13,312\u001B[0m │ input_layer[\u001B[38;5;34m0\u001B[0m][\u001B[38;5;34m0\u001B[0m] │\n│                     │ \u001B[38;5;34m512\u001B[0m)              │            │                   │\n├─────────────────────┼───────────────────┼────────────┼───────────────────┤\n│ max_pooling2d       │ (\u001B[38;5;45mNone\u001B[0m, \u001B[38;5;34m118\u001B[0m, \u001B[38;5;34m158\u001B[0m,  │          \u001B[38;5;34m0\u001B[0m │ conv2d[\u001B[38;5;34m0\u001B[0m][\u001B[38;5;34m0\u001B[0m]      │\n│ (\u001B[38;5;33mMaxPooling2D\u001B[0m)      │ \u001B[38;5;34m512\u001B[0m)              │            │                   │\n├─────────────────────┼───────────────────┼────────────┼───────────────────┤\n│ conv2d_1 (\u001B[38;5;33mConv2D\u001B[0m)   │ (\u001B[38;5;45mNone\u001B[0m, \u001B[38;5;34m114\u001B[0m, \u001B[38;5;34m154\u001B[0m,  │  \u001B[38;5;34m3,277,056\u001B[0m │ max_pooling2d[\u001B[38;5;34m0\u001B[0m]… │\n│                     │ \u001B[38;5;34m256\u001B[0m)              │            │                   │\n├─────────────────────┼───────────────────┼────────────┼───────────────────┤\n│ max_pooling2d_1     │ (\u001B[38;5;45mNone\u001B[0m, \u001B[38;5;34m57\u001B[0m, \u001B[38;5;34m77\u001B[0m,    │          \u001B[38;5;34m0\u001B[0m │ conv2d_1[\u001B[38;5;34m0\u001B[0m][\u001B[38;5;34m0\u001B[0m]    │\n│ (\u001B[38;5;33mMaxPooling2D\u001B[0m)      │ \u001B[38;5;34m256\u001B[0m)              │            │                   │\n├─────────────────────┼───────────────────┼────────────┼───────────────────┤\n│ conv2d_2 (\u001B[38;5;33mConv2D\u001B[0m)   │ (\u001B[38;5;45mNone\u001B[0m, \u001B[38;5;34m53\u001B[0m, \u001B[38;5;34m73\u001B[0m,    │    \u001B[38;5;34m819,328\u001B[0m │ max_pooling2d_1[\u001B[38;5;34m…\u001B[0m │\n│                     │ \u001B[38;5;34m128\u001B[0m)              │            │                   │\n├─────────────────────┼───────────────────┼────────────┼───────────────────┤\n│ max_pooling2d_2     │ (\u001B[38;5;45mNone\u001B[0m, \u001B[38;5;34m26\u001B[0m, \u001B[38;5;34m36\u001B[0m,    │          \u001B[38;5;34m0\u001B[0m │ conv2d_2[\u001B[38;5;34m0\u001B[0m][\u001B[38;5;34m0\u001B[0m]    │\n│ (\u001B[38;5;33mMaxPooling2D\u001B[0m)      │ \u001B[38;5;34m128\u001B[0m)              │            │                   │\n├─────────────────────┼───────────────────┼────────────┼───────────────────┤\n│ conv2d_3 (\u001B[38;5;33mConv2D\u001B[0m)   │ (\u001B[38;5;45mNone\u001B[0m, \u001B[38;5;34m24\u001B[0m, \u001B[38;5;34m34\u001B[0m,    │     \u001B[38;5;34m73,792\u001B[0m │ max_pooling2d_2[\u001B[38;5;34m…\u001B[0m │\n│                     │ \u001B[38;5;34m64\u001B[0m)               │            │                   │\n├─────────────────────┼───────────────────┼────────────┼───────────────────┤\n│ max_pooling2d_3     │ (\u001B[38;5;45mNone\u001B[0m, \u001B[38;5;34m12\u001B[0m, \u001B[38;5;34m17\u001B[0m,    │          \u001B[38;5;34m0\u001B[0m │ conv2d_3[\u001B[38;5;34m0\u001B[0m][\u001B[38;5;34m0\u001B[0m]    │\n│ (\u001B[38;5;33mMaxPooling2D\u001B[0m)      │ \u001B[38;5;34m64\u001B[0m)               │            │                   │\n├─────────────────────┼───────────────────┼────────────┼───────────────────┤\n│ flatten (\u001B[38;5;33mFlatten\u001B[0m)   │ (\u001B[38;5;45mNone\u001B[0m, \u001B[38;5;34m13056\u001B[0m)     │          \u001B[38;5;34m0\u001B[0m │ max_pooling2d_3[\u001B[38;5;34m…\u001B[0m │\n├─────────────────────┼───────────────────┼────────────┼───────────────────┤\n│ dense (\u001B[38;5;33mDense\u001B[0m)       │ (\u001B[38;5;45mNone\u001B[0m, \u001B[38;5;34m128\u001B[0m)       │  \u001B[38;5;34m1,671,296\u001B[0m │ flatten[\u001B[38;5;34m0\u001B[0m][\u001B[38;5;34m0\u001B[0m]     │\n├─────────────────────┼───────────────────┼────────────┼───────────────────┤\n│ head_out (\u001B[38;5;33mDense\u001B[0m)    │ (\u001B[38;5;45mNone\u001B[0m, \u001B[38;5;34m1\u001B[0m)         │        \u001B[38;5;34m129\u001B[0m │ dense[\u001B[38;5;34m0\u001B[0m][\u001B[38;5;34m0\u001B[0m]       │\n├─────────────────────┼───────────────────┼────────────┼───────────────────┤\n│ neck_out (\u001B[38;5;33mDense\u001B[0m)    │ (\u001B[38;5;45mNone\u001B[0m, \u001B[38;5;34m1\u001B[0m)         │        \u001B[38;5;34m129\u001B[0m │ dense[\u001B[38;5;34m0\u001B[0m][\u001B[38;5;34m0\u001B[0m]       │\n├─────────────────────┼───────────────────┼────────────┼───────────────────┤\n│ shoulder_to_should… │ (\u001B[38;5;45mNone\u001B[0m, \u001B[38;5;34m1\u001B[0m)         │        \u001B[38;5;34m129\u001B[0m │ dense[\u001B[38;5;34m0\u001B[0m][\u001B[38;5;34m0\u001B[0m]       │\n│ (\u001B[38;5;33mDense\u001B[0m)             │                   │            │                   │\n├─────────────────────┼───────────────────┼────────────┼───────────────────┤\n│ arm_out (\u001B[38;5;33mDense\u001B[0m)     │ (\u001B[38;5;45mNone\u001B[0m, \u001B[38;5;34m1\u001B[0m)         │        \u001B[38;5;34m129\u001B[0m │ dense[\u001B[38;5;34m0\u001B[0m][\u001B[38;5;34m0\u001B[0m]       │\n├─────────────────────┼───────────────────┼────────────┼───────────────────┤\n│ shoulder_to_wrist_… │ (\u001B[38;5;45mNone\u001B[0m, \u001B[38;5;34m1\u001B[0m)         │        \u001B[38;5;34m129\u001B[0m │ dense[\u001B[38;5;34m0\u001B[0m][\u001B[38;5;34m0\u001B[0m]       │\n│ (\u001B[38;5;33mDense\u001B[0m)             │                   │            │                   │\n├─────────────────────┼───────────────────┼────────────┼───────────────────┤\n│ torso_out (\u001B[38;5;33mDense\u001B[0m)   │ (\u001B[38;5;45mNone\u001B[0m, \u001B[38;5;34m1\u001B[0m)         │        \u001B[38;5;34m129\u001B[0m │ dense[\u001B[38;5;34m0\u001B[0m][\u001B[38;5;34m0\u001B[0m]       │\n├─────────────────────┼───────────────────┼────────────┼───────────────────┤\n│ bicep_out (\u001B[38;5;33mDense\u001B[0m)   │ (\u001B[38;5;45mNone\u001B[0m, \u001B[38;5;34m1\u001B[0m)         │        \u001B[38;5;34m129\u001B[0m │ dense[\u001B[38;5;34m0\u001B[0m][\u001B[38;5;34m0\u001B[0m]       │\n├─────────────────────┼───────────────────┼────────────┼───────────────────┤\n│ wrist_out (\u001B[38;5;33mDense\u001B[0m)   │ (\u001B[38;5;45mNone\u001B[0m, \u001B[38;5;34m1\u001B[0m)         │        \u001B[38;5;34m129\u001B[0m │ dense[\u001B[38;5;34m0\u001B[0m][\u001B[38;5;34m0\u001B[0m]       │\n├─────────────────────┼───────────────────┼────────────┼───────────────────┤\n│ chest_out (\u001B[38;5;33mDense\u001B[0m)   │ (\u001B[38;5;45mNone\u001B[0m, \u001B[38;5;34m1\u001B[0m)         │        \u001B[38;5;34m129\u001B[0m │ dense[\u001B[38;5;34m0\u001B[0m][\u001B[38;5;34m0\u001B[0m]       │\n├─────────────────────┼───────────────────┼────────────┼───────────────────┤\n│ waist_out (\u001B[38;5;33mDense\u001B[0m)   │ (\u001B[38;5;45mNone\u001B[0m, \u001B[38;5;34m1\u001B[0m)         │        \u001B[38;5;34m129\u001B[0m │ dense[\u001B[38;5;34m0\u001B[0m][\u001B[38;5;34m0\u001B[0m]       │\n├─────────────────────┼───────────────────┼────────────┼───────────────────┤\n│ pelvis_out (\u001B[38;5;33mDense\u001B[0m)  │ (\u001B[38;5;45mNone\u001B[0m, \u001B[38;5;34m1\u001B[0m)         │        \u001B[38;5;34m129\u001B[0m │ dense[\u001B[38;5;34m0\u001B[0m][\u001B[38;5;34m0\u001B[0m]       │\n├─────────────────────┼───────────────────┼────────────┼───────────────────┤\n│ leg_out (\u001B[38;5;33mDense\u001B[0m)     │ (\u001B[38;5;45mNone\u001B[0m, \u001B[38;5;34m1\u001B[0m)         │        \u001B[38;5;34m129\u001B[0m │ dense[\u001B[38;5;34m0\u001B[0m][\u001B[38;5;34m0\u001B[0m]       │\n├─────────────────────┼───────────────────┼────────────┼───────────────────┤\n│ inner_leg_out       │ (\u001B[38;5;45mNone\u001B[0m, \u001B[38;5;34m1\u001B[0m)         │        \u001B[38;5;34m129\u001B[0m │ dense[\u001B[38;5;34m0\u001B[0m][\u001B[38;5;34m0\u001B[0m]       │\n│ (\u001B[38;5;33mDense\u001B[0m)             │                   │            │                   │\n├─────────────────────┼───────────────────┼────────────┼───────────────────┤\n│ thigh_out (\u001B[38;5;33mDense\u001B[0m)   │ (\u001B[38;5;45mNone\u001B[0m, \u001B[38;5;34m1\u001B[0m)         │        \u001B[38;5;34m129\u001B[0m │ dense[\u001B[38;5;34m0\u001B[0m][\u001B[38;5;34m0\u001B[0m]       │\n├─────────────────────┼───────────────────┼────────────┼───────────────────┤\n│ knee_out (\u001B[38;5;33mDense\u001B[0m)    │ (\u001B[38;5;45mNone\u001B[0m, \u001B[38;5;34m1\u001B[0m)         │        \u001B[38;5;34m129\u001B[0m │ dense[\u001B[38;5;34m0\u001B[0m][\u001B[38;5;34m0\u001B[0m]       │\n├─────────────────────┼───────────────────┼────────────┼───────────────────┤\n│ calf_out (\u001B[38;5;33mDense\u001B[0m)    │ (\u001B[38;5;45mNone\u001B[0m, \u001B[38;5;34m1\u001B[0m)         │        \u001B[38;5;34m129\u001B[0m │ dense[\u001B[38;5;34m0\u001B[0m][\u001B[38;5;34m0\u001B[0m]       │\n└─────────────────────┴───────────────────┴────────────┴───────────────────┘\n",
      "text/html": "<pre style=\"white-space:pre;overflow-x:auto;line-height:normal;font-family:Menlo,'DejaVu Sans Mono',consolas,'Courier New',monospace\">┏━━━━━━━━━━━━━━━━━━━━━┳━━━━━━━━━━━━━━━━━━━┳━━━━━━━━━━━━┳━━━━━━━━━━━━━━━━━━━┓\n┃<span style=\"font-weight: bold\"> Layer (type)        </span>┃<span style=\"font-weight: bold\"> Output Shape      </span>┃<span style=\"font-weight: bold\">    Param # </span>┃<span style=\"font-weight: bold\"> Connected to      </span>┃\n┡━━━━━━━━━━━━━━━━━━━━━╇━━━━━━━━━━━━━━━━━━━╇━━━━━━━━━━━━╇━━━━━━━━━━━━━━━━━━━┩\n│ input_layer         │ (<span style=\"color: #00d7ff; text-decoration-color: #00d7ff\">None</span>, <span style=\"color: #00af00; text-decoration-color: #00af00\">240</span>, <span style=\"color: #00af00; text-decoration-color: #00af00\">320</span>,  │          <span style=\"color: #00af00; text-decoration-color: #00af00\">0</span> │ -                 │\n│ (<span style=\"color: #0087ff; text-decoration-color: #0087ff\">InputLayer</span>)        │ <span style=\"color: #00af00; text-decoration-color: #00af00\">1</span>)                │            │                   │\n├─────────────────────┼───────────────────┼────────────┼───────────────────┤\n│ conv2d (<span style=\"color: #0087ff; text-decoration-color: #0087ff\">Conv2D</span>)     │ (<span style=\"color: #00d7ff; text-decoration-color: #00d7ff\">None</span>, <span style=\"color: #00af00; text-decoration-color: #00af00\">236</span>, <span style=\"color: #00af00; text-decoration-color: #00af00\">316</span>,  │     <span style=\"color: #00af00; text-decoration-color: #00af00\">13,312</span> │ input_layer[<span style=\"color: #00af00; text-decoration-color: #00af00\">0</span>][<span style=\"color: #00af00; text-decoration-color: #00af00\">0</span>] │\n│                     │ <span style=\"color: #00af00; text-decoration-color: #00af00\">512</span>)              │            │                   │\n├─────────────────────┼───────────────────┼────────────┼───────────────────┤\n│ max_pooling2d       │ (<span style=\"color: #00d7ff; text-decoration-color: #00d7ff\">None</span>, <span style=\"color: #00af00; text-decoration-color: #00af00\">118</span>, <span style=\"color: #00af00; text-decoration-color: #00af00\">158</span>,  │          <span style=\"color: #00af00; text-decoration-color: #00af00\">0</span> │ conv2d[<span style=\"color: #00af00; text-decoration-color: #00af00\">0</span>][<span style=\"color: #00af00; text-decoration-color: #00af00\">0</span>]      │\n│ (<span style=\"color: #0087ff; text-decoration-color: #0087ff\">MaxPooling2D</span>)      │ <span style=\"color: #00af00; text-decoration-color: #00af00\">512</span>)              │            │                   │\n├─────────────────────┼───────────────────┼────────────┼───────────────────┤\n│ conv2d_1 (<span style=\"color: #0087ff; text-decoration-color: #0087ff\">Conv2D</span>)   │ (<span style=\"color: #00d7ff; text-decoration-color: #00d7ff\">None</span>, <span style=\"color: #00af00; text-decoration-color: #00af00\">114</span>, <span style=\"color: #00af00; text-decoration-color: #00af00\">154</span>,  │  <span style=\"color: #00af00; text-decoration-color: #00af00\">3,277,056</span> │ max_pooling2d[<span style=\"color: #00af00; text-decoration-color: #00af00\">0</span>]… │\n│                     │ <span style=\"color: #00af00; text-decoration-color: #00af00\">256</span>)              │            │                   │\n├─────────────────────┼───────────────────┼────────────┼───────────────────┤\n│ max_pooling2d_1     │ (<span style=\"color: #00d7ff; text-decoration-color: #00d7ff\">None</span>, <span style=\"color: #00af00; text-decoration-color: #00af00\">57</span>, <span style=\"color: #00af00; text-decoration-color: #00af00\">77</span>,    │          <span style=\"color: #00af00; text-decoration-color: #00af00\">0</span> │ conv2d_1[<span style=\"color: #00af00; text-decoration-color: #00af00\">0</span>][<span style=\"color: #00af00; text-decoration-color: #00af00\">0</span>]    │\n│ (<span style=\"color: #0087ff; text-decoration-color: #0087ff\">MaxPooling2D</span>)      │ <span style=\"color: #00af00; text-decoration-color: #00af00\">256</span>)              │            │                   │\n├─────────────────────┼───────────────────┼────────────┼───────────────────┤\n│ conv2d_2 (<span style=\"color: #0087ff; text-decoration-color: #0087ff\">Conv2D</span>)   │ (<span style=\"color: #00d7ff; text-decoration-color: #00d7ff\">None</span>, <span style=\"color: #00af00; text-decoration-color: #00af00\">53</span>, <span style=\"color: #00af00; text-decoration-color: #00af00\">73</span>,    │    <span style=\"color: #00af00; text-decoration-color: #00af00\">819,328</span> │ max_pooling2d_1[<span style=\"color: #00af00; text-decoration-color: #00af00\">…</span> │\n│                     │ <span style=\"color: #00af00; text-decoration-color: #00af00\">128</span>)              │            │                   │\n├─────────────────────┼───────────────────┼────────────┼───────────────────┤\n│ max_pooling2d_2     │ (<span style=\"color: #00d7ff; text-decoration-color: #00d7ff\">None</span>, <span style=\"color: #00af00; text-decoration-color: #00af00\">26</span>, <span style=\"color: #00af00; text-decoration-color: #00af00\">36</span>,    │          <span style=\"color: #00af00; text-decoration-color: #00af00\">0</span> │ conv2d_2[<span style=\"color: #00af00; text-decoration-color: #00af00\">0</span>][<span style=\"color: #00af00; text-decoration-color: #00af00\">0</span>]    │\n│ (<span style=\"color: #0087ff; text-decoration-color: #0087ff\">MaxPooling2D</span>)      │ <span style=\"color: #00af00; text-decoration-color: #00af00\">128</span>)              │            │                   │\n├─────────────────────┼───────────────────┼────────────┼───────────────────┤\n│ conv2d_3 (<span style=\"color: #0087ff; text-decoration-color: #0087ff\">Conv2D</span>)   │ (<span style=\"color: #00d7ff; text-decoration-color: #00d7ff\">None</span>, <span style=\"color: #00af00; text-decoration-color: #00af00\">24</span>, <span style=\"color: #00af00; text-decoration-color: #00af00\">34</span>,    │     <span style=\"color: #00af00; text-decoration-color: #00af00\">73,792</span> │ max_pooling2d_2[<span style=\"color: #00af00; text-decoration-color: #00af00\">…</span> │\n│                     │ <span style=\"color: #00af00; text-decoration-color: #00af00\">64</span>)               │            │                   │\n├─────────────────────┼───────────────────┼────────────┼───────────────────┤\n│ max_pooling2d_3     │ (<span style=\"color: #00d7ff; text-decoration-color: #00d7ff\">None</span>, <span style=\"color: #00af00; text-decoration-color: #00af00\">12</span>, <span style=\"color: #00af00; text-decoration-color: #00af00\">17</span>,    │          <span style=\"color: #00af00; text-decoration-color: #00af00\">0</span> │ conv2d_3[<span style=\"color: #00af00; text-decoration-color: #00af00\">0</span>][<span style=\"color: #00af00; text-decoration-color: #00af00\">0</span>]    │\n│ (<span style=\"color: #0087ff; text-decoration-color: #0087ff\">MaxPooling2D</span>)      │ <span style=\"color: #00af00; text-decoration-color: #00af00\">64</span>)               │            │                   │\n├─────────────────────┼───────────────────┼────────────┼───────────────────┤\n│ flatten (<span style=\"color: #0087ff; text-decoration-color: #0087ff\">Flatten</span>)   │ (<span style=\"color: #00d7ff; text-decoration-color: #00d7ff\">None</span>, <span style=\"color: #00af00; text-decoration-color: #00af00\">13056</span>)     │          <span style=\"color: #00af00; text-decoration-color: #00af00\">0</span> │ max_pooling2d_3[<span style=\"color: #00af00; text-decoration-color: #00af00\">…</span> │\n├─────────────────────┼───────────────────┼────────────┼───────────────────┤\n│ dense (<span style=\"color: #0087ff; text-decoration-color: #0087ff\">Dense</span>)       │ (<span style=\"color: #00d7ff; text-decoration-color: #00d7ff\">None</span>, <span style=\"color: #00af00; text-decoration-color: #00af00\">128</span>)       │  <span style=\"color: #00af00; text-decoration-color: #00af00\">1,671,296</span> │ flatten[<span style=\"color: #00af00; text-decoration-color: #00af00\">0</span>][<span style=\"color: #00af00; text-decoration-color: #00af00\">0</span>]     │\n├─────────────────────┼───────────────────┼────────────┼───────────────────┤\n│ head_out (<span style=\"color: #0087ff; text-decoration-color: #0087ff\">Dense</span>)    │ (<span style=\"color: #00d7ff; text-decoration-color: #00d7ff\">None</span>, <span style=\"color: #00af00; text-decoration-color: #00af00\">1</span>)         │        <span style=\"color: #00af00; text-decoration-color: #00af00\">129</span> │ dense[<span style=\"color: #00af00; text-decoration-color: #00af00\">0</span>][<span style=\"color: #00af00; text-decoration-color: #00af00\">0</span>]       │\n├─────────────────────┼───────────────────┼────────────┼───────────────────┤\n│ neck_out (<span style=\"color: #0087ff; text-decoration-color: #0087ff\">Dense</span>)    │ (<span style=\"color: #00d7ff; text-decoration-color: #00d7ff\">None</span>, <span style=\"color: #00af00; text-decoration-color: #00af00\">1</span>)         │        <span style=\"color: #00af00; text-decoration-color: #00af00\">129</span> │ dense[<span style=\"color: #00af00; text-decoration-color: #00af00\">0</span>][<span style=\"color: #00af00; text-decoration-color: #00af00\">0</span>]       │\n├─────────────────────┼───────────────────┼────────────┼───────────────────┤\n│ shoulder_to_should… │ (<span style=\"color: #00d7ff; text-decoration-color: #00d7ff\">None</span>, <span style=\"color: #00af00; text-decoration-color: #00af00\">1</span>)         │        <span style=\"color: #00af00; text-decoration-color: #00af00\">129</span> │ dense[<span style=\"color: #00af00; text-decoration-color: #00af00\">0</span>][<span style=\"color: #00af00; text-decoration-color: #00af00\">0</span>]       │\n│ (<span style=\"color: #0087ff; text-decoration-color: #0087ff\">Dense</span>)             │                   │            │                   │\n├─────────────────────┼───────────────────┼────────────┼───────────────────┤\n│ arm_out (<span style=\"color: #0087ff; text-decoration-color: #0087ff\">Dense</span>)     │ (<span style=\"color: #00d7ff; text-decoration-color: #00d7ff\">None</span>, <span style=\"color: #00af00; text-decoration-color: #00af00\">1</span>)         │        <span style=\"color: #00af00; text-decoration-color: #00af00\">129</span> │ dense[<span style=\"color: #00af00; text-decoration-color: #00af00\">0</span>][<span style=\"color: #00af00; text-decoration-color: #00af00\">0</span>]       │\n├─────────────────────┼───────────────────┼────────────┼───────────────────┤\n│ shoulder_to_wrist_… │ (<span style=\"color: #00d7ff; text-decoration-color: #00d7ff\">None</span>, <span style=\"color: #00af00; text-decoration-color: #00af00\">1</span>)         │        <span style=\"color: #00af00; text-decoration-color: #00af00\">129</span> │ dense[<span style=\"color: #00af00; text-decoration-color: #00af00\">0</span>][<span style=\"color: #00af00; text-decoration-color: #00af00\">0</span>]       │\n│ (<span style=\"color: #0087ff; text-decoration-color: #0087ff\">Dense</span>)             │                   │            │                   │\n├─────────────────────┼───────────────────┼────────────┼───────────────────┤\n│ torso_out (<span style=\"color: #0087ff; text-decoration-color: #0087ff\">Dense</span>)   │ (<span style=\"color: #00d7ff; text-decoration-color: #00d7ff\">None</span>, <span style=\"color: #00af00; text-decoration-color: #00af00\">1</span>)         │        <span style=\"color: #00af00; text-decoration-color: #00af00\">129</span> │ dense[<span style=\"color: #00af00; text-decoration-color: #00af00\">0</span>][<span style=\"color: #00af00; text-decoration-color: #00af00\">0</span>]       │\n├─────────────────────┼───────────────────┼────────────┼───────────────────┤\n│ bicep_out (<span style=\"color: #0087ff; text-decoration-color: #0087ff\">Dense</span>)   │ (<span style=\"color: #00d7ff; text-decoration-color: #00d7ff\">None</span>, <span style=\"color: #00af00; text-decoration-color: #00af00\">1</span>)         │        <span style=\"color: #00af00; text-decoration-color: #00af00\">129</span> │ dense[<span style=\"color: #00af00; text-decoration-color: #00af00\">0</span>][<span style=\"color: #00af00; text-decoration-color: #00af00\">0</span>]       │\n├─────────────────────┼───────────────────┼────────────┼───────────────────┤\n│ wrist_out (<span style=\"color: #0087ff; text-decoration-color: #0087ff\">Dense</span>)   │ (<span style=\"color: #00d7ff; text-decoration-color: #00d7ff\">None</span>, <span style=\"color: #00af00; text-decoration-color: #00af00\">1</span>)         │        <span style=\"color: #00af00; text-decoration-color: #00af00\">129</span> │ dense[<span style=\"color: #00af00; text-decoration-color: #00af00\">0</span>][<span style=\"color: #00af00; text-decoration-color: #00af00\">0</span>]       │\n├─────────────────────┼───────────────────┼────────────┼───────────────────┤\n│ chest_out (<span style=\"color: #0087ff; text-decoration-color: #0087ff\">Dense</span>)   │ (<span style=\"color: #00d7ff; text-decoration-color: #00d7ff\">None</span>, <span style=\"color: #00af00; text-decoration-color: #00af00\">1</span>)         │        <span style=\"color: #00af00; text-decoration-color: #00af00\">129</span> │ dense[<span style=\"color: #00af00; text-decoration-color: #00af00\">0</span>][<span style=\"color: #00af00; text-decoration-color: #00af00\">0</span>]       │\n├─────────────────────┼───────────────────┼────────────┼───────────────────┤\n│ waist_out (<span style=\"color: #0087ff; text-decoration-color: #0087ff\">Dense</span>)   │ (<span style=\"color: #00d7ff; text-decoration-color: #00d7ff\">None</span>, <span style=\"color: #00af00; text-decoration-color: #00af00\">1</span>)         │        <span style=\"color: #00af00; text-decoration-color: #00af00\">129</span> │ dense[<span style=\"color: #00af00; text-decoration-color: #00af00\">0</span>][<span style=\"color: #00af00; text-decoration-color: #00af00\">0</span>]       │\n├─────────────────────┼───────────────────┼────────────┼───────────────────┤\n│ pelvis_out (<span style=\"color: #0087ff; text-decoration-color: #0087ff\">Dense</span>)  │ (<span style=\"color: #00d7ff; text-decoration-color: #00d7ff\">None</span>, <span style=\"color: #00af00; text-decoration-color: #00af00\">1</span>)         │        <span style=\"color: #00af00; text-decoration-color: #00af00\">129</span> │ dense[<span style=\"color: #00af00; text-decoration-color: #00af00\">0</span>][<span style=\"color: #00af00; text-decoration-color: #00af00\">0</span>]       │\n├─────────────────────┼───────────────────┼────────────┼───────────────────┤\n│ leg_out (<span style=\"color: #0087ff; text-decoration-color: #0087ff\">Dense</span>)     │ (<span style=\"color: #00d7ff; text-decoration-color: #00d7ff\">None</span>, <span style=\"color: #00af00; text-decoration-color: #00af00\">1</span>)         │        <span style=\"color: #00af00; text-decoration-color: #00af00\">129</span> │ dense[<span style=\"color: #00af00; text-decoration-color: #00af00\">0</span>][<span style=\"color: #00af00; text-decoration-color: #00af00\">0</span>]       │\n├─────────────────────┼───────────────────┼────────────┼───────────────────┤\n│ inner_leg_out       │ (<span style=\"color: #00d7ff; text-decoration-color: #00d7ff\">None</span>, <span style=\"color: #00af00; text-decoration-color: #00af00\">1</span>)         │        <span style=\"color: #00af00; text-decoration-color: #00af00\">129</span> │ dense[<span style=\"color: #00af00; text-decoration-color: #00af00\">0</span>][<span style=\"color: #00af00; text-decoration-color: #00af00\">0</span>]       │\n│ (<span style=\"color: #0087ff; text-decoration-color: #0087ff\">Dense</span>)             │                   │            │                   │\n├─────────────────────┼───────────────────┼────────────┼───────────────────┤\n│ thigh_out (<span style=\"color: #0087ff; text-decoration-color: #0087ff\">Dense</span>)   │ (<span style=\"color: #00d7ff; text-decoration-color: #00d7ff\">None</span>, <span style=\"color: #00af00; text-decoration-color: #00af00\">1</span>)         │        <span style=\"color: #00af00; text-decoration-color: #00af00\">129</span> │ dense[<span style=\"color: #00af00; text-decoration-color: #00af00\">0</span>][<span style=\"color: #00af00; text-decoration-color: #00af00\">0</span>]       │\n├─────────────────────┼───────────────────┼────────────┼───────────────────┤\n│ knee_out (<span style=\"color: #0087ff; text-decoration-color: #0087ff\">Dense</span>)    │ (<span style=\"color: #00d7ff; text-decoration-color: #00d7ff\">None</span>, <span style=\"color: #00af00; text-decoration-color: #00af00\">1</span>)         │        <span style=\"color: #00af00; text-decoration-color: #00af00\">129</span> │ dense[<span style=\"color: #00af00; text-decoration-color: #00af00\">0</span>][<span style=\"color: #00af00; text-decoration-color: #00af00\">0</span>]       │\n├─────────────────────┼───────────────────┼────────────┼───────────────────┤\n│ calf_out (<span style=\"color: #0087ff; text-decoration-color: #0087ff\">Dense</span>)    │ (<span style=\"color: #00d7ff; text-decoration-color: #00d7ff\">None</span>, <span style=\"color: #00af00; text-decoration-color: #00af00\">1</span>)         │        <span style=\"color: #00af00; text-decoration-color: #00af00\">129</span> │ dense[<span style=\"color: #00af00; text-decoration-color: #00af00\">0</span>][<span style=\"color: #00af00; text-decoration-color: #00af00\">0</span>]       │\n└─────────────────────┴───────────────────┴────────────┴───────────────────┘\n</pre>\n"
     },
     "metadata": {},
     "output_type": "display_data"
    },
    {
     "data": {
      "text/plain": "\u001B[1m Total params: \u001B[0m\u001B[38;5;34m5,856,848\u001B[0m (22.34 MB)\n",
      "text/html": "<pre style=\"white-space:pre;overflow-x:auto;line-height:normal;font-family:Menlo,'DejaVu Sans Mono',consolas,'Courier New',monospace\"><span style=\"font-weight: bold\"> Total params: </span><span style=\"color: #00af00; text-decoration-color: #00af00\">5,856,848</span> (22.34 MB)\n</pre>\n"
     },
     "metadata": {},
     "output_type": "display_data"
    },
    {
     "data": {
      "text/plain": "\u001B[1m Trainable params: \u001B[0m\u001B[38;5;34m5,856,848\u001B[0m (22.34 MB)\n",
      "text/html": "<pre style=\"white-space:pre;overflow-x:auto;line-height:normal;font-family:Menlo,'DejaVu Sans Mono',consolas,'Courier New',monospace\"><span style=\"font-weight: bold\"> Trainable params: </span><span style=\"color: #00af00; text-decoration-color: #00af00\">5,856,848</span> (22.34 MB)\n</pre>\n"
     },
     "metadata": {},
     "output_type": "display_data"
    },
    {
     "data": {
      "text/plain": "\u001B[1m Non-trainable params: \u001B[0m\u001B[38;5;34m0\u001B[0m (0.00 B)\n",
      "text/html": "<pre style=\"white-space:pre;overflow-x:auto;line-height:normal;font-family:Menlo,'DejaVu Sans Mono',consolas,'Courier New',monospace\"><span style=\"font-weight: bold\"> Non-trainable params: </span><span style=\"color: #00af00; text-decoration-color: #00af00\">0</span> (0.00 B)\n</pre>\n"
     },
     "metadata": {},
     "output_type": "display_data"
    }
   ],
   "source": [
    "import keras.utils\n",
    "import numpy as np\n",
    "from keras.models import Model\n",
    "from keras.layers import Input, Dense, Conv2D, MaxPooling2D, Flatten\n",
    "\n",
    "inp = Input(shape=(240, 320, 1))\n",
    "\n",
    "n_filters = 512\n",
    "max_p = inp\n",
    "\n",
    "for _ in range(3):\n",
    "    conv = Conv2D(filters=n_filters, kernel_size=5, activation='relu')(max_p)\n",
    "    max_p = MaxPooling2D(pool_size=(2, 2))(conv)\n",
    "    \n",
    "    n_filters //= 2\n",
    "\n",
    "conv = Conv2D(filters=n_filters, kernel_size=3, activation='relu')(max_p)\n",
    "max_p = MaxPooling2D(pool_size=(2, 2))(conv)\n",
    "\n",
    "flatten = Flatten()(max_p)\n",
    "dense = Dense(128, activation='relu')(flatten)\n",
    "# out = Dense(14, activation='relu')(dense)\n",
    "\n",
    "head_out = Dense(1, activation='relu', name='head_out')(dense)\n",
    "neck_out = Dense(1, activation='relu', name='neck_out')(dense)\n",
    "shoulder_to_shoulder_out = Dense(1, activation='relu', name='shoulder_to_shoulder_out')(dense)\n",
    "arm_out = Dense(1, activation='relu', name='arm_out')(dense)\n",
    "shoulder_to_wrist_out = Dense(1, activation='relu', name='shoulder_to_wrist_out')(dense)\n",
    "torso_out = Dense(1, activation='relu', name='torso_out')(dense)\n",
    "bicep_out = Dense(1, activation='relu', name='bicep_out')(dense)\n",
    "wrist_out = Dense(1, activation='relu', name='wrist_out')(dense)\n",
    "chest_out = Dense(1, activation='relu', name='chest_out')(dense)\n",
    "waist_out = Dense(1, activation='relu', name='waist_out')(dense)\n",
    "pelvis_out = Dense(1, activation='relu', name='pelvis_out')(dense)\n",
    "leg_out = Dense(1, activation='relu', name='leg_out')(dense)\n",
    "inner_leg_out = Dense(1, activation='relu', name='inner_leg_out')(dense)\n",
    "thigh_out = Dense(1, activation='relu', name='thigh_out')(dense)\n",
    "knee_out = Dense(1, activation='relu', name='knee_out')(dense)\n",
    "calf_out = Dense(1, activation='relu', name='calf_out')(dense)\n",
    "\n",
    "\n",
    "model = Model(\n",
    "    inputs=inp,\n",
    "    outputs=[\n",
    "    head_out,\n",
    "    neck_out,\n",
    "    shoulder_to_shoulder_out,\n",
    "    arm_out,\n",
    "    shoulder_to_wrist_out,\n",
    "    torso_out,\n",
    "    bicep_out,\n",
    "    wrist_out,\n",
    "    chest_out,\n",
    "    waist_out,\n",
    "    pelvis_out,\n",
    "    leg_out,\n",
    "    inner_leg_out,\n",
    "    thigh_out,\n",
    "    knee_out,\n",
    "    leg_out,\n",
    "    inner_leg_out,\n",
    "    thigh_out,\n",
    "    calf_out\n",
    "    ],\n",
    "    name='conv_bodies'\n",
    ")\n",
    "\n",
    "model.summary()"
   ]
  },
  {
   "cell_type": "code",
   "outputs": [],
   "source": [
    "# from keras.utils import plot_model\n",
    "# \n",
    "# plot_model(model, to_file='model.png', show_shapes=True, show_layer_names=True, show_layer_activations=True)"
   ],
   "metadata": {
    "collapsed": false,
    "ExecuteTime": {
     "end_time": "2024-03-18T19:03:12.928254Z",
     "start_time": "2024-03-18T19:03:12.925490Z"
    }
   },
   "id": "af0839d4a7637864",
   "execution_count": 2
  },
  {
   "cell_type": "code",
   "outputs": [],
   "source": [
    "#FOR BODY_M DATASET\n",
    "# import csv\n",
    "# \n",
    "# with open('../bodym-dataset/train/subject_to_photo_map.csv', 'r') as f:\n",
    "#     reader = csv.reader(f)\n",
    "#     uuid_raw = list(reader)\n",
    "# from collections import defaultdict\n",
    "# \n",
    "# uuid_map = defaultdict(list)\n",
    "# \n",
    "# for subject_id, photo_id in uuid_raw[1:]:\n",
    "#     uuid_map[subject_id].append(photo_id)\n",
    "# image_data = {}\n",
    "# \n",
    "# with open('../bodym-dataset/train/measurements.csv', 'r') as f:\n",
    "#     reader = csv.reader(f)\n",
    "#     \n",
    "#     for line in reader:\n",
    "#         subject_id = line[0]\n",
    "#         \n",
    "#         \n",
    "#         for image_id in uuid_map[subject_id]:\n",
    "#             image_data[image_id] = np.array(list(map(float, line[1:])))\n",
    "#             \n",
    "# import os\n",
    "# \n",
    "# import cv2\n",
    "# from tqdm import tqdm\n",
    "# \n",
    "# raw_dataset = []\n",
    "# \n",
    "# for image_id in tqdm(image_data):\n",
    "#     img = cv2.imread(os.path.join('../bodym-dataset/train/mask', image_id + '.png'), cv2.IMREAD_GRAYSCALE)\n",
    "#     img = cv2.resize(img, (180, 240))\n",
    "#     \n",
    "#     raw_dataset.append((\n",
    "#         np.expand_dims(img, 2), \n",
    "#         image_data[image_id])\n",
    "#     )"
   ],
   "metadata": {
    "collapsed": false,
    "ExecuteTime": {
     "end_time": "2024-03-18T19:03:12.933171Z",
     "start_time": "2024-03-18T19:03:12.929673Z"
    }
   },
   "id": "8f203e73173880a3",
   "execution_count": 3
  },
  {
   "cell_type": "code",
   "outputs": [
    {
     "name": "stderr",
     "output_type": "stream",
     "text": [
      "2024-03-18 20:03:13.749053: I tensorflow/core/platform/cpu_feature_guard.cc:210] This TensorFlow binary is optimized to use available CPU instructions in performance-critical operations.\n",
      "To enable the following instructions: AVX2 FMA, in other operations, rebuild TensorFlow with the appropriate compiler flags.\n",
      "2024-03-18 20:03:15.024570: W tensorflow/compiler/tf2tensorrt/utils/py_utils.cc:38] TF-TRT Warning: Could not find TensorRT\n"
     ]
    },
    {
     "name": "stdout",
     "output_type": "stream",
     "text": [
      "Found 79998 files.\n",
      "Using 63999 files for training.\n",
      "Using 15999 files for validation.\n"
     ]
    },
    {
     "name": "stderr",
     "output_type": "stream",
     "text": [
      "2024-03-18 20:03:18.476986: I external/local_xla/xla/stream_executor/cuda/cuda_executor.cc:998] successful NUMA node read from SysFS had negative value (-1), but there must be at least one NUMA node, so returning NUMA node zero. See more at https://github.com/torvalds/linux/blob/v6.0/Documentation/ABI/testing/sysfs-bus-pci#L344-L355\n",
      "2024-03-18 20:03:18.481033: I external/local_xla/xla/stream_executor/cuda/cuda_executor.cc:998] successful NUMA node read from SysFS had negative value (-1), but there must be at least one NUMA node, so returning NUMA node zero. See more at https://github.com/torvalds/linux/blob/v6.0/Documentation/ABI/testing/sysfs-bus-pci#L344-L355\n",
      "2024-03-18 20:03:18.481261: I external/local_xla/xla/stream_executor/cuda/cuda_executor.cc:998] successful NUMA node read from SysFS had negative value (-1), but there must be at least one NUMA node, so returning NUMA node zero. See more at https://github.com/torvalds/linux/blob/v6.0/Documentation/ABI/testing/sysfs-bus-pci#L344-L355\n",
      "2024-03-18 20:03:18.482302: I external/local_xla/xla/stream_executor/cuda/cuda_executor.cc:998] successful NUMA node read from SysFS had negative value (-1), but there must be at least one NUMA node, so returning NUMA node zero. See more at https://github.com/torvalds/linux/blob/v6.0/Documentation/ABI/testing/sysfs-bus-pci#L344-L355\n",
      "2024-03-18 20:03:18.482494: I external/local_xla/xla/stream_executor/cuda/cuda_executor.cc:998] successful NUMA node read from SysFS had negative value (-1), but there must be at least one NUMA node, so returning NUMA node zero. See more at https://github.com/torvalds/linux/blob/v6.0/Documentation/ABI/testing/sysfs-bus-pci#L344-L355\n",
      "2024-03-18 20:03:18.482652: I external/local_xla/xla/stream_executor/cuda/cuda_executor.cc:998] successful NUMA node read from SysFS had negative value (-1), but there must be at least one NUMA node, so returning NUMA node zero. See more at https://github.com/torvalds/linux/blob/v6.0/Documentation/ABI/testing/sysfs-bus-pci#L344-L355\n",
      "2024-03-18 20:03:18.489230: I external/local_xla/xla/stream_executor/cuda/cuda_executor.cc:998] successful NUMA node read from SysFS had negative value (-1), but there must be at least one NUMA node, so returning NUMA node zero. See more at https://github.com/torvalds/linux/blob/v6.0/Documentation/ABI/testing/sysfs-bus-pci#L344-L355\n",
      "2024-03-18 20:03:18.489690: I external/local_xla/xla/stream_executor/cuda/cuda_executor.cc:998] successful NUMA node read from SysFS had negative value (-1), but there must be at least one NUMA node, so returning NUMA node zero. See more at https://github.com/torvalds/linux/blob/v6.0/Documentation/ABI/testing/sysfs-bus-pci#L344-L355\n",
      "2024-03-18 20:03:18.489862: W tensorflow/core/common_runtime/gpu/gpu_bfc_allocator.cc:47] Overriding orig_value setting because the TF_FORCE_GPU_ALLOW_GROWTH environment variable is set. Original config value was 0.\n",
      "2024-03-18 20:03:18.489939: I external/local_xla/xla/stream_executor/cuda/cuda_executor.cc:998] successful NUMA node read from SysFS had negative value (-1), but there must be at least one NUMA node, so returning NUMA node zero. See more at https://github.com/torvalds/linux/blob/v6.0/Documentation/ABI/testing/sysfs-bus-pci#L344-L355\n",
      "2024-03-18 20:03:18.490408: I tensorflow/core/common_runtime/gpu/gpu_device.cc:1928] Created device /job:localhost/replica:0/task:0/device:GPU:0 with 2372 MB memory:  -> device: 0, name: NVIDIA GeForce RTX 3060 Laptop GPU, pci bus id: 0000:01:00.0, compute capability: 8.6\n",
      "2024-03-18 20:03:18.701686: W external/local_xla/xla/service/gpu/llvm_gpu_backend/gpu_backend_lib.cc:510] Can't find libdevice directory ${CUDA_DIR}/nvvm/libdevice. This may result in compilation or runtime failures, if the program we try to run uses routines from libdevice.\n",
      "Searched for CUDA in the following directories:\n",
      "  ./cuda_sdk_lib\n",
      "  /usr/local/cuda-12.3\n",
      "  /usr/local/cuda\n",
      "  /home/raamxie/School/DomainAdaptation/BoMN/.venv/lib/python3.12/site-packages/tensorflow/python/platform/../../../nvidia/cuda_nvcc\n",
      "  /home/raamxie/School/DomainAdaptation/BoMN/.venv/lib/python3.12/site-packages/tensorflow/python/platform/../../../../nvidia/cuda_nvcc\n",
      "  .\n",
      "You can choose the search directory by setting xla_gpu_cuda_data_dir in HloModule's DebugOptions.  For most apps, setting the environment variable XLA_FLAGS=--xla_gpu_cuda_data_dir=/path/to/cuda will work.\n",
      "100%|██████████| 79999/79999 [00:12<00:00, 6580.70it/s]\n"
     ]
    }
   ],
   "source": [
    "import cv2\n",
    "import os\n",
    "from tqdm import tqdm\n",
    "\n",
    "avatar_count = 79999\n",
    "measurement_data = {}\n",
    "\n",
    "train_data = keras.utils.image_dataset_from_directory(\n",
    "    directory=\"../Surreact-APose/train/imgs_nobg_frontEDITED/\",\n",
    "    labels=None,\n",
    "    batch_size=32,\n",
    "    image_size=(240, 320),\n",
    "    shuffle=True,\n",
    "    validation_split=0.2,\n",
    "    color_mode=\"grayscale\",\n",
    "    subset=\"both\",\n",
    "    seed=69\n",
    ")\n",
    "\n",
    "for number in tqdm(range(avatar_count)):\n",
    "    if number == 5:\n",
    "        continue\n",
    "#     source_image = cv2.imread(os.path.join(f\"../Surreact-APose/train/imgs_nobg_front/Avatar_{number:06d}.png\"), cv2.IMREAD_GRAYSCALE)\n",
    "#     silhouette = (source_image > 1).astype(np.uint8)\n",
    "    measurement_data[number] = np.load(f\"../Surreact-APose/train/measurements/Avatar_{number:06d}.npy\")"
   ],
   "metadata": {
    "collapsed": false,
    "ExecuteTime": {
     "end_time": "2024-03-18T19:03:31.660479Z",
     "start_time": "2024-03-18T19:03:12.935210Z"
    }
   },
   "id": "418d414a41d1808f",
   "execution_count": 4
  },
  {
   "cell_type": "code",
   "outputs": [],
   "source": [
    "y_true = np.array([*measurement_data.values()])"
   ],
   "metadata": {
    "collapsed": false,
    "ExecuteTime": {
     "end_time": "2024-03-18T19:04:10.239867Z",
     "start_time": "2024-03-18T19:04:10.194908Z"
    }
   },
   "id": "2fc2890fd3c093a6",
   "execution_count": 8
  },
  {
   "cell_type": "code",
   "outputs": [],
   "source": [
    "(\n",
    "    y_true_head, y_true_neck, y_true_sts,y_true_arm, y_true_stw, y_true_torso, y_true_bicep, y_true_wrist, y_true_chest, y_true_waist, y_true_pelvis, y_true_leg, y_true_inner_leg, y_true_thigh, y_true_knee, y_true_calf, height\n",
    ") = np.hsplit(y_true, 17) #17 is height"
   ],
   "metadata": {
    "collapsed": false,
    "ExecuteTime": {
     "end_time": "2024-03-18T19:04:11.690841Z",
     "start_time": "2024-03-18T19:04:11.687649Z"
    }
   },
   "id": "9b3dd771eaf3511f",
   "execution_count": 9
  },
  {
   "cell_type": "code",
   "outputs": [
    {
     "ename": "ValueError",
     "evalue": "Slicing dataset elements is not supported for rank 0.",
     "output_type": "error",
     "traceback": [
      "\u001B[0;31m---------------------------------------------------------------------------\u001B[0m",
      "\u001B[0;31mValueError\u001B[0m                                Traceback (most recent call last)",
      "Cell \u001B[0;32mIn[11], line 46\u001B[0m\n\u001B[1;32m      3\u001B[0m \u001B[38;5;28;01mimport\u001B[39;00m \u001B[38;5;21;01mtensorflow\u001B[39;00m \u001B[38;5;28;01mas\u001B[39;00m \u001B[38;5;21;01mtf\u001B[39;00m\n\u001B[1;32m      5\u001B[0m model\u001B[38;5;241m.\u001B[39mcompile(\n\u001B[1;32m      6\u001B[0m     optimizer\u001B[38;5;241m=\u001B[39mAdam(),\n\u001B[1;32m      7\u001B[0m     loss\u001B[38;5;241m=\u001B[39m{\n\u001B[0;32m   (...)\u001B[0m\n\u001B[1;32m     42\u001B[0m     },\n\u001B[1;32m     43\u001B[0m )\n\u001B[0;32m---> 46\u001B[0m train_dataset \u001B[38;5;241m=\u001B[39m \u001B[43mtf\u001B[49m\u001B[38;5;241;43m.\u001B[39;49m\u001B[43mdata\u001B[49m\u001B[38;5;241;43m.\u001B[39;49m\u001B[43mDataset\u001B[49m\u001B[38;5;241;43m.\u001B[39;49m\u001B[43mfrom_tensor_slices\u001B[49m\u001B[43m(\u001B[49m\u001B[43m(\u001B[49m\n\u001B[1;32m     47\u001B[0m \u001B[43m    \u001B[49m\u001B[43m{\u001B[49m\u001B[38;5;124;43m'\u001B[39;49m\u001B[38;5;124;43minput\u001B[39;49m\u001B[38;5;124;43m'\u001B[39;49m\u001B[43m:\u001B[49m\u001B[43m \u001B[49m\u001B[43mtrain_data\u001B[49m\u001B[43m[\u001B[49m\u001B[38;5;241;43m0\u001B[39;49m\u001B[43m]\u001B[49m\u001B[43m}\u001B[49m\u001B[43m,\u001B[49m\u001B[43m  \u001B[49m\u001B[38;5;66;43;03m# Input data\u001B[39;49;00m\n\u001B[1;32m     48\u001B[0m \u001B[43m    \u001B[49m\u001B[43m{\u001B[49m\n\u001B[1;32m     49\u001B[0m \u001B[43m        \u001B[49m\u001B[38;5;124;43m'\u001B[39;49m\u001B[38;5;124;43mhead_out\u001B[39;49m\u001B[38;5;124;43m'\u001B[39;49m\u001B[43m:\u001B[49m\u001B[43m \u001B[49m\u001B[43my_true_head\u001B[49m\u001B[43m,\u001B[49m\n\u001B[1;32m     50\u001B[0m \u001B[43m        \u001B[49m\u001B[38;5;124;43m'\u001B[39;49m\u001B[38;5;124;43mneck_out\u001B[39;49m\u001B[38;5;124;43m'\u001B[39;49m\u001B[43m:\u001B[49m\u001B[43m \u001B[49m\u001B[43my_true_neck\u001B[49m\u001B[43m,\u001B[49m\n\u001B[1;32m     51\u001B[0m \u001B[43m        \u001B[49m\u001B[38;5;124;43m'\u001B[39;49m\u001B[38;5;124;43mshoulder_to_shoulder_out\u001B[39;49m\u001B[38;5;124;43m'\u001B[39;49m\u001B[43m:\u001B[49m\u001B[43m \u001B[49m\u001B[43my_true_sts\u001B[49m\u001B[43m,\u001B[49m\n\u001B[1;32m     52\u001B[0m \u001B[43m        \u001B[49m\u001B[38;5;124;43m'\u001B[39;49m\u001B[38;5;124;43marm_out\u001B[39;49m\u001B[38;5;124;43m'\u001B[39;49m\u001B[43m:\u001B[49m\u001B[43m \u001B[49m\u001B[43my_true_arm\u001B[49m\u001B[43m,\u001B[49m\n\u001B[1;32m     53\u001B[0m \u001B[43m        \u001B[49m\u001B[38;5;124;43m'\u001B[39;49m\u001B[38;5;124;43mshoulder_to_wrist_out\u001B[39;49m\u001B[38;5;124;43m'\u001B[39;49m\u001B[43m:\u001B[49m\u001B[43m \u001B[49m\u001B[43my_true_stw\u001B[49m\u001B[43m,\u001B[49m\n\u001B[1;32m     54\u001B[0m \u001B[43m        \u001B[49m\u001B[38;5;124;43m'\u001B[39;49m\u001B[38;5;124;43mtorso_out\u001B[39;49m\u001B[38;5;124;43m'\u001B[39;49m\u001B[43m:\u001B[49m\u001B[43m \u001B[49m\u001B[43my_true_torso\u001B[49m\u001B[43m,\u001B[49m\n\u001B[1;32m     55\u001B[0m \u001B[43m        \u001B[49m\u001B[38;5;124;43m'\u001B[39;49m\u001B[38;5;124;43mbicep_out\u001B[39;49m\u001B[38;5;124;43m'\u001B[39;49m\u001B[43m:\u001B[49m\u001B[43m \u001B[49m\u001B[43my_true_bicep\u001B[49m\u001B[43m,\u001B[49m\n\u001B[1;32m     56\u001B[0m \u001B[43m        \u001B[49m\u001B[38;5;124;43m'\u001B[39;49m\u001B[38;5;124;43mwrist_out\u001B[39;49m\u001B[38;5;124;43m'\u001B[39;49m\u001B[43m:\u001B[49m\u001B[43m \u001B[49m\u001B[43my_true_wrist\u001B[49m\u001B[43m,\u001B[49m\n\u001B[1;32m     57\u001B[0m \u001B[43m        \u001B[49m\u001B[38;5;124;43m'\u001B[39;49m\u001B[38;5;124;43mchest_out\u001B[39;49m\u001B[38;5;124;43m'\u001B[39;49m\u001B[43m:\u001B[49m\u001B[43m \u001B[49m\u001B[43my_true_chest\u001B[49m\u001B[43m,\u001B[49m\n\u001B[1;32m     58\u001B[0m \u001B[43m        \u001B[49m\u001B[38;5;124;43m'\u001B[39;49m\u001B[38;5;124;43mwaist_out\u001B[39;49m\u001B[38;5;124;43m'\u001B[39;49m\u001B[43m:\u001B[49m\u001B[43m \u001B[49m\u001B[43my_true_waist\u001B[49m\u001B[43m,\u001B[49m\n\u001B[1;32m     59\u001B[0m \u001B[43m        \u001B[49m\u001B[38;5;124;43m'\u001B[39;49m\u001B[38;5;124;43mpelvis_out\u001B[39;49m\u001B[38;5;124;43m'\u001B[39;49m\u001B[43m:\u001B[49m\u001B[43m \u001B[49m\u001B[43my_true_pelvis\u001B[49m\u001B[43m,\u001B[49m\n\u001B[1;32m     60\u001B[0m \u001B[43m        \u001B[49m\u001B[38;5;124;43m'\u001B[39;49m\u001B[38;5;124;43mleg_out\u001B[39;49m\u001B[38;5;124;43m'\u001B[39;49m\u001B[43m:\u001B[49m\u001B[43m \u001B[49m\u001B[43my_true_leg\u001B[49m\u001B[43m,\u001B[49m\n\u001B[1;32m     61\u001B[0m \u001B[43m        \u001B[49m\u001B[38;5;124;43m'\u001B[39;49m\u001B[38;5;124;43minner_leg_out\u001B[39;49m\u001B[38;5;124;43m'\u001B[39;49m\u001B[43m:\u001B[49m\u001B[43m \u001B[49m\u001B[43my_true_inner_leg\u001B[49m\u001B[43m,\u001B[49m\n\u001B[1;32m     62\u001B[0m \u001B[43m        \u001B[49m\u001B[38;5;124;43m'\u001B[39;49m\u001B[38;5;124;43mthigh_out\u001B[39;49m\u001B[38;5;124;43m'\u001B[39;49m\u001B[43m:\u001B[49m\u001B[43m \u001B[49m\u001B[43my_true_thigh\u001B[49m\u001B[43m,\u001B[49m\n\u001B[1;32m     63\u001B[0m \u001B[43m        \u001B[49m\u001B[38;5;124;43m'\u001B[39;49m\u001B[38;5;124;43mknee_out\u001B[39;49m\u001B[38;5;124;43m'\u001B[39;49m\u001B[43m:\u001B[49m\u001B[43m \u001B[49m\u001B[43my_true_knee\u001B[49m\u001B[43m,\u001B[49m\n\u001B[1;32m     64\u001B[0m \u001B[43m        \u001B[49m\u001B[38;5;124;43m'\u001B[39;49m\u001B[38;5;124;43mcalf_out\u001B[39;49m\u001B[38;5;124;43m'\u001B[39;49m\u001B[43m:\u001B[49m\u001B[43m \u001B[49m\u001B[43my_true_calf\u001B[49m\n\u001B[1;32m     65\u001B[0m \u001B[43m    \u001B[49m\u001B[43m}\u001B[49m\u001B[43m  \u001B[49m\u001B[38;5;66;43;03m# Target data\u001B[39;49;00m\n\u001B[1;32m     66\u001B[0m \u001B[43m)\u001B[49m\u001B[43m)\u001B[49m\n\u001B[1;32m     68\u001B[0m train_dataset \u001B[38;5;241m=\u001B[39m train_dataset\u001B[38;5;241m.\u001B[39mbatch(\u001B[38;5;241m8\u001B[39m)\n\u001B[1;32m     72\u001B[0m model\u001B[38;5;241m.\u001B[39mfit(\n\u001B[1;32m     73\u001B[0m     train_dataset,\n\u001B[1;32m     74\u001B[0m     epochs\u001B[38;5;241m=\u001B[39m\u001B[38;5;241m10\u001B[39m,\n\u001B[0;32m   (...)\u001B[0m\n\u001B[1;32m     77\u001B[0m     callbacks\u001B[38;5;241m=\u001B[39m[TensorBoard(write_graph\u001B[38;5;241m=\u001B[39m\u001B[38;5;28;01mFalse\u001B[39;00m)]\n\u001B[1;32m     78\u001B[0m )\n",
      "File \u001B[0;32m~/School/DomainAdaptation/BoMN/.venv/lib/python3.12/site-packages/tensorflow/python/data/ops/dataset_ops.py:826\u001B[0m, in \u001B[0;36mDatasetV2.from_tensor_slices\u001B[0;34m(tensors, name)\u001B[0m\n\u001B[1;32m    822\u001B[0m \u001B[38;5;66;03m# Loaded lazily due to a circular dependency (dataset_ops ->\u001B[39;00m\n\u001B[1;32m    823\u001B[0m \u001B[38;5;66;03m# from_tensor_slices_op -> dataset_ops).\u001B[39;00m\n\u001B[1;32m    824\u001B[0m \u001B[38;5;66;03m# pylint: disable=g-import-not-at-top,protected-access\u001B[39;00m\n\u001B[1;32m    825\u001B[0m \u001B[38;5;28;01mfrom\u001B[39;00m \u001B[38;5;21;01mtensorflow\u001B[39;00m\u001B[38;5;21;01m.\u001B[39;00m\u001B[38;5;21;01mpython\u001B[39;00m\u001B[38;5;21;01m.\u001B[39;00m\u001B[38;5;21;01mdata\u001B[39;00m\u001B[38;5;21;01m.\u001B[39;00m\u001B[38;5;21;01mops\u001B[39;00m \u001B[38;5;28;01mimport\u001B[39;00m from_tensor_slices_op\n\u001B[0;32m--> 826\u001B[0m \u001B[38;5;28;01mreturn\u001B[39;00m \u001B[43mfrom_tensor_slices_op\u001B[49m\u001B[38;5;241;43m.\u001B[39;49m\u001B[43m_from_tensor_slices\u001B[49m\u001B[43m(\u001B[49m\u001B[43mtensors\u001B[49m\u001B[43m,\u001B[49m\u001B[43m \u001B[49m\u001B[43mname\u001B[49m\u001B[43m)\u001B[49m\n",
      "File \u001B[0;32m~/School/DomainAdaptation/BoMN/.venv/lib/python3.12/site-packages/tensorflow/python/data/ops/from_tensor_slices_op.py:25\u001B[0m, in \u001B[0;36m_from_tensor_slices\u001B[0;34m(tensors, name)\u001B[0m\n\u001B[1;32m     24\u001B[0m \u001B[38;5;28;01mdef\u001B[39;00m \u001B[38;5;21m_from_tensor_slices\u001B[39m(tensors, name\u001B[38;5;241m=\u001B[39m\u001B[38;5;28;01mNone\u001B[39;00m):\n\u001B[0;32m---> 25\u001B[0m   \u001B[38;5;28;01mreturn\u001B[39;00m \u001B[43m_TensorSliceDataset\u001B[49m\u001B[43m(\u001B[49m\u001B[43mtensors\u001B[49m\u001B[43m,\u001B[49m\u001B[43m \u001B[49m\u001B[43mname\u001B[49m\u001B[38;5;241;43m=\u001B[39;49m\u001B[43mname\u001B[49m\u001B[43m)\u001B[49m\n",
      "File \u001B[0;32m~/School/DomainAdaptation/BoMN/.venv/lib/python3.12/site-packages/tensorflow/python/data/ops/from_tensor_slices_op.py:35\u001B[0m, in \u001B[0;36m_TensorSliceDataset.__init__\u001B[0;34m(self, element, is_files, name)\u001B[0m\n\u001B[1;32m     33\u001B[0m element \u001B[38;5;241m=\u001B[39m structure\u001B[38;5;241m.\u001B[39mnormalize_element(element)\n\u001B[1;32m     34\u001B[0m batched_spec \u001B[38;5;241m=\u001B[39m structure\u001B[38;5;241m.\u001B[39mtype_spec_from_value(element)\n\u001B[0;32m---> 35\u001B[0m \u001B[38;5;28mself\u001B[39m\u001B[38;5;241m.\u001B[39m_tensors \u001B[38;5;241m=\u001B[39m \u001B[43mstructure\u001B[49m\u001B[38;5;241;43m.\u001B[39;49m\u001B[43mto_batched_tensor_list\u001B[49m\u001B[43m(\u001B[49m\u001B[43mbatched_spec\u001B[49m\u001B[43m,\u001B[49m\u001B[43m \u001B[49m\u001B[43melement\u001B[49m\u001B[43m)\u001B[49m\n\u001B[1;32m     36\u001B[0m \u001B[38;5;28;01mif\u001B[39;00m \u001B[38;5;129;01mnot\u001B[39;00m \u001B[38;5;28mself\u001B[39m\u001B[38;5;241m.\u001B[39m_tensors:\n\u001B[1;32m     37\u001B[0m   \u001B[38;5;28;01mraise\u001B[39;00m \u001B[38;5;167;01mValueError\u001B[39;00m(\u001B[38;5;124m\"\u001B[39m\u001B[38;5;124mInvalid `element`. `element` should not be empty.\u001B[39m\u001B[38;5;124m\"\u001B[39m)\n",
      "File \u001B[0;32m~/School/DomainAdaptation/BoMN/.venv/lib/python3.12/site-packages/tensorflow/python/data/util/structure.py:386\u001B[0m, in \u001B[0;36mto_batched_tensor_list\u001B[0;34m(element_spec, element)\u001B[0m\n\u001B[1;32m    366\u001B[0m \u001B[38;5;250m\u001B[39m\u001B[38;5;124;03m\"\"\"Returns a tensor list representation of the element.\u001B[39;00m\n\u001B[1;32m    367\u001B[0m \n\u001B[1;32m    368\u001B[0m \u001B[38;5;124;03mArgs:\u001B[39;00m\n\u001B[0;32m   (...)\u001B[0m\n\u001B[1;32m    381\u001B[0m \u001B[38;5;124;03m    in any of their substructures.\u001B[39;00m\n\u001B[1;32m    382\u001B[0m \u001B[38;5;124;03m\"\"\"\u001B[39;00m\n\u001B[1;32m    384\u001B[0m \u001B[38;5;66;03m# pylint: disable=protected-access\u001B[39;00m\n\u001B[1;32m    385\u001B[0m \u001B[38;5;66;03m# pylint: disable=g-long-lambda\u001B[39;00m\n\u001B[0;32m--> 386\u001B[0m \u001B[38;5;28;01mreturn\u001B[39;00m \u001B[43m_to_tensor_list_helper\u001B[49m\u001B[43m(\u001B[49m\n\u001B[1;32m    387\u001B[0m \u001B[43m    \u001B[49m\u001B[38;5;28;43;01mlambda\u001B[39;49;00m\u001B[43m \u001B[49m\u001B[43mstate\u001B[49m\u001B[43m,\u001B[49m\u001B[43m \u001B[49m\u001B[43mspec\u001B[49m\u001B[43m,\u001B[49m\u001B[43m \u001B[49m\u001B[43mcomponent\u001B[49m\u001B[43m:\u001B[49m\u001B[43m \u001B[49m\u001B[43mstate\u001B[49m\u001B[43m \u001B[49m\u001B[38;5;241;43m+\u001B[39;49m\u001B[43m \u001B[49m\u001B[43mspec\u001B[49m\u001B[38;5;241;43m.\u001B[39;49m\u001B[43m_to_batched_tensor_list\u001B[49m\u001B[43m(\u001B[49m\n\u001B[1;32m    388\u001B[0m \u001B[43m        \u001B[49m\u001B[43mcomponent\u001B[49m\u001B[43m)\u001B[49m\u001B[43m,\u001B[49m\u001B[43m \u001B[49m\u001B[43melement_spec\u001B[49m\u001B[43m,\u001B[49m\u001B[43m \u001B[49m\u001B[43melement\u001B[49m\u001B[43m)\u001B[49m\n",
      "File \u001B[0;32m~/School/DomainAdaptation/BoMN/.venv/lib/python3.12/site-packages/tensorflow/python/data/util/structure.py:361\u001B[0m, in \u001B[0;36m_to_tensor_list_helper\u001B[0;34m(encode_fn, element_spec, element)\u001B[0m\n\u001B[1;32m    355\u001B[0m       \u001B[38;5;28;01mraise\u001B[39;00m \u001B[38;5;167;01mValueError\u001B[39;00m(\n\u001B[1;32m    356\u001B[0m           \u001B[38;5;124mf\u001B[39m\u001B[38;5;124m\"\u001B[39m\u001B[38;5;124mValue \u001B[39m\u001B[38;5;132;01m{\u001B[39;00mcomponent\u001B[38;5;132;01m}\u001B[39;00m\u001B[38;5;124m is not convertible to a tensor with \u001B[39m\u001B[38;5;124m\"\u001B[39m\n\u001B[1;32m    357\u001B[0m           \u001B[38;5;124mf\u001B[39m\u001B[38;5;124m\"\u001B[39m\u001B[38;5;124mdtype \u001B[39m\u001B[38;5;132;01m{\u001B[39;00mspec\u001B[38;5;241m.\u001B[39mdtype\u001B[38;5;132;01m}\u001B[39;00m\u001B[38;5;124m and shape \u001B[39m\u001B[38;5;132;01m{\u001B[39;00mspec\u001B[38;5;241m.\u001B[39mshape\u001B[38;5;132;01m}\u001B[39;00m\u001B[38;5;124m.\u001B[39m\u001B[38;5;124m\"\u001B[39m\n\u001B[1;32m    358\u001B[0m       )\n\u001B[1;32m    359\u001B[0m   \u001B[38;5;28;01mreturn\u001B[39;00m encode_fn(state, spec, component)\n\u001B[0;32m--> 361\u001B[0m \u001B[38;5;28;01mreturn\u001B[39;00m \u001B[43mfunctools\u001B[49m\u001B[38;5;241;43m.\u001B[39;49m\u001B[43mreduce\u001B[49m\u001B[43m(\u001B[49m\n\u001B[1;32m    362\u001B[0m \u001B[43m    \u001B[49m\u001B[43mreduce_fn\u001B[49m\u001B[43m,\u001B[49m\u001B[43m \u001B[49m\u001B[38;5;28;43mzip\u001B[39;49m\u001B[43m(\u001B[49m\u001B[43mnest\u001B[49m\u001B[38;5;241;43m.\u001B[39;49m\u001B[43mflatten\u001B[49m\u001B[43m(\u001B[49m\u001B[43melement_spec\u001B[49m\u001B[43m)\u001B[49m\u001B[43m,\u001B[49m\u001B[43m \u001B[49m\u001B[43mnest\u001B[49m\u001B[38;5;241;43m.\u001B[39;49m\u001B[43mflatten\u001B[49m\u001B[43m(\u001B[49m\u001B[43melement\u001B[49m\u001B[43m)\u001B[49m\u001B[43m)\u001B[49m\u001B[43m,\u001B[49m\u001B[43m \u001B[49m\u001B[43m[\u001B[49m\u001B[43m]\u001B[49m\u001B[43m)\u001B[49m\n",
      "File \u001B[0;32m~/School/DomainAdaptation/BoMN/.venv/lib/python3.12/site-packages/tensorflow/python/data/util/structure.py:359\u001B[0m, in \u001B[0;36m_to_tensor_list_helper.<locals>.reduce_fn\u001B[0;34m(state, value)\u001B[0m\n\u001B[1;32m    354\u001B[0m   \u001B[38;5;28;01mif\u001B[39;00m \u001B[38;5;129;01mnot\u001B[39;00m component\u001B[38;5;241m.\u001B[39mshape\u001B[38;5;241m.\u001B[39mis_compatible_with(spec\u001B[38;5;241m.\u001B[39mshape):\n\u001B[1;32m    355\u001B[0m     \u001B[38;5;28;01mraise\u001B[39;00m \u001B[38;5;167;01mValueError\u001B[39;00m(\n\u001B[1;32m    356\u001B[0m         \u001B[38;5;124mf\u001B[39m\u001B[38;5;124m\"\u001B[39m\u001B[38;5;124mValue \u001B[39m\u001B[38;5;132;01m{\u001B[39;00mcomponent\u001B[38;5;132;01m}\u001B[39;00m\u001B[38;5;124m is not convertible to a tensor with \u001B[39m\u001B[38;5;124m\"\u001B[39m\n\u001B[1;32m    357\u001B[0m         \u001B[38;5;124mf\u001B[39m\u001B[38;5;124m\"\u001B[39m\u001B[38;5;124mdtype \u001B[39m\u001B[38;5;132;01m{\u001B[39;00mspec\u001B[38;5;241m.\u001B[39mdtype\u001B[38;5;132;01m}\u001B[39;00m\u001B[38;5;124m and shape \u001B[39m\u001B[38;5;132;01m{\u001B[39;00mspec\u001B[38;5;241m.\u001B[39mshape\u001B[38;5;132;01m}\u001B[39;00m\u001B[38;5;124m.\u001B[39m\u001B[38;5;124m\"\u001B[39m\n\u001B[1;32m    358\u001B[0m     )\n\u001B[0;32m--> 359\u001B[0m \u001B[38;5;28;01mreturn\u001B[39;00m \u001B[43mencode_fn\u001B[49m\u001B[43m(\u001B[49m\u001B[43mstate\u001B[49m\u001B[43m,\u001B[49m\u001B[43m \u001B[49m\u001B[43mspec\u001B[49m\u001B[43m,\u001B[49m\u001B[43m \u001B[49m\u001B[43mcomponent\u001B[49m\u001B[43m)\u001B[49m\n",
      "File \u001B[0;32m~/School/DomainAdaptation/BoMN/.venv/lib/python3.12/site-packages/tensorflow/python/data/util/structure.py:387\u001B[0m, in \u001B[0;36mto_batched_tensor_list.<locals>.<lambda>\u001B[0;34m(state, spec, component)\u001B[0m\n\u001B[1;32m    366\u001B[0m \u001B[38;5;250m\u001B[39m\u001B[38;5;124;03m\"\"\"Returns a tensor list representation of the element.\u001B[39;00m\n\u001B[1;32m    367\u001B[0m \n\u001B[1;32m    368\u001B[0m \u001B[38;5;124;03mArgs:\u001B[39;00m\n\u001B[0;32m   (...)\u001B[0m\n\u001B[1;32m    381\u001B[0m \u001B[38;5;124;03m    in any of their substructures.\u001B[39;00m\n\u001B[1;32m    382\u001B[0m \u001B[38;5;124;03m\"\"\"\u001B[39;00m\n\u001B[1;32m    384\u001B[0m \u001B[38;5;66;03m# pylint: disable=protected-access\u001B[39;00m\n\u001B[1;32m    385\u001B[0m \u001B[38;5;66;03m# pylint: disable=g-long-lambda\u001B[39;00m\n\u001B[1;32m    386\u001B[0m \u001B[38;5;28;01mreturn\u001B[39;00m _to_tensor_list_helper(\n\u001B[0;32m--> 387\u001B[0m     \u001B[38;5;28;01mlambda\u001B[39;00m state, spec, component: state \u001B[38;5;241m+\u001B[39m \u001B[43mspec\u001B[49m\u001B[38;5;241;43m.\u001B[39;49m\u001B[43m_to_batched_tensor_list\u001B[49m\u001B[43m(\u001B[49m\n\u001B[1;32m    388\u001B[0m \u001B[43m        \u001B[49m\u001B[43mcomponent\u001B[49m\u001B[43m)\u001B[49m, element_spec, element)\n",
      "File \u001B[0;32m~/School/DomainAdaptation/BoMN/.venv/lib/python3.12/site-packages/tensorflow/python/data/ops/dataset_ops.py:4668\u001B[0m, in \u001B[0;36mDatasetSpec._to_batched_tensor_list\u001B[0;34m(self, value)\u001B[0m\n\u001B[1;32m   4666\u001B[0m \u001B[38;5;28;01mdef\u001B[39;00m \u001B[38;5;21m_to_batched_tensor_list\u001B[39m(\u001B[38;5;28mself\u001B[39m, value):\n\u001B[1;32m   4667\u001B[0m   \u001B[38;5;28;01mif\u001B[39;00m \u001B[38;5;28mself\u001B[39m\u001B[38;5;241m.\u001B[39m_dataset_shape\u001B[38;5;241m.\u001B[39mndims \u001B[38;5;241m==\u001B[39m \u001B[38;5;241m0\u001B[39m:\n\u001B[0;32m-> 4668\u001B[0m     \u001B[38;5;28;01mraise\u001B[39;00m \u001B[38;5;167;01mValueError\u001B[39;00m(\u001B[38;5;124m\"\u001B[39m\u001B[38;5;124mSlicing dataset elements is not supported for rank 0.\u001B[39m\u001B[38;5;124m\"\u001B[39m)\n\u001B[1;32m   4669\u001B[0m   \u001B[38;5;28;01mreturn\u001B[39;00m \u001B[38;5;28mself\u001B[39m\u001B[38;5;241m.\u001B[39m_to_tensor_list(value)\n",
      "\u001B[0;31mValueError\u001B[0m: Slicing dataset elements is not supported for rank 0."
     ]
    }
   ],
   "source": [
    "from keras.optimizers import Adam\n",
    "from keras.callbacks import TensorBoard\n",
    "import tensorflow as tf\n",
    "\n",
    "\n",
    "tf.data.Dataset.zip(train_data[0], y_true)\n",
    "\n",
    "model.compile(\n",
    "    optimizer=Adam(),\n",
    "    loss={\n",
    "        'head_out': 'mse',\n",
    "        'neck_out': 'mse',\n",
    "        'shoulder_to_shoulder_out': 'mse',\n",
    "        'arm_out': 'mse',\n",
    "        'shoulder_to_wrist_out': 'mse',\n",
    "        'torso_out': 'mse',\n",
    "        'bicep_out': 'mse',\n",
    "        'wrist_out': 'mse',\n",
    "        'chest_out': 'mse',\n",
    "        'waist_out': 'mse',\n",
    "        'pelvis_out': 'mse',\n",
    "        'leg_out': 'mse',\n",
    "        'inner_leg_out': 'mse',\n",
    "        'thigh_out': 'mse',\n",
    "        'knee_out': 'mse',\n",
    "        'calf_out': 'mse'\n",
    "    },\n",
    "    metrics={\n",
    "        'head_out': ['mae'],\n",
    "        'neck_out': ['mae'],\n",
    "        'shoulder_to_shoulder_out': ['mae'],\n",
    "        'arm_out': ['mae'],\n",
    "        'shoulder_to_wrist_out': ['mae'],\n",
    "        'torso_out': ['mae'],\n",
    "        'bicep_out': ['mae'],\n",
    "        'wrist_out': ['mae'],\n",
    "        'chest_out': ['mae'],\n",
    "        'waist_out': ['mae'],\n",
    "        'pelvis_out': ['mae'],\n",
    "        'leg_out': ['mae'],\n",
    "        'inner_leg_out': ['mae'],\n",
    "        'thigh_out': ['mae'],\n",
    "        'knee_out': ['mae'],\n",
    "        'calf_out': ['mae']\n",
    "    },\n",
    ")\n",
    "\n",
    "\n",
    "\n",
    "\n",
    "model.fit(\n",
    "    x=train_data[0],\n",
    "    y={\n",
    "        'head_out': y_true_head,\n",
    "        'neck_out': y_true_neck,\n",
    "        'shoulder_to_shoulder_out': y_true_sts,\n",
    "        'arm_out': y_true_arm,\n",
    "        'shoulder_to_wrist_out': y_true_stw,\n",
    "        'torso_out': y_true_torso,\n",
    "        'bicep_out': y_true_bicep,\n",
    "        'wrist_out': y_true_wrist,\n",
    "        'chest_out': y_true_chest,\n",
    "        'waist_out': y_true_waist,\n",
    "        'pelvis_out': y_true_pelvis,\n",
    "        'leg_out': y_true_leg,\n",
    "        'inner_leg_out': y_true_inner_leg,\n",
    "        'thigh_out': y_true_thigh,\n",
    "        'knee_out': y_true_knee,\n",
    "        'calf_out': y_true_calf\n",
    "    },\n",
    "    batch_size=8,\n",
    "    epochs=10,\n",
    "    validation_data=train_data[1],\n",
    "    shuffle=True,\n",
    "    callbacks=[TensorBoard(write_graph=False)]\n",
    ")"
   ],
   "metadata": {
    "collapsed": false,
    "ExecuteTime": {
     "end_time": "2024-03-18T19:05:38.495822Z",
     "start_time": "2024-03-18T19:05:38.412039Z"
    }
   },
   "id": "e2e37a391e152295",
   "execution_count": 11
  },
  {
   "cell_type": "code",
   "outputs": [
    {
     "name": "stdout",
     "output_type": "stream",
     "text": [
      "Rank: tf.Tensor(3, shape=(), dtype=int32)\n",
      "Rank: tf.Tensor(3, shape=(), dtype=int32)\n",
      "Rank: tf.Tensor(3, shape=(), dtype=int32)\n",
      "Rank: tf.Tensor(3, shape=(), dtype=int32)\n",
      "Rank: tf.Tensor(3, shape=(), dtype=int32)\n",
      "Rank: tf.Tensor(3, shape=(), dtype=int32)\n",
      "Rank: tf.Tensor(3, shape=(), dtype=int32)\n",
      "Rank: tf.Tensor(3, shape=(), dtype=int32)\n",
      "Rank: tf.Tensor(3, shape=(), dtype=int32)\n",
      "Rank: tf.Tensor(3, shape=(), dtype=int32)\n",
      "Rank: tf.Tensor(3, shape=(), dtype=int32)\n",
      "Rank: tf.Tensor(3, shape=(), dtype=int32)\n",
      "Rank: tf.Tensor(3, shape=(), dtype=int32)\n",
      "Rank: tf.Tensor(3, shape=(), dtype=int32)\n",
      "Rank: tf.Tensor(3, shape=(), dtype=int32)\n",
      "Rank: tf.Tensor(3, shape=(), dtype=int32)\n",
      "Rank: tf.Tensor(3, shape=(), dtype=int32)\n",
      "Rank: tf.Tensor(3, shape=(), dtype=int32)\n",
      "Rank: tf.Tensor(3, shape=(), dtype=int32)\n",
      "Rank: tf.Tensor(3, shape=(), dtype=int32)\n",
      "Rank: tf.Tensor(3, shape=(), dtype=int32)\n",
      "Rank: tf.Tensor(3, shape=(), dtype=int32)\n",
      "Rank: tf.Tensor(3, shape=(), dtype=int32)\n",
      "Rank: tf.Tensor(3, shape=(), dtype=int32)\n",
      "Rank: tf.Tensor(3, shape=(), dtype=int32)\n",
      "Rank: tf.Tensor(3, shape=(), dtype=int32)\n",
      "Rank: tf.Tensor(3, shape=(), dtype=int32)\n",
      "Rank: tf.Tensor(3, shape=(), dtype=int32)\n",
      "Rank: tf.Tensor(3, shape=(), dtype=int32)\n",
      "Rank: tf.Tensor(3, shape=(), dtype=int32)\n",
      "Rank: tf.Tensor(3, shape=(), dtype=int32)\n",
      "Rank: tf.Tensor(3, shape=(), dtype=int32)\n"
     ]
    },
    {
     "name": "stderr",
     "output_type": "stream",
     "text": [
      "2024-03-18 22:00:22.075027: W tensorflow/core/framework/local_rendezvous.cc:404] Local rendezvous is aborting with status: OUT_OF_RANGE: End of sequence\n"
     ]
    }
   ],
   "source": [
    "for element in train_data[0].take(1):  # Take one batch from the dataset\n",
    "    for item in element:\n",
    "        print(\"Rank:\", tf.rank(item))"
   ],
   "metadata": {
    "collapsed": false,
    "ExecuteTime": {
     "end_time": "2024-03-18T21:00:22.077307Z",
     "start_time": "2024-03-18T21:00:21.952879Z"
    }
   },
   "id": "cc9b466796c519f8",
   "execution_count": 17
  },
  {
   "cell_type": "markdown",
   "source": [],
   "metadata": {
    "collapsed": false
   },
   "id": "9d364bdaa0fb5da4"
  },
  {
   "cell_type": "code",
   "outputs": [],
   "source": [
    "model.save('models/abcd.keras')"
   ],
   "metadata": {
    "collapsed": false
   },
   "id": "3b4a3febd9fc0257"
  },
  {
   "cell_type": "code",
   "outputs": [],
   "source": [
    "from keras.models import load_model\n",
    "\n",
    "model = load_model('')"
   ],
   "metadata": {
    "collapsed": false
   },
   "id": "5ac051a451d6047f"
  },
  {
   "cell_type": "code",
   "outputs": [],
   "source": [
    "# import os\n",
    "# from tqdm import tqdm\n",
    "# \n",
    "# avatar_count = 79999\n",
    "# \n",
    "# for number in tqdm(range(avatar_count)):\n",
    "#     if number == 5:\n",
    "#         continue\n",
    "#     file = (tuple(np.load(f\"../Surreact-APose/train/bodymeasurements/Avatar_{number:06d}.npy\", allow_pickle=True)))\n",
    "#     measurements = []\n",
    "#     for value in file:\n",
    "#         measurements.append(float(value))\n",
    "#     np.save(f\"../Surreact-APose/train/measurements/Avatar_{number:06d}\", measurements)        "
   ],
   "metadata": {
    "collapsed": false
   },
   "id": "6aa9583a841fdb3f",
   "execution_count": null
  }
 ],
 "metadata": {
  "kernelspec": {
   "display_name": "Python 3",
   "language": "python",
   "name": "python3"
  },
  "language_info": {
   "codemirror_mode": {
    "name": "ipython",
    "version": 2
   },
   "file_extension": ".py",
   "mimetype": "text/x-python",
   "name": "python",
   "nbconvert_exporter": "python",
   "pygments_lexer": "ipython2",
   "version": "2.7.6"
  }
 },
 "nbformat": 4,
 "nbformat_minor": 5
}
