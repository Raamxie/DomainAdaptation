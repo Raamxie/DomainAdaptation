{
 "cells": [
  {
   "cell_type": "code",
   "execution_count": null,
   "id": "initial_id",
   "metadata": {
    "collapsed": true
   },
   "outputs": [],
   "source": [
    "import numpy as np\n",
    "from keras.models import Model\n",
    "from keras.layers import Input, Dense, Conv2D, MaxPooling2D, Flatten\n",
    "\n",
    "inp = Input(shape=(240, 320, 1))\n",
    "\n",
    "n_filters = 512\n",
    "max_p = inp\n",
    "\n",
    "for _ in range(3):\n",
    "    conv = Conv2D(filters=n_filters, kernel_size=5, activation='relu')(max_p)\n",
    "    max_p = MaxPooling2D(pool_size=(2, 2))(conv)\n",
    "    \n",
    "    n_filters //= 2\n",
    "\n",
    "conv = Conv2D(filters=n_filters, kernel_size=3, activation='relu')(max_p)\n",
    "max_p = MaxPooling2D(pool_size=(2, 2))(conv)\n",
    "\n",
    "flatten = Flatten()(max_p)\n",
    "dense = Dense(128, activation='relu')(flatten)\n",
    "# out = Dense(14, activation='relu')(dense)\n",
    "\n",
    "head_out = Dense(1, activation='relu', name='head_out')(dense)\n",
    "neck_out = Dense(1, activation='relu', name='neck_out')(dense)\n",
    "sts_out = Dense(1, activation='relu', name='sts_out')(dense)\n",
    "arm_out = Dense(1, activation='relu', name='arm_out')(dense)\n",
    "stw_out = Dense(1, activation='relu', name='shoulder_to_wrist_out')(dense)\n",
    "torso_out = Dense(1, activation='relu', name='torso_out')(dense)\n",
    "bicep_out = Dense(1, activation='relu', name='bicep_out')(dense)\n",
    "wrist_out = Dense(1, activation='relu', name='wrist_out')(dense)\n",
    "chest_out = Dense(1, activation='relu', name='chest_out')(dense)\n",
    "waist_out = Dense(1, activation='relu', name='waist_out')(dense)\n",
    "pelvis_out = Dense(1, activation='relu', name='pelvis_out')(dense)\n",
    "leg_out = Dense(1, activation='relu', name='leg_out')(dense)\n",
    "inner_leg_out = Dense(1, activation='relu', name='inner_leg_out')(dense)\n",
    "thigh_out = Dense(1, activation='relu', name='thigh_out')(dense)\n",
    "knee_out = Dense(1, activation='relu', name='knee_out')(dense)\n",
    "calf_out = Dense(1, activation='relu', name='calf_out')(dense)\n",
    "\n",
    "\n",
    "model = Model(\n",
    "    inputs=inp,\n",
    "    outputs=[\n",
    "        head_out,\n",
    "        neck_out,\n",
    "        sts_out,\n",
    "        arm_out,\n",
    "        stw_out,\n",
    "        torso_out,\n",
    "        bicep_out,\n",
    "        wrist_out,\n",
    "        chest_out,\n",
    "        waist_out,\n",
    "        pelvis_out,\n",
    "        leg_out,\n",
    "        inner_leg_out,\n",
    "        thigh_out,\n",
    "        knee_out,\n",
    "        calf_out\n",
    "    ],\n",
    "    name='conv_bodies'\n",
    ")\n",
    "\n",
    "model.summary()"
   ]
  },
  {
   "cell_type": "code",
   "outputs": [],
   "source": [
    "from keras.utils import plot_model\n",
    "\n",
    "plot_model(model, to_file='model.png', show_shapes=True, show_layer_names=True, show_layer_activations=True)"
   ],
   "metadata": {
    "collapsed": false
   },
   "id": "af0839d4a7637864",
   "execution_count": null
  },
  {
   "cell_type": "code",
   "outputs": [],
   "source": [
    "#FOR BODY_M DATASET\n",
    "# import csv\n",
    "# \n",
    "# with open('../bodym-dataset/train/subject_to_photo_map.csv', 'r') as f:\n",
    "#     reader = csv.reader(f)\n",
    "#     uuid_raw = list(reader)\n",
    "# from collections import defaultdict\n",
    "# \n",
    "# uuid_map = defaultdict(list)\n",
    "# \n",
    "# for subject_id, photo_id in uuid_raw[1:]:\n",
    "#     uuid_map[subject_id].append(photo_id)\n",
    "# image_data = {}\n",
    "# \n",
    "# with open('../bodym-dataset/train/measurements.csv', 'r') as f:\n",
    "#     reader = csv.reader(f)\n",
    "#     \n",
    "#     for line in reader:\n",
    "#         subject_id = line[0]\n",
    "#         \n",
    "#         \n",
    "#         for image_id in uuid_map[subject_id]:\n",
    "#             image_data[image_id] = np.array(list(map(float, line[1:])))\n",
    "#             \n",
    "# import os\n",
    "# \n",
    "# import cv2\n",
    "# from tqdm import tqdm\n",
    "# \n",
    "# raw_dataset = []\n",
    "# \n",
    "# for image_id in tqdm(image_data):\n",
    "#     img = cv2.imread(os.path.join('../bodym-dataset/train/mask', image_id + '.png'), cv2.IMREAD_GRAYSCALE)\n",
    "#     img = cv2.resize(img, (180, 240))\n",
    "#     \n",
    "#     raw_dataset.append((\n",
    "#         np.expand_dims(img, 2), \n",
    "#         image_data[image_id])\n",
    "#     )"
   ],
   "metadata": {
    "collapsed": false
   },
   "id": "8f203e73173880a3",
   "execution_count": 0
  },
  {
   "cell_type": "code",
   "outputs": [],
   "source": [
    "import cv2\n",
    "import os\n",
    "from tqdm import tqdm\n",
    "\n",
    "avatar_count = 79999\n",
    "raw_dataset = {}\n",
    "\n",
    "for number in tqdm(range(avatar_count)):\n",
    "    if number == 5:\n",
    "        continue\n",
    "    source_image = cv2.imread(os.path.join(f\"../Surreact-APose/train/imgs_nobg_front/Avatar_{number:06d}.png\"), cv2.IMREAD_GRAYSCALE)\n",
    "    silhouette = (source_image > 1).astype(np.bool_)\n",
    "    raw_dataset[number] = (tuple(np.load(f\"../Surreact-APose/train/bodymeasurements/Avatar_{number:06d}.npy\", allow_pickle=True)), silhouette)"
   ],
   "metadata": {
    "collapsed": false
   },
   "id": "418d414a41d1808f",
   "execution_count": null
  },
  {
   "cell_type": "code",
   "outputs": [],
   "source": [
    "X, y_true = map(np.array, zip(*raw_dataset))"
   ],
   "metadata": {
    "collapsed": false
   },
   "id": "2fc2890fd3c093a6",
   "execution_count": null
  },
  {
   "cell_type": "code",
   "outputs": [],
   "source": [
    "(\n",
    "    y_true_head, y_true_neck, y_true_sts,y_true_arm, y_true_stw, y_true_torso, y_true_bicep, y_true_wrist, y_true_chest, y_true_waist, y_true_pelvis, y_true_leg, y_true_inner_leg, y_true_thigh, y_true_knee, y_true_calf\n",
    ") = np.hsplit(y_true, 16)"
   ],
   "metadata": {
    "collapsed": false
   },
   "id": "9b3dd771eaf3511f",
   "execution_count": null
  },
  {
   "cell_type": "code",
   "outputs": [],
   "source": [
    "from keras.optimizers import Adam\n",
    "from keras.callbacks import TensorBoard\n",
    "\n",
    "model.compile(\n",
    "    optimizer=Adam(),\n",
    "    loss={\n",
    "        'head_out': 'mse',\n",
    "        'neck_out': 'mse',\n",
    "        'shoulder_to_shoulder_out': 'mse',\n",
    "        'arm_out': 'mse',\n",
    "        'shoulder_to_wrist_out': 'mse',\n",
    "        'torso_out': 'mse',\n",
    "        'bicep_out': 'mse',\n",
    "        'wrist_out': 'mse',\n",
    "        'chest_out': 'mse',\n",
    "        'waist_out': 'mse',\n",
    "        'pelvis_out': 'mse',\n",
    "        'leg_out': 'mse',\n",
    "        'inner_leg_out': 'mse',\n",
    "        'thigh_out': 'mse',\n",
    "        'knee_out': 'mse',\n",
    "        'calf_out': 'mse'\n",
    "    },\n",
    "    metrics={\n",
    "        'head_out': ['mae'],\n",
    "        'neck_out': ['mae'],\n",
    "        'shoulder_to_shoulder _out': ['mae'],\n",
    "        'arm_out': ['mae'],\n",
    "        'shoulder_to_wrist_out': ['mae'],\n",
    "        'torso_out': ['mae'],\n",
    "        'bicep_out': ['mae'],\n",
    "        'wrist_out': ['mae'],\n",
    "        'chest_out': ['mae'],\n",
    "        'waist_out': ['mae'],\n",
    "        'pelvis_out': ['mae'],\n",
    "        'leg_out': ['mae'],\n",
    "        'inner_leg_out': ['mae'],\n",
    "        'thigh_out': ['mae'],\n",
    "        'knee_out': ['mae'],\n",
    "        'calf_out': ['mae']\n",
    "    },\n",
    ")\n",
    "\n",
    "model.fit(\n",
    "    x=X,\n",
    "    y={\n",
    "        'head_out': y_true_head,\n",
    "        'neck_out': y_true_neck,\n",
    "        'shoulder_to_shoulder_out': y_true_sts,\n",
    "        'arm_out': y_true_arm,\n",
    "        'shoulder_to_wrist_out': y_true_stw,\n",
    "        'torso_out': y_true_torso,\n",
    "        'bicep_out': y_true_bicep,\n",
    "        'wrist_out': y_true_wrist,\n",
    "        'chest_out': y_true_chest,\n",
    "        'waist_out': y_true_waist,\n",
    "        'pelvis_out': y_true_pelvis,\n",
    "        'leg_out': y_true_leg,\n",
    "        'inner_leg_out': y_true_inner_leg,\n",
    "        'thigh_out': y_true_thigh,\n",
    "        'knee_out': y_true_knee,\n",
    "        'calf_out': y_true_calf\n",
    "    },\n",
    "    batch_size=8,\n",
    "    epochs=10,\n",
    "    validation_split=0.2,\n",
    "    shuffle=True,\n",
    "    callbacks=[TensorBoard(write_graph=False)]\n",
    ")"
   ],
   "metadata": {
    "collapsed": false
   },
   "id": "e2e37a391e152295",
   "execution_count": null
  },
  {
   "cell_type": "code",
   "outputs": [],
   "source": [
    "model.save('models/abcd.keras')"
   ],
   "metadata": {
    "collapsed": false
   },
   "id": "3b4a3febd9fc0257"
  },
  {
   "cell_type": "code",
   "outputs": [],
   "source": [
    "from keras.models import load_model\n",
    "\n",
    "model = load_model('')"
   ],
   "metadata": {
    "collapsed": false
   },
   "id": "5ac051a451d6047f"
  }
 ],
 "metadata": {
  "kernelspec": {
   "display_name": "Python 3",
   "language": "python",
   "name": "python3"
  },
  "language_info": {
   "codemirror_mode": {
    "name": "ipython",
    "version": 2
   },
   "file_extension": ".py",
   "mimetype": "text/x-python",
   "name": "python",
   "nbconvert_exporter": "python",
   "pygments_lexer": "ipython2",
   "version": "2.7.6"
  }
 },
 "nbformat": 4,
 "nbformat_minor": 5
}
